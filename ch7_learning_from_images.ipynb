{
  "nbformat": 4,
  "nbformat_minor": 0,
  "metadata": {
    "colab": {
      "name": "ch7_learning_from_images.ipynb",
      "provenance": [],
      "collapsed_sections": [],
      "authorship_tag": "ABX9TyNcmVof55w6rn8kkh59WDcO",
      "include_colab_link": true
    },
    "kernelspec": {
      "name": "python3",
      "display_name": "Python 3"
    },
    "accelerator": "GPU",
    "widgets": {
      "application/vnd.jupyter.widget-state+json": {
        "d0f31d93a2a34ee4a5b770718f87451f": {
          "model_module": "@jupyter-widgets/controls",
          "model_name": "HBoxModel",
          "state": {
            "_view_name": "HBoxView",
            "_dom_classes": [],
            "_model_name": "HBoxModel",
            "_view_module": "@jupyter-widgets/controls",
            "_model_module_version": "1.5.0",
            "_view_count": null,
            "_view_module_version": "1.5.0",
            "box_style": "",
            "layout": "IPY_MODEL_26900e6da5fa4925bc7516dd4fa16fe0",
            "_model_module": "@jupyter-widgets/controls",
            "children": [
              "IPY_MODEL_ab3fcb9bbdf348c7977c45ca22d7a4b0",
              "IPY_MODEL_b879b817e820406e80fc1279901d1ff1"
            ]
          }
        },
        "26900e6da5fa4925bc7516dd4fa16fe0": {
          "model_module": "@jupyter-widgets/base",
          "model_name": "LayoutModel",
          "state": {
            "_view_name": "LayoutView",
            "grid_template_rows": null,
            "right": null,
            "justify_content": null,
            "_view_module": "@jupyter-widgets/base",
            "overflow": null,
            "_model_module_version": "1.2.0",
            "_view_count": null,
            "flex_flow": null,
            "width": null,
            "min_width": null,
            "border": null,
            "align_items": null,
            "bottom": null,
            "_model_module": "@jupyter-widgets/base",
            "top": null,
            "grid_column": null,
            "overflow_y": null,
            "overflow_x": null,
            "grid_auto_flow": null,
            "grid_area": null,
            "grid_template_columns": null,
            "flex": null,
            "_model_name": "LayoutModel",
            "justify_items": null,
            "grid_row": null,
            "max_height": null,
            "align_content": null,
            "visibility": null,
            "align_self": null,
            "height": null,
            "min_height": null,
            "padding": null,
            "grid_auto_rows": null,
            "grid_gap": null,
            "max_width": null,
            "order": null,
            "_view_module_version": "1.2.0",
            "grid_template_areas": null,
            "object_position": null,
            "object_fit": null,
            "grid_auto_columns": null,
            "margin": null,
            "display": null,
            "left": null
          }
        },
        "ab3fcb9bbdf348c7977c45ca22d7a4b0": {
          "model_module": "@jupyter-widgets/controls",
          "model_name": "FloatProgressModel",
          "state": {
            "_view_name": "ProgressView",
            "style": "IPY_MODEL_7b77d30ac0eb4e01a3c55b4119b8c868",
            "_dom_classes": [],
            "description": "",
            "_model_name": "FloatProgressModel",
            "bar_style": "info",
            "max": 1,
            "_view_module": "@jupyter-widgets/controls",
            "_model_module_version": "1.5.0",
            "value": 1,
            "_view_count": null,
            "_view_module_version": "1.5.0",
            "orientation": "horizontal",
            "min": 0,
            "description_tooltip": null,
            "_model_module": "@jupyter-widgets/controls",
            "layout": "IPY_MODEL_5c38326e622a47fdb74e267e23dcd241"
          }
        },
        "b879b817e820406e80fc1279901d1ff1": {
          "model_module": "@jupyter-widgets/controls",
          "model_name": "HTMLModel",
          "state": {
            "_view_name": "HTMLView",
            "style": "IPY_MODEL_c89f5708a8e34710ad7a1177fff391ec",
            "_dom_classes": [],
            "description": "",
            "_model_name": "HTMLModel",
            "placeholder": "​",
            "_view_module": "@jupyter-widgets/controls",
            "_model_module_version": "1.5.0",
            "value": " 170500096/? [00:20&lt;00:00, 34086733.88it/s]",
            "_view_count": null,
            "_view_module_version": "1.5.0",
            "description_tooltip": null,
            "_model_module": "@jupyter-widgets/controls",
            "layout": "IPY_MODEL_e5cde69a0005476ba98514aa7386efbc"
          }
        },
        "7b77d30ac0eb4e01a3c55b4119b8c868": {
          "model_module": "@jupyter-widgets/controls",
          "model_name": "ProgressStyleModel",
          "state": {
            "_view_name": "StyleView",
            "_model_name": "ProgressStyleModel",
            "description_width": "initial",
            "_view_module": "@jupyter-widgets/base",
            "_model_module_version": "1.5.0",
            "_view_count": null,
            "_view_module_version": "1.2.0",
            "bar_color": null,
            "_model_module": "@jupyter-widgets/controls"
          }
        },
        "5c38326e622a47fdb74e267e23dcd241": {
          "model_module": "@jupyter-widgets/base",
          "model_name": "LayoutModel",
          "state": {
            "_view_name": "LayoutView",
            "grid_template_rows": null,
            "right": null,
            "justify_content": null,
            "_view_module": "@jupyter-widgets/base",
            "overflow": null,
            "_model_module_version": "1.2.0",
            "_view_count": null,
            "flex_flow": null,
            "width": null,
            "min_width": null,
            "border": null,
            "align_items": null,
            "bottom": null,
            "_model_module": "@jupyter-widgets/base",
            "top": null,
            "grid_column": null,
            "overflow_y": null,
            "overflow_x": null,
            "grid_auto_flow": null,
            "grid_area": null,
            "grid_template_columns": null,
            "flex": null,
            "_model_name": "LayoutModel",
            "justify_items": null,
            "grid_row": null,
            "max_height": null,
            "align_content": null,
            "visibility": null,
            "align_self": null,
            "height": null,
            "min_height": null,
            "padding": null,
            "grid_auto_rows": null,
            "grid_gap": null,
            "max_width": null,
            "order": null,
            "_view_module_version": "1.2.0",
            "grid_template_areas": null,
            "object_position": null,
            "object_fit": null,
            "grid_auto_columns": null,
            "margin": null,
            "display": null,
            "left": null
          }
        },
        "c89f5708a8e34710ad7a1177fff391ec": {
          "model_module": "@jupyter-widgets/controls",
          "model_name": "DescriptionStyleModel",
          "state": {
            "_view_name": "StyleView",
            "_model_name": "DescriptionStyleModel",
            "description_width": "",
            "_view_module": "@jupyter-widgets/base",
            "_model_module_version": "1.5.0",
            "_view_count": null,
            "_view_module_version": "1.2.0",
            "_model_module": "@jupyter-widgets/controls"
          }
        },
        "e5cde69a0005476ba98514aa7386efbc": {
          "model_module": "@jupyter-widgets/base",
          "model_name": "LayoutModel",
          "state": {
            "_view_name": "LayoutView",
            "grid_template_rows": null,
            "right": null,
            "justify_content": null,
            "_view_module": "@jupyter-widgets/base",
            "overflow": null,
            "_model_module_version": "1.2.0",
            "_view_count": null,
            "flex_flow": null,
            "width": null,
            "min_width": null,
            "border": null,
            "align_items": null,
            "bottom": null,
            "_model_module": "@jupyter-widgets/base",
            "top": null,
            "grid_column": null,
            "overflow_y": null,
            "overflow_x": null,
            "grid_auto_flow": null,
            "grid_area": null,
            "grid_template_columns": null,
            "flex": null,
            "_model_name": "LayoutModel",
            "justify_items": null,
            "grid_row": null,
            "max_height": null,
            "align_content": null,
            "visibility": null,
            "align_self": null,
            "height": null,
            "min_height": null,
            "padding": null,
            "grid_auto_rows": null,
            "grid_gap": null,
            "max_width": null,
            "order": null,
            "_view_module_version": "1.2.0",
            "grid_template_areas": null,
            "object_position": null,
            "object_fit": null,
            "grid_auto_columns": null,
            "margin": null,
            "display": null,
            "left": null
          }
        }
      }
    }
  },
  "cells": [
    {
      "cell_type": "markdown",
      "metadata": {
        "id": "view-in-github",
        "colab_type": "text"
      },
      "source": [
        "<a href=\"https://colab.research.google.com/github/stefanocostantini/pytorch-book/blob/master/ch7_learning_from_images.ipynb\" target=\"_parent\"><img src=\"https://colab.research.google.com/assets/colab-badge.svg\" alt=\"Open In Colab\"/></a>"
      ]
    },
    {
      "cell_type": "markdown",
      "metadata": {
        "id": "tY7oV60oF1yb",
        "colab_type": "text"
      },
      "source": [
        "## Data"
      ]
    },
    {
      "cell_type": "markdown",
      "metadata": {
        "id": "Z9LgQNvLGB5G",
        "colab_type": "text"
      },
      "source": [
        "We use CIFAR-10. CIFAR-10 consists of 60,000 tiny 32 × 32 color (RGB) images, labeled with an integer corresponding to 1 of 10 classes: airplane (0), automobile (1), bird (2), cat (3), deer (4), dog (5), frog (6), horse (7), ship (8), and truck (9).\n",
        "\n",
        "We use the `torchvision` module to automatically download the dataset as a collection of PyTorch tensors."
      ]
    },
    {
      "cell_type": "code",
      "metadata": {
        "id": "-7MqJpPuK1Ry",
        "colab_type": "code",
        "colab": {}
      },
      "source": [
        "import torch"
      ],
      "execution_count": 1,
      "outputs": []
    },
    {
      "cell_type": "code",
      "metadata": {
        "id": "WDagtLxBFjvv",
        "colab_type": "code",
        "colab": {
          "base_uri": "https://localhost:8080/",
          "height": 101,
          "referenced_widgets": [
            "d0f31d93a2a34ee4a5b770718f87451f",
            "26900e6da5fa4925bc7516dd4fa16fe0",
            "ab3fcb9bbdf348c7977c45ca22d7a4b0",
            "b879b817e820406e80fc1279901d1ff1",
            "7b77d30ac0eb4e01a3c55b4119b8c868",
            "5c38326e622a47fdb74e267e23dcd241",
            "c89f5708a8e34710ad7a1177fff391ec",
            "e5cde69a0005476ba98514aa7386efbc"
          ]
        },
        "outputId": "99136342-005c-4d00-8651-7f84c9419744"
      },
      "source": [
        "## Download files locally\n",
        "!mkdir /content/cifar10/\n",
        "from torchvision import datasets\n",
        "data_path_for_saving = '/content/cifar10/'\n",
        "cifar10 = datasets.CIFAR10(data_path_for_saving, train=True, download=True)\n",
        "cifar10_val = datasets.CIFAR10(data_path_for_saving, train=False, download=True)"
      ],
      "execution_count": 2,
      "outputs": [
        {
          "output_type": "stream",
          "text": [
            "Downloading https://www.cs.toronto.edu/~kriz/cifar-10-python.tar.gz to /content/cifar10/cifar-10-python.tar.gz\n"
          ],
          "name": "stdout"
        },
        {
          "output_type": "display_data",
          "data": {
            "application/vnd.jupyter.widget-view+json": {
              "model_id": "d0f31d93a2a34ee4a5b770718f87451f",
              "version_minor": 0,
              "version_major": 2
            },
            "text/plain": [
              "HBox(children=(FloatProgress(value=1.0, bar_style='info', max=1.0), HTML(value='')))"
            ]
          },
          "metadata": {
            "tags": []
          }
        },
        {
          "output_type": "stream",
          "text": [
            "Extracting /content/cifar10/cifar-10-python.tar.gz to /content/cifar10/\n",
            "Files already downloaded and verified\n"
          ],
          "name": "stdout"
        }
      ]
    },
    {
      "cell_type": "markdown",
      "metadata": {
        "id": "jjTJrZ3qIVJ9",
        "colab_type": "text"
      },
      "source": [
        "The dataset is returned as a subclass of `torch.utils.data.Dataset`. But what does this mean in practice?\n"
      ]
    },
    {
      "cell_type": "markdown",
      "metadata": {
        "id": "2EfNJLl9Nlnl",
        "colab_type": "text"
      },
      "source": [
        "### Dataset class"
      ]
    },
    {
      "cell_type": "markdown",
      "metadata": {
        "id": "XAUPE8BQNgnz",
        "colab_type": "text"
      },
      "source": [
        "The `Dataset` is an object which implements two methods: `__len__` and `__getitem__`. The former gives us the length of the dataset, while the latter gives us the item (sample and corresponding label)\n",
        "\n",
        "This means we can do the following:\n"
      ]
    },
    {
      "cell_type": "code",
      "metadata": {
        "id": "R59ZYwNBHmMf",
        "colab_type": "code",
        "colab": {
          "base_uri": "https://localhost:8080/",
          "height": 35
        },
        "outputId": "0c2b2cc2-2984-4943-d8ce-ed3d0b8dbc8a"
      },
      "source": [
        "# How many items?\n",
        "len(cifar10)"
      ],
      "execution_count": 3,
      "outputs": [
        {
          "output_type": "execute_result",
          "data": {
            "text/plain": [
              "50000"
            ]
          },
          "metadata": {
            "tags": []
          },
          "execution_count": 3
        }
      ]
    },
    {
      "cell_type": "code",
      "metadata": {
        "id": "86db7nZXIJty",
        "colab_type": "code",
        "colab": {
          "base_uri": "https://localhost:8080/",
          "height": 69
        },
        "outputId": "ed153f71-f28a-4c6a-e14d-4cb6ac6571f2"
      },
      "source": [
        "# Show me item 100\n",
        "class_names = ['airplane', 'automobile', 'bird', 'cat', 'deer', 'dog', 'frog', \n",
        "               'horse', 'truck']\n",
        "item, label = cifar10[99]\n",
        "item, label, class_names[label]"
      ],
      "execution_count": 4,
      "outputs": [
        {
          "output_type": "execute_result",
          "data": {
            "text/plain": [
              "(<PIL.Image.Image image mode=RGB size=32x32 at 0x7FD63F239400>,\n",
              " 1,\n",
              " 'automobile')"
            ]
          },
          "metadata": {
            "tags": []
          },
          "execution_count": 4
        }
      ]
    },
    {
      "cell_type": "code",
      "metadata": {
        "id": "PCXNQ3diMbbL",
        "colab_type": "code",
        "colab": {
          "base_uri": "https://localhost:8080/",
          "height": 266
        },
        "outputId": "c7b879ab-32e5-4f0f-b3e8-370e04b5b1e6"
      },
      "source": [
        "from matplotlib import pyplot as plt\n",
        "plt.imshow(item)\n",
        "plt.show()"
      ],
      "execution_count": 5,
      "outputs": [
        {
          "output_type": "display_data",
          "data": {
            "image/png": "[encoded data removed]",
            "text/plain": [
              "<Figure size 432x288 with 1 Axes>"
            ]
          },
          "metadata": {
            "tags": [],
            "needs_background": "light"
          }
        }
      ]
    },
    {
      "cell_type": "markdown",
      "metadata": {
        "id": "bVpagGQEN0FE",
        "colab_type": "text"
      },
      "source": [
        "## Dataset transforms"
      ]
    },
    {
      "cell_type": "markdown",
      "metadata": {
        "id": "3yXYVy-COvm7",
        "colab_type": "text"
      },
      "source": [
        "We need to convert the image into a PyTorch tensor before it can be us. \n",
        "\n",
        "For this, we use the `torchvision.transforms` module, which defines a set of composable, function-like objects that can be passed as an argument to a `torchvision` dataset like `datasets.CIFAR10`\n",
        "\n",
        "These transformations are done to the data after it is loaded, but before it is returned by `__getitem__`"
      ]
    },
    {
      "cell_type": "code",
      "metadata": {
        "id": "1aoA3vU0M6sW",
        "colab_type": "code",
        "colab": {
          "base_uri": "https://localhost:8080/",
          "height": 745
        },
        "outputId": "a8d8d150-0a87-48f3-f6a6-2de8929e9469"
      },
      "source": [
        "from torchvision import transforms\n",
        "dir(transforms)"
      ],
      "execution_count": 6,
      "outputs": [
        {
          "output_type": "execute_result",
          "data": {
            "text/plain": [
              "['CenterCrop',\n",
              " 'ColorJitter',\n",
              " 'Compose',\n",
              " 'ConvertImageDtype',\n",
              " 'FiveCrop',\n",
              " 'Grayscale',\n",
              " 'Lambda',\n",
              " 'LinearTransformation',\n",
              " 'Normalize',\n",
              " 'PILToTensor',\n",
              " 'Pad',\n",
              " 'RandomAffine',\n",
              " 'RandomApply',\n",
              " 'RandomChoice',\n",
              " 'RandomCrop',\n",
              " 'RandomErasing',\n",
              " 'RandomGrayscale',\n",
              " 'RandomHorizontalFlip',\n",
              " 'RandomOrder',\n",
              " 'RandomPerspective',\n",
              " 'RandomResizedCrop',\n",
              " 'RandomRotation',\n",
              " 'RandomSizedCrop',\n",
              " 'RandomVerticalFlip',\n",
              " 'Resize',\n",
              " 'Scale',\n",
              " 'TenCrop',\n",
              " 'ToPILImage',\n",
              " 'ToTensor',\n",
              " '__builtins__',\n",
              " '__cached__',\n",
              " '__doc__',\n",
              " '__file__',\n",
              " '__loader__',\n",
              " '__name__',\n",
              " '__package__',\n",
              " '__path__',\n",
              " '__spec__',\n",
              " 'functional',\n",
              " 'functional_pil',\n",
              " 'functional_tensor',\n",
              " 'transforms']"
            ]
          },
          "metadata": {
            "tags": []
          },
          "execution_count": 6
        }
      ]
    },
    {
      "cell_type": "markdown",
      "metadata": {
        "id": "bRNFPbPOrGiD",
        "colab_type": "text"
      },
      "source": [
        "In this case, were are interested in `ToTensor` which converts numpy arrays and PIL images to tensors with dimensions `C x H x W` (channels, height and width). So for example:"
      ]
    },
    {
      "cell_type": "code",
      "metadata": {
        "id": "R9ccYr_QQgcV",
        "colab_type": "code",
        "colab": {
          "base_uri": "https://localhost:8080/",
          "height": 35
        },
        "outputId": "18da1adf-4c34-4a9f-f952-6561d8fe4026"
      },
      "source": [
        "to_tensor = transforms.ToTensor()\n",
        "item_t = to_tensor(item)\n",
        "item_t.shape"
      ],
      "execution_count": 7,
      "outputs": [
        {
          "output_type": "execute_result",
          "data": {
            "text/plain": [
              "torch.Size([3, 32, 32])"
            ]
          },
          "metadata": {
            "tags": []
          },
          "execution_count": 7
        }
      ]
    },
    {
      "cell_type": "markdown",
      "metadata": {
        "id": "eaSUOK7ErlVr",
        "colab_type": "text"
      },
      "source": [
        "Let's now do this for the whole dataset"
      ]
    },
    {
      "cell_type": "code",
      "metadata": {
        "id": "eMIAfjo6rg64",
        "colab_type": "code",
        "colab": {}
      },
      "source": [
        "tensor_cifar10 = datasets.CIFAR10(data_path_for_saving, train=True, download=False,\n",
        "                                  transform=transforms.ToTensor())\n",
        "tensor_cifar10_val = datasets.CIFAR10(data_path_for_saving, train=False, download=False,\n",
        "                                      transform=transforms.ToTensor())"
      ],
      "execution_count": 8,
      "outputs": []
    },
    {
      "cell_type": "code",
      "metadata": {
        "id": "_QGBwb9FsLCq",
        "colab_type": "code",
        "colab": {
          "base_uri": "https://localhost:8080/",
          "height": 35
        },
        "outputId": "feedb5bf-57be-41af-ecbb-9b1f0c1f363a"
      },
      "source": [
        "# We now get the tensor instead of the image\n",
        "item_t, _ = tensor_cifar10[99]\n",
        "type(item_t)"
      ],
      "execution_count": 9,
      "outputs": [
        {
          "output_type": "execute_result",
          "data": {
            "text/plain": [
              "torch.Tensor"
            ]
          },
          "metadata": {
            "tags": []
          },
          "execution_count": 9
        }
      ]
    },
    {
      "cell_type": "code",
      "metadata": {
        "id": "gS4utvb2soUc",
        "colab_type": "code",
        "colab": {
          "base_uri": "https://localhost:8080/",
          "height": 35
        },
        "outputId": "32876d93-f9e3-4c32-8e07-ea76241f184e"
      },
      "source": [
        "item_t.shape, item_t.dtype"
      ],
      "execution_count": 10,
      "outputs": [
        {
          "output_type": "execute_result",
          "data": {
            "text/plain": [
              "(torch.Size([3, 32, 32]), torch.float32)"
            ]
          },
          "metadata": {
            "tags": []
          },
          "execution_count": 10
        }
      ]
    },
    {
      "cell_type": "code",
      "metadata": {
        "id": "wftyhfBysuH3",
        "colab_type": "code",
        "colab": {
          "base_uri": "https://localhost:8080/",
          "height": 266
        },
        "outputId": "0a7e89ff-1dbb-440c-8813-f94979924f23"
      },
      "source": [
        "# Let's print it now, bearing in mind that matplotlib need height and width first,\n",
        "# and the number of channels later\n",
        "plt.imshow(item_t.permute(1,2,0))\n",
        "plt.show()"
      ],
      "execution_count": 11,
      "outputs": [
        {
          "output_type": "display_data",
          "data": {
            "image/png": "[encoded data removed]",
            "text/plain": [
              "<Figure size 432x288 with 1 Axes>"
            ]
          },
          "metadata": {
            "tags": [],
            "needs_background": "light"
          }
        }
      ]
    },
    {
      "cell_type": "markdown",
      "metadata": {
        "id": "kt1UhpLwI1iQ",
        "colab_type": "text"
      },
      "source": [
        "In addition to converting the images arrays to tensors, another useful transformation to apply is a **normalisation**, to ensure all values are within similar ranges (subtract mean and divide by standard deviation)_ \n",
        "\n",
        "For this, we can use the `Normalize` transform, but we need to know the means and standard deviations of the three channels. We do this below, then applying it to obtain a normalised dataset of tensor."
      ]
    },
    {
      "cell_type": "code",
      "metadata": {
        "id": "KDB5T4e5s-PZ",
        "colab_type": "code",
        "colab": {
          "base_uri": "https://localhost:8080/",
          "height": 35
        },
        "outputId": "6512f54f-d854-400b-9f63-376ff9282e2a"
      },
      "source": [
        "# First we put all the photos together into the same stack. The resulting tensor\n",
        "# will have 3 * 32 * 32 * 50000 dimensions.\n",
        "imgs = torch.stack([item_t for itema_t, _ in tensor_cifar10], dim = 3)\n",
        "imgs.shape"
      ],
      "execution_count": 12,
      "outputs": [
        {
          "output_type": "execute_result",
          "data": {
            "text/plain": [
              "torch.Size([3, 32, 32, 50000])"
            ]
          },
          "metadata": {
            "tags": []
          },
          "execution_count": 12
        }
      ]
    },
    {
      "cell_type": "code",
      "metadata": {
        "id": "hi33feUsK8d4",
        "colab_type": "code",
        "colab": {
          "base_uri": "https://localhost:8080/",
          "height": 52
        },
        "outputId": "88169f54-39a3-4515-f0bc-6320fa18018b"
      },
      "source": [
        "# We now want to calculate mean and st. dev for the colour channels. \n",
        "# Then we need to change the dimensions of the tensor. In this case, we want\n",
        "# to keep the information for the three channels, but we want to combine the remaining\n",
        "# information into a single dimension.\n",
        "reshaped = imgs.view(3,-1) # keep the first dimension, squash all others into a single dim\n",
        "print(reshaped.shape)\n",
        "\n",
        "means = reshaped.mean(dim=1) # mean of the first dimension (i.e. the three channels)\n",
        "stds = reshaped.std(dim=1) # std of the first dimension (i.e. the three channel)\n",
        "means, stds"
      ],
      "execution_count": 13,
      "outputs": [
        {
          "output_type": "stream",
          "text": [
            "torch.Size([3, 51200000])\n"
          ],
          "name": "stdout"
        },
        {
          "output_type": "execute_result",
          "data": {
            "text/plain": [
              "(tensor([0.4608, 0.2484, 0.1617]), tensor([0.3043, 0.1605, 0.1529]))"
            ]
          },
          "metadata": {
            "tags": []
          },
          "execution_count": 13
        }
      ]
    },
    {
      "cell_type": "code",
      "metadata": {
        "id": "rAtD5jMaNE0T",
        "colab_type": "code",
        "colab": {}
      },
      "source": [
        "# Now we have the information to do the normalisation, as follows.\n",
        "# Note that we `compose` transformations together\n",
        "transformed_cifar10 = datasets.CIFAR10(data_path_for_saving, train=True, download=False,\n",
        "                                       transform = transforms.Compose([\n",
        "                                          transforms.ToTensor(),\n",
        "                                          transforms.Normalize((means[0], means[1], means[2]),\n",
        "                                                              (stds[0], stds[1], stds[2]))                              \n",
        "                                       ]))\n",
        "\n",
        "transformed_cifar10_val = datasets.CIFAR10(data_path_for_saving, train=False, download=False,\n",
        "                                       transform = transforms.Compose([\n",
        "                                         transforms.ToTensor(),\n",
        "                                         transforms.Normalize((means[0], means[1], means[2]),\n",
        "                                                              (stds[0], stds[1], stds[2]))                              \n",
        "                                       ]))"
      ],
      "execution_count": 14,
      "outputs": []
    },
    {
      "cell_type": "code",
      "metadata": {
        "id": "aysYR48hNE7S",
        "colab_type": "code",
        "colab": {
          "base_uri": "https://localhost:8080/",
          "height": 283
        },
        "outputId": "348981d2-3d61-445b-ad12-3341846e9494"
      },
      "source": [
        "# We can now plot again the same image to see how it looks like after normalisation\n",
        "# (remember we need to change the order of the dimensions)\n",
        "img_t, _ = transformed_cifar10[99]\n",
        "plt.imshow(img_t.permute(1,2,0))\n",
        "plt.show()"
      ],
      "execution_count": 15,
      "outputs": [
        {
          "output_type": "stream",
          "text": [
            "Clipping input data to the valid range for imshow with RGB data ([0..1] for floats or [0..255] for integers).\n"
          ],
          "name": "stderr"
        },
        {
          "output_type": "display_data",
          "data": {
            "image/png": "[encoded data removed]",
            "text/plain": [
              "<Figure size 432x288 with 1 Axes>"
            ]
          },
          "metadata": {
            "tags": [],
            "needs_background": "light"
          }
        }
      ]
    },
    {
      "cell_type": "markdown",
      "metadata": {
        "id": "1GdOt-swRnDi",
        "colab_type": "text"
      },
      "source": [
        "Looks like some information might have been lost, but apparently this is just a artifact of how matplotlib interprets the information. All the original information will be there, just normalised."
      ]
    },
    {
      "cell_type": "markdown",
      "metadata": {
        "id": "G2ScU7ZbVFf1",
        "colab_type": "text"
      },
      "source": [
        "## Model"
      ]
    },
    {
      "cell_type": "markdown",
      "metadata": {
        "id": "QLRJ43JQVNkq",
        "colab_type": "text"
      },
      "source": [
        "## Prepare the data\n",
        "\n",
        "We could create a subclass of `torch.utils.data.Dataset` but in this case the dataset is simpler (though this should be tried at some point). \n",
        "\n",
        "Basically from Cifar10, we want to keep only two classes: birds and airplanes. At the moment these classes have labels 0 and 2, we want to re-labels them to 0 and 1."
      ]
    },
    {
      "cell_type": "code",
      "metadata": {
        "id": "iUSC3CF6M4wq",
        "colab_type": "code",
        "colab": {
          "base_uri": "https://localhost:8080/",
          "height": 191
        },
        "outputId": "cc210872-a459-4c54-9551-80c5b2619478"
      },
      "source": [
        "# We have these classes\n",
        "transformed_cifar10.class_to_idx"
      ],
      "execution_count": 16,
      "outputs": [
        {
          "output_type": "execute_result",
          "data": {
            "text/plain": [
              "{'airplane': 0,\n",
              " 'automobile': 1,\n",
              " 'bird': 2,\n",
              " 'cat': 3,\n",
              " 'deer': 4,\n",
              " 'dog': 5,\n",
              " 'frog': 6,\n",
              " 'horse': 7,\n",
              " 'ship': 8,\n",
              " 'truck': 9}"
            ]
          },
          "metadata": {
            "tags": []
          },
          "execution_count": 16
        }
      ]
    },
    {
      "cell_type": "code",
      "metadata": {
        "id": "mhxjGlFcaOcd",
        "colab_type": "code",
        "colab": {}
      },
      "source": [
        "# We just want to keep class 0 and 2. Remember that the __getitem__ method returns\n",
        "# both the item and its label\n",
        "class_mapping = {0: 0, 2: 1}\n",
        "\n",
        "cifar2 = [(item, class_mapping[label])\n",
        "          for item, label in tensor_cifar10 if label in [0,2]]\n",
        "cifar2_val = [(item, class_mapping[label])\n",
        "          for item, label in tensor_cifar10_val if label in [0,2]] "
      ],
      "execution_count": 17,
      "outputs": []
    },
    {
      "cell_type": "code",
      "metadata": {
        "id": "kPIfPf44acuB",
        "colab_type": "code",
        "colab": {
          "base_uri": "https://localhost:8080/",
          "height": 35
        },
        "outputId": "26714cfe-19a7-4267-a211-45bc1557d8be"
      },
      "source": [
        "# And here are the datasets we need\n",
        "print(len(cifar2), len(cifar2_val))"
      ],
      "execution_count": 18,
      "outputs": [
        {
          "output_type": "stream",
          "text": [
            "10000 2000\n"
          ],
          "name": "stdout"
        }
      ]
    },
    {
      "cell_type": "code",
      "metadata": {
        "id": "VXApy4DcaoaT",
        "colab_type": "code",
        "colab": {
          "base_uri": "https://localhost:8080/",
          "height": 283
        },
        "outputId": "e7173658-1165-41ff-ce18-52628ed460fc"
      },
      "source": [
        "# We have a plane...\n",
        "plt.imshow(cifar2[132][0].permute(1,2,0))\n",
        "plt.show()\n",
        "print(cifar2[132][1]) #label"
      ],
      "execution_count": 19,
      "outputs": [
        {
          "output_type": "display_data",
          "data": {
            "image/png": "[encoded data removed]",
            "text/plain": [
              "<Figure size 432x288 with 1 Axes>"
            ]
          },
          "metadata": {
            "tags": [],
            "needs_background": "light"
          }
        },
        {
          "output_type": "stream",
          "text": [
            "0\n"
          ],
          "name": "stdout"
        }
      ]
    },
    {
      "cell_type": "code",
      "metadata": {
        "id": "EaI80J2zlwO5",
        "colab_type": "code",
        "colab": {
          "base_uri": "https://localhost:8080/",
          "height": 283
        },
        "outputId": "21179721-660d-46f4-944d-2cbaad84ae1b"
      },
      "source": [
        "# ...and we have a bird\n",
        "plt.imshow(cifar2[2][0].permute(1,2,0))\n",
        "plt.show()\n",
        "print(cifar2[2][1]) #label"
      ],
      "execution_count": 20,
      "outputs": [
        {
          "output_type": "display_data",
          "data": {
            "image/png": "[encoded data removed]",
            "text/plain": [
              "<Figure size 432x288 with 1 Axes>"
            ]
          },
          "metadata": {
            "tags": [],
            "needs_background": "light"
          }
        },
        {
          "output_type": "stream",
          "text": [
            "1\n"
          ],
          "name": "stdout"
        }
      ]
    },
    {
      "cell_type": "markdown",
      "metadata": {
        "id": "XgrRKYB-p2sO",
        "colab_type": "text"
      },
      "source": [
        "### Model setup\n",
        "\n",
        "To keep things simple for now, we will process data in 1D. This means that our images with dimensions 3 x 32 x 32, will need to be turned into a 1D tensor with 3072 dimensions. \n",
        "\n",
        "So the model will have a first linear module with 3072 input features, and (arbitrarily) 512 output features. We will add an activation function (`tanh`) in between, to make the model non-linear. \n",
        "\n",
        "We will then have an output layer with has 512 input features. Instead of making it output just one feature, as we would do in a regression problem, we want to get out the respective probabilities of the two classes. We will set the numbers of output features to 2.\n",
        "\n",
        "This means that we would like to have tensors like `tensor([1.0, 0.0])` for airplanes and `tensor([0.0, 1.0])` for birds. In order to get probabilities out, we apply a `softmax` transformation to the output.\n",
        "\n",
        "Here's the model:"
      ]
    },
    {
      "cell_type": "code",
      "metadata": {
        "id": "4Ke_aSdfu2mV",
        "colab_type": "code",
        "colab": {}
      },
      "source": [
        "from torch import nn\n",
        "model = nn.Sequential(\n",
        "    nn.Linear(3072, 512),\n",
        "    nn.Tanh(),\n",
        "    nn.Linear(512, 2),\n",
        "    nn.Softmax(dim=1))"
      ],
      "execution_count": 21,
      "outputs": []
    },
    {
      "cell_type": "code",
      "metadata": {
        "id": "S01Jp3X8n47X",
        "colab_type": "code",
        "colab": {
          "base_uri": "https://localhost:8080/",
          "height": 69
        },
        "outputId": "a544a4f6-d2cb-456f-a59e-366c28afdec8"
      },
      "source": [
        "# As an aside, why dim=1 for the softmax? Because dim=0 would indicate the batch,\n",
        "# so for example, if we want to softmax each item\n",
        "x = torch.tensor([[1.0, 2.0, 3.0],\n",
        "                  [1.0, 2.0, 3.0]])\n",
        "\n",
        "print(x.shape)\n",
        "\n",
        "softmax = nn.Softmax(dim=1)\n",
        "softmax(x)"
      ],
      "execution_count": 22,
      "outputs": [
        {
          "output_type": "stream",
          "text": [
            "torch.Size([2, 3])\n"
          ],
          "name": "stdout"
        },
        {
          "output_type": "execute_result",
          "data": {
            "text/plain": [
              "tensor([[0.0900, 0.2447, 0.6652],\n",
              "        [0.0900, 0.2447, 0.6652]])"
            ]
          },
          "metadata": {
            "tags": []
          },
          "execution_count": 22
        }
      ]
    },
    {
      "cell_type": "markdown",
      "metadata": {
        "id": "FSEyMXc4wZ2U",
        "colab_type": "text"
      },
      "source": [
        "Now that we have the model, let's try to feed it one image to see what we get out. This is not trained, but we can check the extent to which the output looks like what we need.\n"
      ]
    },
    {
      "cell_type": "code",
      "metadata": {
        "id": "1pOPAuz_tcas",
        "colab_type": "code",
        "colab": {
          "base_uri": "https://localhost:8080/",
          "height": 266
        },
        "outputId": "435d4ec4-d6b4-4119-b739-a0c7706a72a6"
      },
      "source": [
        "# First change the dimensions of the image (3 x 32 x 32 = 3072), \n",
        "# adding the batch number in position 0\n",
        "test_image, _ = cifar2[0]\n",
        "plt.imshow(test_image.permute(1,2,0))\n",
        "plt.show()"
      ],
      "execution_count": 23,
      "outputs": [
        {
          "output_type": "display_data",
          "data": {
            "image/png": "[encoded data removed]",
            "text/plain": [
              "<Figure size 432x288 with 1 Axes>"
            ]
          },
          "metadata": {
            "tags": [],
            "needs_background": "light"
          }
        }
      ]
    },
    {
      "cell_type": "code",
      "metadata": {
        "id": "sW2rJ7t1wveu",
        "colab_type": "code",
        "colab": {
          "base_uri": "https://localhost:8080/",
          "height": 35
        },
        "outputId": "9f3039a8-d59c-4add-e864-c824ef9e24ce"
      },
      "source": [
        "# We use view to squeeze all dimensions into a single one (with -1) and then we\n",
        "# add the batch dimension\n",
        "test_image_reshaped = test_image.view(-1).unsqueeze(0)\n",
        "print(test_image_reshaped.shape)"
      ],
      "execution_count": 24,
      "outputs": [
        {
          "output_type": "stream",
          "text": [
            "torch.Size([1, 3072])\n"
          ],
          "name": "stdout"
        }
      ]
    },
    {
      "cell_type": "code",
      "metadata": {
        "id": "SeyFh0NBxOo6",
        "colab_type": "code",
        "colab": {
          "base_uri": "https://localhost:8080/",
          "height": 35
        },
        "outputId": "0b5ad94e-2983-4cb2-8281-9e595e721e7c"
      },
      "source": [
        "# And now we can run it through the model\n",
        "output = model(test_image_reshaped)\n",
        "print(output)"
      ],
      "execution_count": 25,
      "outputs": [
        {
          "output_type": "stream",
          "text": [
            "tensor([[0.4997, 0.5003]], grad_fn=<SoftmaxBackward>)\n"
          ],
          "name": "stdout"
        }
      ]
    },
    {
      "cell_type": "code",
      "metadata": {
        "id": "dWb15i7bz2c3",
        "colab_type": "code",
        "colab": {
          "base_uri": "https://localhost:8080/",
          "height": 35
        },
        "outputId": "80117f58-5323-40a9-8180-62e68b34ebef"
      },
      "source": [
        "# They look like proper probabilities and we can actually choose the class by\n",
        "# applying an argmax function on the output\n",
        "classes = ['airplane', 'bird']\n",
        "_ , index = torch.max(output, dim=1)\n",
        "predicted_label = classes[index]\n",
        "print(predicted_label)"
      ],
      "execution_count": 26,
      "outputs": [
        {
          "output_type": "stream",
          "text": [
            "bird\n"
          ],
          "name": "stdout"
        }
      ]
    },
    {
      "cell_type": "markdown",
      "metadata": {
        "id": "STfLwNMnyqr6",
        "colab_type": "text"
      },
      "source": [
        "It got it right, but this is just luck as the model has not been trained. Before we do that, we need to specify a loss for this classification problem."
      ]
    },
    {
      "cell_type": "markdown",
      "metadata": {
        "id": "-ZLEWSxIy2hF",
        "colab_type": "text"
      },
      "source": [
        "### Loss function\n",
        "\n",
        "In the case of classification, what we need to maximize in this case is the probability associated with the correct class, i.e. `out[class_index]` where `out` is the output of softmax and `class_index` is a vector containing 0 for _airplane_ and 1 for _bird_. \n",
        "\n",
        "The probability of each class is referred to as the _likelihood_. In this case we can use the `negative log likelihood (NLL)`, with the expression `NLL = -sum(log(out_i[c_i])`, where the sum is taken over `N` samples and `c_i` is the correct class for sample `i`.\n",
        "\n",
        "This loss is available in pytorch as `nn.NLLloss`. It takes as input the log of the softmax (for numerical stability reasons) so we need to modify the model accordingly.\n",
        "\n",
        "Here's how we get the output for a class and calculate the loss."
      ]
    },
    {
      "cell_type": "code",
      "metadata": {
        "id": "0H5kuxn_xeda",
        "colab_type": "code",
        "colab": {}
      },
      "source": [
        "# Modified model\n",
        "model=nn.Sequential(\n",
        "    nn.Linear(3072,512),\n",
        "    nn.Tanh(),\n",
        "    nn.Linear(512,2),\n",
        "    nn.LogSoftmax(dim=1)\n",
        ")"
      ],
      "execution_count": 27,
      "outputs": []
    },
    {
      "cell_type": "code",
      "metadata": {
        "id": "-oIMWWOWCxi4",
        "colab_type": "code",
        "colab": {
          "base_uri": "https://localhost:8080/",
          "height": 52
        },
        "outputId": "8217886d-db28-4557-d180-9d17a802f11d"
      },
      "source": [
        "# Get image and label from dataset\n",
        "img, label = cifar2[0]\n",
        "print(label)\n",
        "\n",
        "# Define loss\n",
        "loss = nn.NLLLoss()\n",
        "\n",
        "# Calculate model output\n",
        "out = model(img.view(-1).unsqueeze(0))\n",
        "\n",
        "# Calculate loss\n",
        "loss(out, torch.tensor([label]))"
      ],
      "execution_count": 28,
      "outputs": [
        {
          "output_type": "stream",
          "text": [
            "1\n"
          ],
          "name": "stdout"
        },
        {
          "output_type": "execute_result",
          "data": {
            "text/plain": [
              "tensor(0.8519, grad_fn=<NllLossBackward>)"
            ]
          },
          "metadata": {
            "tags": []
          },
          "execution_count": 28
        }
      ]
    },
    {
      "cell_type": "markdown",
      "metadata": {
        "id": "bUunuUHo0dOO",
        "colab_type": "text"
      },
      "source": [
        "### Training the model (DataLoader for minibatches)\n",
        "\n",
        "Let's write a training loop as we had in previous chapters:"
      ]
    },
    {
      "cell_type": "code",
      "metadata": {
        "id": "anFaew8U0ln-",
        "colab_type": "code",
        "colab": {}
      },
      "source": [
        "def training(n_epochs, model, loss_fn, optimizer, dataset):\n",
        "  for epoch in range(n_epochs):\n",
        "    for img, label in dataset:\n",
        "      out = model(img.view(-1).unsqueeze(0)) # calculate model output\n",
        "      loss = loss_fn(out, torch.tensor([label])) # calculate loss\n",
        "\n",
        "      optimizer.zero_grad() # reset gradient\n",
        "      loss.backward() # backprop\n",
        "      optimizer.step() # update parameters\n",
        "    print(f'Epoch: {epoch} / Loss: {loss}') # print the value of the loss at the end of the epoch"
      ],
      "execution_count": 29,
      "outputs": []
    },
    {
      "cell_type": "code",
      "metadata": {
        "id": "VX8Tabbm0fKH",
        "colab_type": "code",
        "colab": {}
      },
      "source": [
        "import torch.optim as optim\n",
        "learning_rate = 1e-2\n",
        "optimizer = optim.SGD(model.parameters(), lr=learning_rate)"
      ],
      "execution_count": 30,
      "outputs": []
    },
    {
      "cell_type": "code",
      "metadata": {
        "id": "eODyz5c1eCNB",
        "colab_type": "code",
        "colab": {}
      },
      "source": [
        "training(100, model, loss, optimizer, cifar2)"
      ],
      "execution_count": null,
      "outputs": []
    },
    {
      "cell_type": "markdown",
      "metadata": {
        "id": "QgETPLv6ehIc",
        "colab_type": "text"
      },
      "source": [
        "Note the difference here between what we did in the previous chapter and now. \n",
        "\n",
        "Before, we were looking at all samples in each epoch and calculating the gradient - and the updates to the parameters - based on that. \n",
        "\n",
        "In this case, to avoid considering all 10,000 images at ones, we evaluate the gradient after each image and update the parameters accordingly. But choosing the best update to the parameters based on just one image is not necessarily very helpful (you can see that the loss is not really going down)\n",
        "\n",
        "Much better to shuffle samples at each epoch and estimating the gradient on a small set of them at a time (minibatch). This will actually introduce the randomness needed for the _stochastic gradient descent_ optimisation. The size of the minibatch is one other `hyperparameters` of the model, like the learning rate.\n",
        "\n",
        "Essentially, in our code above our minibatches were of size 1. We want to increase that, and be able to sample them from the dataset. To do this, we use `torch.utils.data.DataLoader`. This can be iterated over, so we can minimally change our training loop as follows:"
      ]
    },
    {
      "cell_type": "code",
      "metadata": {
        "id": "vdg1RsVsCk7d",
        "colab_type": "code",
        "colab": {}
      },
      "source": [
        "from torch.utils.data import DataLoader\n",
        "\n",
        "def training_batch(n_epochs, model, loss_fn, optimizer, dataset, batch_size): # passing the batch size\n",
        "  loader = torch.utils.data.DataLoader(dataset, batch_size, shuffle=True) # define the DataLoader\n",
        "  for epoch in range(n_epochs):\n",
        "    for imgs, labels in loader: # each time from the loader we get 64 images and labels\n",
        "      batch_size = imgs.shape[0]\n",
        "      outputs = model(imgs.view(batch_size, -1)) # calculate model output - no longer need to add batch dimension, as we're using loader\n",
        "      loss = loss_fn(outputs, labels) # calculate loss\n",
        "\n",
        "      optimizer.zero_grad() # reset gradient\n",
        "      loss.backward() # backprop\n",
        "      optimizer.step() # update parameters\n",
        "    print(f'Epoch: {epoch} / Loss: {loss}') # print the value of the loss at the end of the epoch (for a random batch for now)"
      ],
      "execution_count": 32,
      "outputs": []
    },
    {
      "cell_type": "code",
      "metadata": {
        "id": "i8aGoGgXG1iu",
        "colab_type": "code",
        "colab": {}
      },
      "source": [
        "from torch import nn\n",
        "\n",
        "# Define model\n",
        "model=nn.Sequential(\n",
        "    nn.Linear(3072,512),\n",
        "    nn.Tanh(),\n",
        "    nn.Linear(512,2),\n",
        "    nn.LogSoftmax(dim=1)\n",
        ")\n",
        "\n",
        "# Define the loss\n",
        "loss = nn.NLLLoss()"
      ],
      "execution_count": 33,
      "outputs": []
    },
    {
      "cell_type": "code",
      "metadata": {
        "id": "uCkaK25gG6IY",
        "colab_type": "code",
        "colab": {}
      },
      "source": [
        "# define the optimizer\n",
        "import torch.optim as optim\n",
        "learning_rate = 1e-2\n",
        "optimizer = optim.SGD(model.parameters(), lr=learning_rate)"
      ],
      "execution_count": 34,
      "outputs": []
    },
    {
      "cell_type": "code",
      "metadata": {
        "id": "KL3kkN4wJEW_",
        "colab_type": "code",
        "colab": {
          "base_uri": "https://localhost:8080/",
          "height": 884
        },
        "outputId": "332c750e-cd7d-451e-af8b-78cfc6b532d4"
      },
      "source": [
        "# We can now train the model, specifying the batch size. Now each batch will be \n",
        "# tensor of dimensions 64 x 3 x 32 x 32\n",
        "training_batch(50, model, loss, optimizer, cifar2, 64)"
      ],
      "execution_count": 35,
      "outputs": [
        {
          "output_type": "stream",
          "text": [
            "Epoch: 0 / Loss: 0.47132188081741333\n",
            "Epoch: 1 / Loss: 0.6545965075492859\n",
            "Epoch: 2 / Loss: 0.5176128149032593\n",
            "Epoch: 3 / Loss: 0.473799467086792\n",
            "Epoch: 4 / Loss: 0.44869789481163025\n",
            "Epoch: 5 / Loss: 0.6133908629417419\n",
            "Epoch: 6 / Loss: 0.3686857521533966\n",
            "Epoch: 7 / Loss: 0.4071042239665985\n",
            "Epoch: 8 / Loss: 0.27685293555259705\n",
            "Epoch: 9 / Loss: 0.5454249978065491\n",
            "Epoch: 10 / Loss: 0.6575824022293091\n",
            "Epoch: 11 / Loss: 0.43090367317199707\n",
            "Epoch: 12 / Loss: 0.47585201263427734\n",
            "Epoch: 13 / Loss: 0.7135488986968994\n",
            "Epoch: 14 / Loss: 0.5646320581436157\n",
            "Epoch: 15 / Loss: 0.44474223256111145\n",
            "Epoch: 16 / Loss: 0.7537976503372192\n",
            "Epoch: 17 / Loss: 0.29252123832702637\n",
            "Epoch: 18 / Loss: 0.4682617783546448\n",
            "Epoch: 19 / Loss: 0.3697270154953003\n",
            "Epoch: 20 / Loss: 0.28341689705848694\n",
            "Epoch: 21 / Loss: 0.19836565852165222\n",
            "Epoch: 22 / Loss: 0.3803112804889679\n",
            "Epoch: 23 / Loss: 0.3855658769607544\n",
            "Epoch: 24 / Loss: 0.4814615547657013\n",
            "Epoch: 25 / Loss: 0.4082076847553253\n",
            "Epoch: 26 / Loss: 0.2415146380662918\n",
            "Epoch: 27 / Loss: 0.5347069501876831\n",
            "Epoch: 28 / Loss: 0.28109490871429443\n",
            "Epoch: 29 / Loss: 0.23003266751766205\n",
            "Epoch: 30 / Loss: 0.6696637272834778\n",
            "Epoch: 31 / Loss: 0.43385738134384155\n",
            "Epoch: 32 / Loss: 0.42149221897125244\n",
            "Epoch: 33 / Loss: 0.23393510282039642\n",
            "Epoch: 34 / Loss: 0.14503294229507446\n",
            "Epoch: 35 / Loss: 0.323148250579834\n",
            "Epoch: 36 / Loss: 0.7345753908157349\n",
            "Epoch: 37 / Loss: 0.46377623081207275\n",
            "Epoch: 38 / Loss: 0.31041595339775085\n",
            "Epoch: 39 / Loss: 0.4529000222682953\n",
            "Epoch: 40 / Loss: 0.459625780582428\n",
            "Epoch: 41 / Loss: 0.4403022527694702\n",
            "Epoch: 42 / Loss: 0.22547109425067902\n",
            "Epoch: 43 / Loss: 0.3942390978336334\n",
            "Epoch: 44 / Loss: 0.2755620777606964\n",
            "Epoch: 45 / Loss: 0.32902830839157104\n",
            "Epoch: 46 / Loss: 0.384625107049942\n",
            "Epoch: 47 / Loss: 0.24130362272262573\n",
            "Epoch: 48 / Loss: 0.2893686592578888\n",
            "Epoch: 49 / Loss: 0.3247576355934143\n"
          ],
          "name": "stdout"
        }
      ]
    },
    {
      "cell_type": "markdown",
      "metadata": {
        "id": "v7z_fXA8Lk0c",
        "colab_type": "text"
      },
      "source": [
        "We note that the model also trains faster as we're not calculating the backprop and update the parameters at each image. \n",
        "\n",
        "The performance is still poor though, and the loss doesn't really go down. It's the training loss, which suggests that the model doesn't have the required `capacity` to approximate the function.\n",
        "\n",
        "We can check the accuracy of the model by calculating it on the validation dataset"
      ]
    },
    {
      "cell_type": "code",
      "metadata": {
        "id": "2whfx1BOPJ2V",
        "colab_type": "code",
        "colab": {
          "base_uri": "https://localhost:8080/",
          "height": 35
        },
        "outputId": "17b5d3a0-6771-4676-a736-10c5a7f0075a"
      },
      "source": [
        "# define validation loader\n",
        "val_loader = torch.utils.data.DataLoader(cifar2_val, batch_size=64, shuffle=False)\n",
        "\n",
        "correct = 0\n",
        "total = 0\n",
        "\n",
        "with torch.no_grad():\n",
        "  for imgs, labels in val_loader:\n",
        "    batch_size = imgs.shape[0]\n",
        "    outputs = model(imgs.view(batch_size, -1))\n",
        "    _, predicted = torch.max(outputs, dim=1)\n",
        "    total += labels.shape[0]\n",
        "    correct += int((predicted == label).sum())\n",
        "\n",
        "print(f'Accuracy: {correct / total}')\n"
      ],
      "execution_count": 36,
      "outputs": [
        {
          "output_type": "stream",
          "text": [
            "Accuracy: 0.769\n"
          ],
          "name": "stdout"
        }
      ]
    },
    {
      "cell_type": "markdown",
      "metadata": {
        "id": "6ZhN5VWEQBAV",
        "colab_type": "text"
      },
      "source": [
        "The validation accuracy is not great. This may be due to the model overfitting the data. Already this model has quite a lot of parameters, which might make it easier for the model to overfit. We can check the number of trainable parameters as follows:"
      ]
    },
    {
      "cell_type": "code",
      "metadata": {
        "id": "UpO6m397a-iJ",
        "colab_type": "code",
        "colab": {
          "base_uri": "https://localhost:8080/",
          "height": 35
        },
        "outputId": "36911d0a-acc7-4592-9f8a-26028a919e2e"
      },
      "source": [
        "numel_list = [p.numel()\n",
        "              for p in model.parameters()\n",
        "              if p.requires_grad == True]\n",
        "\n",
        "print(sum(numel_list), numel_list)"
      ],
      "execution_count": 41,
      "outputs": [
        {
          "output_type": "stream",
          "text": [
            "1574402 [1572864, 512, 1024, 2]\n"
          ],
          "name": "stdout"
        }
      ]
    },
    {
      "cell_type": "markdown",
      "metadata": {
        "id": "2FUgq4_Co14o",
        "colab_type": "text"
      },
      "source": [
        "What is the problem here? The key thing is that we're treating images as a single 1D vector where all connections of each pixel with any other pixel are potentially equally important. \n",
        "\n",
        "Moreover, this approach is not _translation invariant_. So, if the model learned to recognise a bird in the top left corner, it would not be able to recognised a bird just shifted a few pixel to the right. We could introduce all these images doing data augmentation but we would still be using a lot of model capacity to try to learn from all examples. \n",
        "\n",
        "We need to shift to a method which is no longer fully connected, and that it's able to recognise similar patterns of pixels independently of where they occur, i.e. we need convolutional layers."
      ]
    }
  ]
}