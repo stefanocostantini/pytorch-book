{
  "nbformat": 4,
  "nbformat_minor": 0,
  "metadata": {
    "colab": {
      "name": "ch8_using_convolutions_to_generalise.ipynb",
      "provenance": [],
      "collapsed_sections": [],
      "authorship_tag": "ABX9TyO/rBlHdUrzKYvW9YKwBezo",
      "include_colab_link": true
    },
    "kernelspec": {
      "name": "python3",
      "display_name": "Python 3"
    },
    "widgets": {
      "application/vnd.jupyter.widget-state+json": {
        "29528de6374942028483881c1c9a3ee3": {
          "model_module": "@jupyter-widgets/controls",
          "model_name": "HBoxModel",
          "state": {
            "_view_name": "HBoxView",
            "_dom_classes": [],
            "_model_name": "HBoxModel",
            "_view_module": "@jupyter-widgets/controls",
            "_model_module_version": "1.5.0",
            "_view_count": null,
            "_view_module_version": "1.5.0",
            "box_style": "",
            "layout": "IPY_MODEL_cd083954d3fa446ea9456cd1fb49046d",
            "_model_module": "@jupyter-widgets/controls",
            "children": [
              "IPY_MODEL_4000a00dc8be4199a17d06c0c4564c98",
              "IPY_MODEL_07957e234ac64995804fbf3bda0b32d0"
            ]
          }
        },
        "cd083954d3fa446ea9456cd1fb49046d": {
          "model_module": "@jupyter-widgets/base",
          "model_name": "LayoutModel",
          "state": {
            "_view_name": "LayoutView",
            "grid_template_rows": null,
            "right": null,
            "justify_content": null,
            "_view_module": "@jupyter-widgets/base",
            "overflow": null,
            "_model_module_version": "1.2.0",
            "_view_count": null,
            "flex_flow": null,
            "width": null,
            "min_width": null,
            "border": null,
            "align_items": null,
            "bottom": null,
            "_model_module": "@jupyter-widgets/base",
            "top": null,
            "grid_column": null,
            "overflow_y": null,
            "overflow_x": null,
            "grid_auto_flow": null,
            "grid_area": null,
            "grid_template_columns": null,
            "flex": null,
            "_model_name": "LayoutModel",
            "justify_items": null,
            "grid_row": null,
            "max_height": null,
            "align_content": null,
            "visibility": null,
            "align_self": null,
            "height": null,
            "min_height": null,
            "padding": null,
            "grid_auto_rows": null,
            "grid_gap": null,
            "max_width": null,
            "order": null,
            "_view_module_version": "1.2.0",
            "grid_template_areas": null,
            "object_position": null,
            "object_fit": null,
            "grid_auto_columns": null,
            "margin": null,
            "display": null,
            "left": null
          }
        },
        "4000a00dc8be4199a17d06c0c4564c98": {
          "model_module": "@jupyter-widgets/controls",
          "model_name": "FloatProgressModel",
          "state": {
            "_view_name": "ProgressView",
            "style": "IPY_MODEL_cfe5165751ca442a84767133775cff67",
            "_dom_classes": [],
            "description": "",
            "_model_name": "FloatProgressModel",
            "bar_style": "info",
            "max": 1,
            "_view_module": "@jupyter-widgets/controls",
            "_model_module_version": "1.5.0",
            "value": 1,
            "_view_count": null,
            "_view_module_version": "1.5.0",
            "orientation": "horizontal",
            "min": 0,
            "description_tooltip": null,
            "_model_module": "@jupyter-widgets/controls",
            "layout": "IPY_MODEL_8da6000242064b44bb5ed97806b5bf71"
          }
        },
        "07957e234ac64995804fbf3bda0b32d0": {
          "model_module": "@jupyter-widgets/controls",
          "model_name": "HTMLModel",
          "state": {
            "_view_name": "HTMLView",
            "style": "IPY_MODEL_5379e50559df48d49de1f9e0c14933eb",
            "_dom_classes": [],
            "description": "",
            "_model_name": "HTMLModel",
            "placeholder": "​",
            "_view_module": "@jupyter-widgets/controls",
            "_model_module_version": "1.5.0",
            "value": " 170500096/? [00:30&lt;00:00, 8945210.02it/s]",
            "_view_count": null,
            "_view_module_version": "1.5.0",
            "description_tooltip": null,
            "_model_module": "@jupyter-widgets/controls",
            "layout": "IPY_MODEL_13745fa3ef9548d690fa9b7044675089"
          }
        },
        "cfe5165751ca442a84767133775cff67": {
          "model_module": "@jupyter-widgets/controls",
          "model_name": "ProgressStyleModel",
          "state": {
            "_view_name": "StyleView",
            "_model_name": "ProgressStyleModel",
            "description_width": "initial",
            "_view_module": "@jupyter-widgets/base",
            "_model_module_version": "1.5.0",
            "_view_count": null,
            "_view_module_version": "1.2.0",
            "bar_color": null,
            "_model_module": "@jupyter-widgets/controls"
          }
        },
        "8da6000242064b44bb5ed97806b5bf71": {
          "model_module": "@jupyter-widgets/base",
          "model_name": "LayoutModel",
          "state": {
            "_view_name": "LayoutView",
            "grid_template_rows": null,
            "right": null,
            "justify_content": null,
            "_view_module": "@jupyter-widgets/base",
            "overflow": null,
            "_model_module_version": "1.2.0",
            "_view_count": null,
            "flex_flow": null,
            "width": null,
            "min_width": null,
            "border": null,
            "align_items": null,
            "bottom": null,
            "_model_module": "@jupyter-widgets/base",
            "top": null,
            "grid_column": null,
            "overflow_y": null,
            "overflow_x": null,
            "grid_auto_flow": null,
            "grid_area": null,
            "grid_template_columns": null,
            "flex": null,
            "_model_name": "LayoutModel",
            "justify_items": null,
            "grid_row": null,
            "max_height": null,
            "align_content": null,
            "visibility": null,
            "align_self": null,
            "height": null,
            "min_height": null,
            "padding": null,
            "grid_auto_rows": null,
            "grid_gap": null,
            "max_width": null,
            "order": null,
            "_view_module_version": "1.2.0",
            "grid_template_areas": null,
            "object_position": null,
            "object_fit": null,
            "grid_auto_columns": null,
            "margin": null,
            "display": null,
            "left": null
          }
        },
        "5379e50559df48d49de1f9e0c14933eb": {
          "model_module": "@jupyter-widgets/controls",
          "model_name": "DescriptionStyleModel",
          "state": {
            "_view_name": "StyleView",
            "_model_name": "DescriptionStyleModel",
            "description_width": "",
            "_view_module": "@jupyter-widgets/base",
            "_model_module_version": "1.5.0",
            "_view_count": null,
            "_view_module_version": "1.2.0",
            "_model_module": "@jupyter-widgets/controls"
          }
        },
        "13745fa3ef9548d690fa9b7044675089": {
          "model_module": "@jupyter-widgets/base",
          "model_name": "LayoutModel",
          "state": {
            "_view_name": "LayoutView",
            "grid_template_rows": null,
            "right": null,
            "justify_content": null,
            "_view_module": "@jupyter-widgets/base",
            "overflow": null,
            "_model_module_version": "1.2.0",
            "_view_count": null,
            "flex_flow": null,
            "width": null,
            "min_width": null,
            "border": null,
            "align_items": null,
            "bottom": null,
            "_model_module": "@jupyter-widgets/base",
            "top": null,
            "grid_column": null,
            "overflow_y": null,
            "overflow_x": null,
            "grid_auto_flow": null,
            "grid_area": null,
            "grid_template_columns": null,
            "flex": null,
            "_model_name": "LayoutModel",
            "justify_items": null,
            "grid_row": null,
            "max_height": null,
            "align_content": null,
            "visibility": null,
            "align_self": null,
            "height": null,
            "min_height": null,
            "padding": null,
            "grid_auto_rows": null,
            "grid_gap": null,
            "max_width": null,
            "order": null,
            "_view_module_version": "1.2.0",
            "grid_template_areas": null,
            "object_position": null,
            "object_fit": null,
            "grid_auto_columns": null,
            "margin": null,
            "display": null,
            "left": null
          }
        }
      }
    }
  },
  "cells": [
    {
      "cell_type": "markdown",
      "metadata": {
        "id": "view-in-github",
        "colab_type": "text"
      },
      "source": [
        "<a href=\"https://colab.research.google.com/github/stefanocostantini/pytorch-book/blob/master/ch8_using_convolutions_to_generalise.ipynb\" target=\"_parent\"><img src=\"https://colab.research.google.com/assets/colab-badge.svg\" alt=\"Open In Colab\"/></a>"
      ]
    },
    {
      "cell_type": "markdown",
      "metadata": {
        "id": "XXO7gTlUpPAN",
        "colab_type": "text"
      },
      "source": [
        "## Data"
      ]
    },
    {
      "cell_type": "markdown",
      "metadata": {
        "id": "FibRln8RpYKt",
        "colab_type": "text"
      },
      "source": [
        "We re-create the same datasets which we used in the previous chapter"
      ]
    },
    {
      "cell_type": "code",
      "metadata": {
        "id": "9GSXP7CNpWuz",
        "colab_type": "code",
        "colab": {}
      },
      "source": [
        "import torch\n",
        "from torchvision import transforms"
      ],
      "execution_count": 1,
      "outputs": []
    },
    {
      "cell_type": "code",
      "metadata": {
        "id": "Y2Qd-7PopdG_",
        "colab_type": "code",
        "colab": {
          "base_uri": "https://localhost:8080/",
          "height": 101,
          "referenced_widgets": [
            "29528de6374942028483881c1c9a3ee3",
            "cd083954d3fa446ea9456cd1fb49046d",
            "4000a00dc8be4199a17d06c0c4564c98",
            "07957e234ac64995804fbf3bda0b32d0",
            "cfe5165751ca442a84767133775cff67",
            "8da6000242064b44bb5ed97806b5bf71",
            "5379e50559df48d49de1f9e0c14933eb",
            "13745fa3ef9548d690fa9b7044675089"
          ]
        },
        "outputId": "c46e4f18-a1c4-436a-ab30-405576cb0620"
      },
      "source": [
        "## Download files locally\n",
        "!mkdir /content/cifar10/\n",
        "from torchvision import datasets\n",
        "data_path_for_saving = '/content/cifar10/'\n",
        "cifar10 = datasets.CIFAR10(data_path_for_saving, train=True, download=True)\n",
        "cifar10_val = datasets.CIFAR10(data_path_for_saving, train=False, download=True)"
      ],
      "execution_count": 2,
      "outputs": [
        {
          "output_type": "stream",
          "text": [
            "Downloading https://www.cs.toronto.edu/~kriz/cifar-10-python.tar.gz to /content/cifar10/cifar-10-python.tar.gz\n"
          ],
          "name": "stdout"
        },
        {
          "output_type": "display_data",
          "data": {
            "application/vnd.jupyter.widget-view+json": {
              "model_id": "29528de6374942028483881c1c9a3ee3",
              "version_minor": 0,
              "version_major": 2
            },
            "text/plain": [
              "HBox(children=(FloatProgress(value=1.0, bar_style='info', max=1.0), HTML(value='')))"
            ]
          },
          "metadata": {
            "tags": []
          }
        },
        {
          "output_type": "stream",
          "text": [
            "Extracting /content/cifar10/cifar-10-python.tar.gz to /content/cifar10/\n",
            "Files already downloaded and verified\n"
          ],
          "name": "stdout"
        }
      ]
    },
    {
      "cell_type": "code",
      "metadata": {
        "id": "ZRkfSrmI4rS-",
        "colab_type": "code",
        "colab": {}
      },
      "source": [
        "tensor_cifar10 = datasets.CIFAR10(data_path_for_saving, train=True, download=False,\n",
        "                                  transform=transforms.ToTensor())\n",
        "tensor_cifar10_val = datasets.CIFAR10(data_path_for_saving, train=False, download=False,\n",
        "                                      transform=transforms.ToTensor())"
      ],
      "execution_count": 3,
      "outputs": []
    },
    {
      "cell_type": "code",
      "metadata": {
        "id": "TIiKiXEpppMk",
        "colab_type": "code",
        "colab": {
          "base_uri": "https://localhost:8080/",
          "height": 35
        },
        "outputId": "53b23f71-4c4e-4ba8-8544-d4bdf0637683"
      },
      "source": [
        "imgs = torch.stack([item_t for item_t, _ in tensor_cifar10], dim = 3)\n",
        "reshaped = imgs.view(3,-1) # keep the first dimension, squash all others into a single dim\n",
        "print(reshaped.shape)\n",
        "\n",
        "means = reshaped.mean(dim=1) # mean of the first dimension (i.e. the three channels)\n",
        "stds = reshaped.std(dim=1)"
      ],
      "execution_count": 4,
      "outputs": [
        {
          "output_type": "stream",
          "text": [
            "torch.Size([3, 51200000])\n"
          ],
          "name": "stdout"
        }
      ]
    },
    {
      "cell_type": "code",
      "metadata": {
        "id": "JSFOF1ZgpfEU",
        "colab_type": "code",
        "colab": {}
      },
      "source": [
        "# Now we have the information to do the normalisation, as follows.\n",
        "# Note that we `compose` transformations together\n",
        "transformed_cifar10 = datasets.CIFAR10(data_path_for_saving, train=True, download=False,\n",
        "                                       transform = transforms.Compose([\n",
        "                                          transforms.ToTensor(),\n",
        "                                          transforms.Normalize((means[0], means[1], means[2]),\n",
        "                                                              (stds[0], stds[1], stds[2]))                              \n",
        "                                       ]))\n",
        "\n",
        "transformed_cifar10_val = datasets.CIFAR10(data_path_for_saving, train=False, download=False,\n",
        "                                       transform = transforms.Compose([\n",
        "                                         transforms.ToTensor(),\n",
        "                                         transforms.Normalize((means[0], means[1], means[2]),\n",
        "                                                              (stds[0], stds[1], stds[2]))                              \n",
        "                                       ]))"
      ],
      "execution_count": 5,
      "outputs": []
    },
    {
      "cell_type": "code",
      "metadata": {
        "id": "fTIhrWZzpnuo",
        "colab_type": "code",
        "colab": {}
      },
      "source": [
        "# We just want to keep class 0 and 2. Remember that the __getitem__ method returns\n",
        "# both the item and its label\n",
        "class_mapping = {0: 0, 2: 1}\n",
        "\n",
        "cifar2 = [(item, class_mapping[label])\n",
        "          for item, label in tensor_cifar10 if label in [0,2]]\n",
        "cifar2_val = [(item, class_mapping[label])\n",
        "          for item, label in tensor_cifar10_val if label in [0,2]] "
      ],
      "execution_count": 6,
      "outputs": []
    },
    {
      "cell_type": "markdown",
      "metadata": {
        "id": "1A_1DEwy5KMO",
        "colab_type": "text"
      },
      "source": [
        "## Intro to convolutions"
      ]
    },
    {
      "cell_type": "markdown",
      "metadata": {
        "id": "egCbMsrN5Yvc",
        "colab_type": "text"
      },
      "source": [
        "_**Note:** We now have the same datasets as before (`cifar2` and `cifar2_val`) at our disposal._\n",
        "\n",
        "_**Note 2:** my focus for this chapter is on how to subclass the `nn` module, hence will cover convolutions only at a high level._\n",
        "\n",
        "Convolutions are needed to deliver locality and translation invariance.\n",
        "\n",
        "Convolutions for a 2D image are the scalar (dot) product of a weight matrix (the _kernel_) with every neighbourhood in the input.\n",
        "\n",
        "So, if we have kernel as follows:\n",
        "\n",
        "```\n",
        "weight = torch.tensor([[w00, w01, w02],\n",
        "                       [w10, w11, w12],\n",
        "                       [w20, w21, w22]])\n",
        "```\n",
        "and  a 1-channel MxN image:\n",
        "```\n",
        "image = torch.tensor([[i00, i01, i02, i03, ..., i0N],\n",
        "                      [i10, i11, i12, i13, ..., i1N],\n",
        "                      [i20, i21, i22, i23, ..., i2N],\n",
        "                      [i30, i31, i32, i33, ..., i3N],\n",
        "                      ...\n",
        "                      [iM0, iM1m iM2, iM3, ..., iMN]])\n",
        "```\n",
        "The the output at, say, `1,1` can be calculated as follows (without bias):\n",
        "```\n",
        "o11 = i11 * w00 + i12 * w01 + i13 * w02 +\n",
        "      i21 * w10 + i22 * w11 + i23 * w12 +\n",
        "      i31 * w20 + i32 * w21 + i33 * w22\n",
        "```\n",
        "By repeating this calculation for each input of the image (i.e. by translating the kernel on all input locations) we obtain an output image where each location will be expressed as a weighted sum of its immediate vicinity (depending on the size of the kernel).\n",
        "\n",
        "Note that we do not know the weights in advance: these are randomly initialised at the beginning and then learned through model training. Note also that the same weights are using across the whole image, so they have a history spanning the entire image. Thus, the derivative of the loss with respect to a convolution weight includes contributions from the entire image.\n",
        "\n",
        "This also mean that we have many fewer parameters compared with a fully connected model which accepts 1D inputs. The number of parameters will no longer depend on the number of pixels in the image, but rather on:\n",
        "- the size of the convolution kernel\n",
        "- how many convolution filters (or output channels) there are"
      ]
    },
    {
      "cell_type": "markdown",
      "metadata": {
        "id": "B_heeutxB76U",
        "colab_type": "text"
      },
      "source": [
        "## Using convolutions\n",
        "\n",
        "The `torch.nn` module provides convolutions for 1, 2 and 3 dimensions: `nn.Conv1D` for time series (and text), `nn.Conv2D` for images and `nn.Conv3D` for volumes or video. \n",
        "\n",
        "To `nn.Conv2D` we need to provide the following arguments:\n",
        "- the number of input features (or channels, as there will be more than 1 value per pixel)\n",
        "- the number of output features\n",
        "- the size of the kernel."
      ]
    },
    {
      "cell_type": "code",
      "metadata": {
        "id": "i9SOs29A5Xr4",
        "colab_type": "code",
        "colab": {}
      },
      "source": [
        "from torch import nn"
      ],
      "execution_count": 1,
      "outputs": []
    },
    {
      "cell_type": "code",
      "metadata": {
        "id": "vC21BH_OQE1t",
        "colab_type": "code",
        "colab": {
          "base_uri": "https://localhost:8080/",
          "height": 35
        },
        "outputId": "0040fd48-0226-444c-81d6-daec59bfdf2d"
      },
      "source": [
        "# In our case we have 3 channels, so the input features will be 3. We choose an\n",
        "# arbitrary output of 16 features and a 3x3 kernel\n",
        "conv = nn.Conv2d(3, 16, kernel_size=3)\n",
        "conv"
      ],
      "execution_count": 8,
      "outputs": [
        {
          "output_type": "execute_result",
          "data": {
            "text/plain": [
              "Conv2d(3, 16, kernel_size=(3, 3), stride=(1, 1))"
            ]
          },
          "metadata": {
            "tags": []
          },
          "execution_count": 8
        }
      ]
    },
    {
      "cell_type": "code",
      "metadata": {
        "id": "P5lo3qUNQXe3",
        "colab_type": "code",
        "colab": {
          "base_uri": "https://localhost:8080/",
          "height": 35
        },
        "outputId": "2c76abf4-b298-4d6c-fbdf-81f908aeaeae"
      },
      "source": [
        "# And these are the dimensions of weight and bias\n",
        "conv.weight.shape, conv.bias.shape\n",
        "# 16 output features, 3 input features (channel) and a 3x3 kernel. "
      ],
      "execution_count": 9,
      "outputs": [
        {
          "output_type": "execute_result",
          "data": {
            "text/plain": [
              "(torch.Size([16, 3, 3, 3]), torch.Size([16]))"
            ]
          },
          "metadata": {
            "tags": []
          },
          "execution_count": 9
        }
      ]
    },
    {
      "cell_type": "code",
      "metadata": {
        "id": "AmRHFsXgTKUq",
        "colab_type": "code",
        "colab": {
          "base_uri": "https://localhost:8080/",
          "height": 35
        },
        "outputId": "a15251fc-03d0-4c1f-df7d-a39c17e6a123"
      },
      "source": [
        "# Let's apply the convolution to one of the images in the dataset and compare it\n",
        "# with the original one. Let's get the image first:\n",
        "img, _ = cifar2[0]\n",
        "\n",
        "# Need to add the zero-th batch dimension\n",
        "output = conv(img.unsqueeze(0))\n",
        "\n",
        "# Let's check the dimensions - it looks like we've lost 2 pixels from each dimension...\n",
        "img.unsqueeze(0).shape, output.shape"
      ],
      "execution_count": 10,
      "outputs": [
        {
          "output_type": "execute_result",
          "data": {
            "text/plain": [
              "(torch.Size([1, 3, 32, 32]), torch.Size([1, 16, 30, 30]))"
            ]
          },
          "metadata": {
            "tags": []
          },
          "execution_count": 10
        }
      ]
    },
    {
      "cell_type": "code",
      "metadata": {
        "id": "NZ1pxfRBUk1O",
        "colab_type": "code",
        "colab": {
          "base_uri": "https://localhost:8080/",
          "height": 268
        },
        "outputId": "8c3e9446-1fd8-4197-da1a-072ee5476889"
      },
      "source": [
        "# Displaying the two images reveals what has happened:\n",
        "from matplotlib import pyplot as plt \n",
        "f, axarr = plt.subplots(2, sharex=True, sharey=True)\n",
        "axarr[0].imshow(output[0,0].detach(), cmap='gray')\n",
        "axarr[1].imshow(img[0].detach(), cmap='gray')\n",
        "plt.show()"
      ],
      "execution_count": 11,
      "outputs": [
        {
          "output_type": "display_data",
          "data": {
            "image/png": "[encoded data removed]",
            "text/plain": [
              "<Figure size 432x288 with 2 Axes>"
            ]
          },
          "metadata": {
            "tags": [],
            "needs_background": "light"
          }
        }
      ]
    },
    {
      "cell_type": "code",
      "metadata": {
        "id": "w3L5XgLpYEfE",
        "colab_type": "code",
        "colab": {
          "base_uri": "https://localhost:8080/",
          "height": 35
        },
        "outputId": "fdff5a63-c28d-4299-da59-ea4af895bc1d"
      },
      "source": [
        "# We can prevent this from happening by having some padding, which uses `ghost` pixels\n",
        "# on the sides of the image.\n",
        "conv_padded = nn.Conv2d(3,16, kernel_size=3, padding=1)\n",
        "output_padded = conv_padded(img.unsqueeze(0))\n",
        "img.unsqueeze(0).shape, output_padded.shape"
      ],
      "execution_count": 12,
      "outputs": [
        {
          "output_type": "execute_result",
          "data": {
            "text/plain": [
              "(torch.Size([1, 3, 32, 32]), torch.Size([1, 16, 32, 32]))"
            ]
          },
          "metadata": {
            "tags": []
          },
          "execution_count": 12
        }
      ]
    },
    {
      "cell_type": "code",
      "metadata": {
        "id": "TcuLjtH7aghZ",
        "colab_type": "code",
        "colab": {
          "base_uri": "https://localhost:8080/",
          "height": 202
        },
        "outputId": "9c317384-d13d-4937-ef7a-8d5f8fe5e2f7"
      },
      "source": [
        "f, axarr = plt.subplots(1,2, sharex=True, sharey=True)\n",
        "axarr[0].imshow(output_padded[0,0].detach(), cmap='gray')\n",
        "axarr[1].imshow(img[0].detach(), cmap='gray')\n",
        "plt.show()"
      ],
      "execution_count": 13,
      "outputs": [
        {
          "output_type": "display_data",
          "data": {
            "image/png": "[encoded data removed]",
            "text/plain": [
              "<Figure size 432x288 with 2 Axes>"
            ]
          },
          "metadata": {
            "tags": [],
            "needs_background": "light"
          }
        }
      ]
    },
    {
      "cell_type": "markdown",
      "metadata": {
        "id": "KLOiwxHbeaSe",
        "colab_type": "text"
      },
      "source": [
        "A way to make sure the convolutions can really pick up the salient features of an image, is to put these through some downsampling, so that only the \"strongest\" features, i.e. the features that better characterise an image would survive.\n",
        "\n",
        "This is achieved by using a `max pooling` operation, where only the features with the maximum value in an area are kept. This reduces the size of the image, keeping only the most salient features. \n",
        "\n",
        "Let's apply this to our image and see what we get."
      ]
    },
    {
      "cell_type": "code",
      "metadata": {
        "id": "aDfk2WABXfjC",
        "colab_type": "code",
        "colab": {
          "base_uri": "https://localhost:8080/",
          "height": 35
        },
        "outputId": "43ab95ed-10a4-4938-8b91-e7f4201ff9c6"
      },
      "source": [
        "max_pool = nn.MaxPool2d(2) # using 2 halves the size of the image\n",
        "output_pool = max_pool(output_padded)\n",
        "output_padded.shape, output_pool.shape\n",
        "# We can see the size has been halve. And we can display all three images"
      ],
      "execution_count": 14,
      "outputs": [
        {
          "output_type": "execute_result",
          "data": {
            "text/plain": [
              "(torch.Size([1, 16, 32, 32]), torch.Size([1, 16, 16, 16]))"
            ]
          },
          "metadata": {
            "tags": []
          },
          "execution_count": 14
        }
      ]
    },
    {
      "cell_type": "code",
      "metadata": {
        "id": "WroggD7Fe_aK",
        "colab_type": "code",
        "colab": {
          "base_uri": "https://localhost:8080/",
          "height": 149
        },
        "outputId": "63b342be-a277-4006-c67c-85ef1b71c9a8"
      },
      "source": [
        "f, axarr = plt.subplots(1,3)\n",
        "axarr[0].imshow(img[0].detach(), cmap='gray')\n",
        "axarr[1].imshow(output_padded[0,0].detach(), cmap='gray')\n",
        "axarr[2].imshow(output_pool[0,0].detach(), cmap='gray')\n",
        "plt.show()\n",
        "# Note that the last image is half the size of the other two (much more \"pixelated\"), \n",
        "# but also note that compared to the output of the convolution, it appears \n",
        "# to give more weight to certain aspects of the image."
      ],
      "execution_count": 15,
      "outputs": [
        {
          "output_type": "display_data",
          "data": {
            "image/png": "[encoded data removed]",
            "text/plain": [
              "<Figure size 432x288 with 3 Axes>"
            ]
          },
          "metadata": {
            "tags": [],
            "needs_background": "light"
          }
        }
      ]
    },
    {
      "cell_type": "markdown",
      "metadata": {
        "id": "aKm_XgXZi5Tw",
        "colab_type": "text"
      },
      "source": [
        "## Putting everything together in a model\n",
        "\n",
        "We can now put the elements we have into a single model"
      ]
    },
    {
      "cell_type": "code",
      "metadata": {
        "id": "tPrqHFgkilhx",
        "colab_type": "code",
        "colab": {}
      },
      "source": [
        "model = nn.Sequential(\n",
        "    nn.Conv2d(3, 16, kernel_size=3, padding=1),\n",
        "    nn.Tanh(),\n",
        "    nn.MaxPool2d(2), # reducing the image size by half\n",
        "    nn.Conv2d(16, 8, kernel_size=3, padding=1),\n",
        "    nn.Tanh(),\n",
        "    nn.MaxPool2d(2), # we now have a 8x8 image\n",
        "#   nn.Flatten(), # not used to motivate the subclassing of nn.Module - see below\n",
        "    nn.Linear(8 * 8 * 8, 32), # 8 channels from previous convolution, 8x8 image from MaxPool\n",
        "    nn.Tanh(),\n",
        "    nn.Linear(32,2)) # output of dimension 2, the class probabilities\n",
        "\n",
        "# Note that at some point, we need to go from a 2D tensor to a 1D one."
      ],
      "execution_count": 16,
      "outputs": []
    },
    {
      "cell_type": "code",
      "metadata": {
        "id": "-gtrD0LjqMvg",
        "colab_type": "code",
        "colab": {
          "base_uri": "https://localhost:8080/",
          "height": 346
        },
        "outputId": "bd78c50f-10ef-46e5-ae17-9580cfbc572e"
      },
      "source": [
        "# What happens if we try to get an output from this?\n",
        "out = model(img.unsqueeze(0))\n",
        "out"
      ],
      "execution_count": 17,
      "outputs": [
        {
          "output_type": "error",
          "ename": "RuntimeError",
          "evalue": "ignored",
          "traceback": [
            "\u001b[0;31m---------------------------------------------------------------------------\u001b[0m",
            "\u001b[0;31mRuntimeError\u001b[0m                              Traceback (most recent call last)",
            "\u001b[0;32m<ipython-input-17-570a209e3988>\u001b[0m in \u001b[0;36m<module>\u001b[0;34m()\u001b[0m\n\u001b[1;32m      1\u001b[0m \u001b[0;31m# What happens if we try to get an output from this?\u001b[0m\u001b[0;34m\u001b[0m\u001b[0;34m\u001b[0m\u001b[0;34m\u001b[0m\u001b[0m\n\u001b[0;32m----> 2\u001b[0;31m \u001b[0mout\u001b[0m \u001b[0;34m=\u001b[0m \u001b[0mmodel\u001b[0m\u001b[0;34m(\u001b[0m\u001b[0mimg\u001b[0m\u001b[0;34m.\u001b[0m\u001b[0munsqueeze\u001b[0m\u001b[0;34m(\u001b[0m\u001b[0;36m0\u001b[0m\u001b[0;34m)\u001b[0m\u001b[0;34m)\u001b[0m\u001b[0;34m\u001b[0m\u001b[0;34m\u001b[0m\u001b[0m\n\u001b[0m\u001b[1;32m      3\u001b[0m \u001b[0mout\u001b[0m\u001b[0;34m\u001b[0m\u001b[0;34m\u001b[0m\u001b[0m\n",
            "\u001b[0;32m/usr/local/lib/python3.6/dist-packages/torch/nn/modules/module.py\u001b[0m in \u001b[0;36m_call_impl\u001b[0;34m(self, *input, **kwargs)\u001b[0m\n\u001b[1;32m    720\u001b[0m             \u001b[0mresult\u001b[0m \u001b[0;34m=\u001b[0m \u001b[0mself\u001b[0m\u001b[0;34m.\u001b[0m\u001b[0m_slow_forward\u001b[0m\u001b[0;34m(\u001b[0m\u001b[0;34m*\u001b[0m\u001b[0minput\u001b[0m\u001b[0;34m,\u001b[0m \u001b[0;34m**\u001b[0m\u001b[0mkwargs\u001b[0m\u001b[0;34m)\u001b[0m\u001b[0;34m\u001b[0m\u001b[0;34m\u001b[0m\u001b[0m\n\u001b[1;32m    721\u001b[0m         \u001b[0;32melse\u001b[0m\u001b[0;34m:\u001b[0m\u001b[0;34m\u001b[0m\u001b[0;34m\u001b[0m\u001b[0m\n\u001b[0;32m--> 722\u001b[0;31m             \u001b[0mresult\u001b[0m \u001b[0;34m=\u001b[0m \u001b[0mself\u001b[0m\u001b[0;34m.\u001b[0m\u001b[0mforward\u001b[0m\u001b[0;34m(\u001b[0m\u001b[0;34m*\u001b[0m\u001b[0minput\u001b[0m\u001b[0;34m,\u001b[0m \u001b[0;34m**\u001b[0m\u001b[0mkwargs\u001b[0m\u001b[0;34m)\u001b[0m\u001b[0;34m\u001b[0m\u001b[0;34m\u001b[0m\u001b[0m\n\u001b[0m\u001b[1;32m    723\u001b[0m         for hook in itertools.chain(\n\u001b[1;32m    724\u001b[0m                 \u001b[0m_global_forward_hooks\u001b[0m\u001b[0;34m.\u001b[0m\u001b[0mvalues\u001b[0m\u001b[0;34m(\u001b[0m\u001b[0;34m)\u001b[0m\u001b[0;34m,\u001b[0m\u001b[0;34m\u001b[0m\u001b[0;34m\u001b[0m\u001b[0m\n",
            "\u001b[0;32m/usr/local/lib/python3.6/dist-packages/torch/nn/modules/container.py\u001b[0m in \u001b[0;36mforward\u001b[0;34m(self, input)\u001b[0m\n\u001b[1;32m    115\u001b[0m     \u001b[0;32mdef\u001b[0m \u001b[0mforward\u001b[0m\u001b[0;34m(\u001b[0m\u001b[0mself\u001b[0m\u001b[0;34m,\u001b[0m \u001b[0minput\u001b[0m\u001b[0;34m)\u001b[0m\u001b[0;34m:\u001b[0m\u001b[0;34m\u001b[0m\u001b[0;34m\u001b[0m\u001b[0m\n\u001b[1;32m    116\u001b[0m         \u001b[0;32mfor\u001b[0m \u001b[0mmodule\u001b[0m \u001b[0;32min\u001b[0m \u001b[0mself\u001b[0m\u001b[0;34m:\u001b[0m\u001b[0;34m\u001b[0m\u001b[0;34m\u001b[0m\u001b[0m\n\u001b[0;32m--> 117\u001b[0;31m             \u001b[0minput\u001b[0m \u001b[0;34m=\u001b[0m \u001b[0mmodule\u001b[0m\u001b[0;34m(\u001b[0m\u001b[0minput\u001b[0m\u001b[0;34m)\u001b[0m\u001b[0;34m\u001b[0m\u001b[0;34m\u001b[0m\u001b[0m\n\u001b[0m\u001b[1;32m    118\u001b[0m         \u001b[0;32mreturn\u001b[0m \u001b[0minput\u001b[0m\u001b[0;34m\u001b[0m\u001b[0;34m\u001b[0m\u001b[0m\n\u001b[1;32m    119\u001b[0m \u001b[0;34m\u001b[0m\u001b[0m\n",
            "\u001b[0;32m/usr/local/lib/python3.6/dist-packages/torch/nn/modules/module.py\u001b[0m in \u001b[0;36m_call_impl\u001b[0;34m(self, *input, **kwargs)\u001b[0m\n\u001b[1;32m    720\u001b[0m             \u001b[0mresult\u001b[0m \u001b[0;34m=\u001b[0m \u001b[0mself\u001b[0m\u001b[0;34m.\u001b[0m\u001b[0m_slow_forward\u001b[0m\u001b[0;34m(\u001b[0m\u001b[0;34m*\u001b[0m\u001b[0minput\u001b[0m\u001b[0;34m,\u001b[0m \u001b[0;34m**\u001b[0m\u001b[0mkwargs\u001b[0m\u001b[0;34m)\u001b[0m\u001b[0;34m\u001b[0m\u001b[0;34m\u001b[0m\u001b[0m\n\u001b[1;32m    721\u001b[0m         \u001b[0;32melse\u001b[0m\u001b[0;34m:\u001b[0m\u001b[0;34m\u001b[0m\u001b[0;34m\u001b[0m\u001b[0m\n\u001b[0;32m--> 722\u001b[0;31m             \u001b[0mresult\u001b[0m \u001b[0;34m=\u001b[0m \u001b[0mself\u001b[0m\u001b[0;34m.\u001b[0m\u001b[0mforward\u001b[0m\u001b[0;34m(\u001b[0m\u001b[0;34m*\u001b[0m\u001b[0minput\u001b[0m\u001b[0;34m,\u001b[0m \u001b[0;34m**\u001b[0m\u001b[0mkwargs\u001b[0m\u001b[0;34m)\u001b[0m\u001b[0;34m\u001b[0m\u001b[0;34m\u001b[0m\u001b[0m\n\u001b[0m\u001b[1;32m    723\u001b[0m         for hook in itertools.chain(\n\u001b[1;32m    724\u001b[0m                 \u001b[0m_global_forward_hooks\u001b[0m\u001b[0;34m.\u001b[0m\u001b[0mvalues\u001b[0m\u001b[0;34m(\u001b[0m\u001b[0;34m)\u001b[0m\u001b[0;34m,\u001b[0m\u001b[0;34m\u001b[0m\u001b[0;34m\u001b[0m\u001b[0m\n",
            "\u001b[0;32m/usr/local/lib/python3.6/dist-packages/torch/nn/modules/linear.py\u001b[0m in \u001b[0;36mforward\u001b[0;34m(self, input)\u001b[0m\n\u001b[1;32m     89\u001b[0m \u001b[0;34m\u001b[0m\u001b[0m\n\u001b[1;32m     90\u001b[0m     \u001b[0;32mdef\u001b[0m \u001b[0mforward\u001b[0m\u001b[0;34m(\u001b[0m\u001b[0mself\u001b[0m\u001b[0;34m,\u001b[0m \u001b[0minput\u001b[0m\u001b[0;34m:\u001b[0m \u001b[0mTensor\u001b[0m\u001b[0;34m)\u001b[0m \u001b[0;34m->\u001b[0m \u001b[0mTensor\u001b[0m\u001b[0;34m:\u001b[0m\u001b[0;34m\u001b[0m\u001b[0;34m\u001b[0m\u001b[0m\n\u001b[0;32m---> 91\u001b[0;31m         \u001b[0;32mreturn\u001b[0m \u001b[0mF\u001b[0m\u001b[0;34m.\u001b[0m\u001b[0mlinear\u001b[0m\u001b[0;34m(\u001b[0m\u001b[0minput\u001b[0m\u001b[0;34m,\u001b[0m \u001b[0mself\u001b[0m\u001b[0;34m.\u001b[0m\u001b[0mweight\u001b[0m\u001b[0;34m,\u001b[0m \u001b[0mself\u001b[0m\u001b[0;34m.\u001b[0m\u001b[0mbias\u001b[0m\u001b[0;34m)\u001b[0m\u001b[0;34m\u001b[0m\u001b[0;34m\u001b[0m\u001b[0m\n\u001b[0m\u001b[1;32m     92\u001b[0m \u001b[0;34m\u001b[0m\u001b[0m\n\u001b[1;32m     93\u001b[0m     \u001b[0;32mdef\u001b[0m \u001b[0mextra_repr\u001b[0m\u001b[0;34m(\u001b[0m\u001b[0mself\u001b[0m\u001b[0;34m)\u001b[0m \u001b[0;34m->\u001b[0m \u001b[0mstr\u001b[0m\u001b[0;34m:\u001b[0m\u001b[0;34m\u001b[0m\u001b[0;34m\u001b[0m\u001b[0m\n",
            "\u001b[0;32m/usr/local/lib/python3.6/dist-packages/torch/nn/functional.py\u001b[0m in \u001b[0;36mlinear\u001b[0;34m(input, weight, bias)\u001b[0m\n\u001b[1;32m   1674\u001b[0m         \u001b[0mret\u001b[0m \u001b[0;34m=\u001b[0m \u001b[0mtorch\u001b[0m\u001b[0;34m.\u001b[0m\u001b[0maddmm\u001b[0m\u001b[0;34m(\u001b[0m\u001b[0mbias\u001b[0m\u001b[0;34m,\u001b[0m \u001b[0minput\u001b[0m\u001b[0;34m,\u001b[0m \u001b[0mweight\u001b[0m\u001b[0;34m.\u001b[0m\u001b[0mt\u001b[0m\u001b[0;34m(\u001b[0m\u001b[0;34m)\u001b[0m\u001b[0;34m)\u001b[0m\u001b[0;34m\u001b[0m\u001b[0;34m\u001b[0m\u001b[0m\n\u001b[1;32m   1675\u001b[0m     \u001b[0;32melse\u001b[0m\u001b[0;34m:\u001b[0m\u001b[0;34m\u001b[0m\u001b[0;34m\u001b[0m\u001b[0m\n\u001b[0;32m-> 1676\u001b[0;31m         \u001b[0moutput\u001b[0m \u001b[0;34m=\u001b[0m \u001b[0minput\u001b[0m\u001b[0;34m.\u001b[0m\u001b[0mmatmul\u001b[0m\u001b[0;34m(\u001b[0m\u001b[0mweight\u001b[0m\u001b[0;34m.\u001b[0m\u001b[0mt\u001b[0m\u001b[0;34m(\u001b[0m\u001b[0;34m)\u001b[0m\u001b[0;34m)\u001b[0m\u001b[0;34m\u001b[0m\u001b[0;34m\u001b[0m\u001b[0m\n\u001b[0m\u001b[1;32m   1677\u001b[0m         \u001b[0;32mif\u001b[0m \u001b[0mbias\u001b[0m \u001b[0;32mis\u001b[0m \u001b[0;32mnot\u001b[0m \u001b[0;32mNone\u001b[0m\u001b[0;34m:\u001b[0m\u001b[0;34m\u001b[0m\u001b[0;34m\u001b[0m\u001b[0m\n\u001b[1;32m   1678\u001b[0m             \u001b[0moutput\u001b[0m \u001b[0;34m+=\u001b[0m \u001b[0mbias\u001b[0m\u001b[0;34m\u001b[0m\u001b[0;34m\u001b[0m\u001b[0m\n",
            "\u001b[0;31mRuntimeError\u001b[0m: size mismatch, m1: [64 x 8], m2: [512 x 32] at /pytorch/aten/src/TH/generic/THTensorMath.cpp:41"
          ]
        }
      ]
    },
    {
      "cell_type": "markdown",
      "metadata": {
        "id": "67s3S48zrMYK",
        "colab_type": "text"
      },
      "source": [
        "This is due to the fact that we're not reshaping from a 8-channel 8x8 image to a 512-element 1D vector. We could do it with `view`, but in this case within the `nn.Sequential` module, we don't see the output of the previous model, so we can't use `view`.\n",
        "\n",
        "Let's use this as an opportunity to show that we can write our own module, which will enable us to do this reshaping. We do this by subclassing `nn.Module`. \n",
        "\n",
        "_(**Note:** since version 1.3 pytorch has the module `nn.Flatten()` which would solve this problem, but we go ahead with the alternative appraoch anyway)_"
      ]
    },
    {
      "cell_type": "code",
      "metadata": {
        "id": "l6UI1Z1vq9Oj",
        "colab_type": "code",
        "colab": {}
      },
      "source": [
        "# We define all modules in the class, and then put them together in the `forward`\n",
        "# method. Note that there is no `backward` method, as pytorch uses autograd.\n",
        "\n",
        "class Net(nn.Module):\n",
        "  def __init__(self):\n",
        "    super().__init__()\n",
        "    self.conv1 = nn.Conv2d(3, 16, kernel_size=3, padding=1)\n",
        "    self.act1 = nn.Tanh()\n",
        "    self.pool1 = nn.MaxPool2d(2)\n",
        "    self.conv2 = nn.Conv2d(16, 8, kernel_size=3, padding=1)\n",
        "    self.act2 = nn.Tanh()\n",
        "    self.pool2 = nn.MaxPool2d(2)\n",
        "    self.fc1 = nn.Linear(8 * 8 * 8, 32)\n",
        "    self.act3 = nn.Tanh()\n",
        "    self.fc2 = nn.Linear(32, 2)\n",
        "\n",
        "  def forward(self, x):\n",
        "    out = self.pool1(self.act1(self.conv1(x)))\n",
        "    out = self.pool2(self.act2(self.conv1(out)))\n",
        "    out = out.view(-1, 8 * 8 * 8) # the reshaping we needed before\n",
        "    out = self.act3(self.fc1(out))\n",
        "    out = self.fc2(out)\n",
        "    return(out)\n"
      ],
      "execution_count": 18,
      "outputs": []
    },
    {
      "cell_type": "code",
      "metadata": {
        "id": "jFJdSStXvXC6",
        "colab_type": "code",
        "colab": {
          "base_uri": "https://localhost:8080/",
          "height": 35
        },
        "outputId": "ce5caa4d-c995-4fea-cd97-50ac40aa41f1"
      },
      "source": [
        "# We can also see how big (i.e. how many parameters this model has)\n",
        "model = Net()\n",
        "numel_list = [p.numel() for p in model.parameters()]\n",
        "sum(numel_list), numel_list"
      ],
      "execution_count": 19,
      "outputs": [
        {
          "output_type": "execute_result",
          "data": {
            "text/plain": [
              "(18090, [432, 16, 1152, 8, 16384, 32, 64, 2])"
            ]
          },
          "metadata": {
            "tags": []
          },
          "execution_count": 19
        }
      ]
    },
    {
      "cell_type": "markdown",
      "metadata": {
        "id": "otXjkzX5v3xH",
        "colab_type": "text"
      },
      "source": [
        "Note that here we're using the model to define the entire network, but it could also be defined to a building block that could be used as a model within `nn.Sequential`\n",
        "\n",
        "Now, there is a way to write the above model in a more compact way, avoiding having to write out the module that have no parameters, like `nn.Tanh` and `nn.MaxPool2D`. For that we can use their functional form."
      ]
    },
    {
      "cell_type": "code",
      "metadata": {
        "id": "k0fljIq6vrNe",
        "colab_type": "code",
        "colab": {}
      },
      "source": [
        "import torch.nn.functional as F\n",
        "\n",
        "class Net(nn.Module):\n",
        "  def __init__(self):\n",
        "    super().__init__()\n",
        "    self.conv1 = nn.Conv2d(3, 16, kernel_size=3, padding=1)\n",
        "    self.conv2 = nn.Conv2d(16, 8, kernel_size=3, padding=1)\n",
        "    self.fc1 = nn.Linear(8 * 8 * 8, 32)\n",
        "    self.fc2 = nn.Linear(32, 2)\n",
        "\n",
        "  def forward(self, x):\n",
        "    out = F.max_pool2d(torch.tanh(self.conv1(x)), 2)\n",
        "    out = F.max_pool2d(torch.tanh(self.conv2(out)), 2)\n",
        "    out = out.view(-1, 8 * 8 * 8) # the reshaping we needed before\n",
        "    out = torch.tanh(self.fc1(out))\n",
        "    out = self.fc2(out)\n",
        "    return(out)\n"
      ],
      "execution_count": 2,
      "outputs": []
    },
    {
      "cell_type": "markdown",
      "metadata": {
        "id": "OIDEL8Oxx8UX",
        "colab_type": "text"
      },
      "source": [
        "We can now train the model as usual. We will need to first write a training loop"
      ]
    },
    {
      "cell_type": "code",
      "metadata": {
        "id": "TMefg8Tgx1g6",
        "colab_type": "code",
        "colab": {}
      },
      "source": [
        "import datetime\n",
        "\n",
        "def training_loop(n_epochs, optimizer, model, loss_fn, train_loader):\n",
        "  for epoch in range(1, n_epochs + 1):\n",
        "    loss_train = 0.0\n",
        "    for imgs, labels in train_loader:\n",
        "      outputs = model(imgs) # calculate predictions\n",
        "      loss = loss_fn(outputs, labels) # calculate loss\n",
        "      optimizer.zero_grad() # get rid of the previous gradient\n",
        "      loss.backward() # backprop\n",
        "      optimizer.step() # update parameters\n",
        "      loss_train += loss.item()\n",
        "    \n",
        "    if epoch ==1 or epoch % 10 == 0:\n",
        "      print(f'{datetime.datetime.now()} - Epoch: {epoch} - Loss: {loss_train / len(train_loader)}') # average loss per batch"
      ],
      "execution_count": 21,
      "outputs": []
    },
    {
      "cell_type": "code",
      "metadata": {
        "id": "eLvPgDFuz3jH",
        "colab_type": "code",
        "colab": {}
      },
      "source": [
        "# And finally we can train. Running on CPU this will take a while\n",
        "import torch.utils.data\n",
        "import torch.optim as optim"
      ],
      "execution_count": 22,
      "outputs": []
    },
    {
      "cell_type": "code",
      "metadata": {
        "id": "wV3QXXVk0Izw",
        "colab_type": "code",
        "colab": {}
      },
      "source": [
        "# Define the loader\n",
        "train_loader = torch.utils.data.DataLoader(cifar2, batch_size=64, shuffle=True)"
      ],
      "execution_count": 23,
      "outputs": []
    },
    {
      "cell_type": "code",
      "metadata": {
        "id": "87e_0irV0RuS",
        "colab_type": "code",
        "colab": {}
      },
      "source": [
        "# Initialise the model, definte optimizer and the loss\n",
        "model = Net()\n",
        "optimizer = optim.SGD(model.parameters(), lr=1e-2)\n",
        "loss_fn = nn.CrossEntropyLoss()"
      ],
      "execution_count": 24,
      "outputs": []
    },
    {
      "cell_type": "code",
      "metadata": {
        "id": "xfN9UBwK0ZYF",
        "colab_type": "code",
        "colab": {
          "base_uri": "https://localhost:8080/",
          "height": 208
        },
        "outputId": "ed9589b2-4692-4373-a786-303d72f89dc4"
      },
      "source": [
        "# Train (commented out as it takes a long time on CPU)\n",
        "# training_loop(\n",
        "#     n_epochs = 100,\n",
        "#     optimizer = optimizer,\n",
        "#     model = model,\n",
        "#     loss_fn = loss_fn,\n",
        "#     train_loader = train_loader\n",
        "# )"
      ],
      "execution_count": null,
      "outputs": [
        {
          "output_type": "stream",
          "text": [
            "2020-08-14 16:34:59.480955 - Epoch: 1 - Loss: 0.6714251307165546\n",
            "2020-08-14 16:35:39.461101 - Epoch: 10 - Loss: 0.4660154134984229\n",
            "2020-08-14 16:36:23.742914 - Epoch: 20 - Loss: 0.35437491279878436\n",
            "2020-08-14 16:37:07.903650 - Epoch: 30 - Loss: 0.33049961886588175\n",
            "2020-08-14 16:37:52.014473 - Epoch: 40 - Loss: 0.3133844162817973\n",
            "2020-08-14 16:38:36.654306 - Epoch: 50 - Loss: 0.30199066744108866\n",
            "2020-08-14 16:39:20.821056 - Epoch: 60 - Loss: 0.29209849295342805\n",
            "2020-08-14 16:40:05.448901 - Epoch: 70 - Loss: 0.27837342612302984\n",
            "2020-08-14 16:40:50.029361 - Epoch: 80 - Loss: 0.26692975772793887\n",
            "2020-08-14 16:41:34.388436 - Epoch: 90 - Loss: 0.2520826905491246\n",
            "2020-08-14 16:42:18.656572 - Epoch: 100 - Loss: 0.24048625170045598\n"
          ],
          "name": "stdout"
        }
      ]
    },
    {
      "cell_type": "markdown",
      "metadata": {
        "id": "sLL9Acf-_ZeI",
        "colab_type": "text"
      },
      "source": [
        "Let's now check the model accuracy"
      ]
    },
    {
      "cell_type": "code",
      "metadata": {
        "id": "mmItAiiE0qO5",
        "colab_type": "code",
        "colab": {}
      },
      "source": [
        "train_loader = torch.utils.data.DataLoader(cifar2, batch_size=64, shuffle=False)\n",
        "val_loader = torch.utils.data.DataLoader(cifar2_val, batch_size=64, shuffle=False)"
      ],
      "execution_count": 25,
      "outputs": []
    },
    {
      "cell_type": "code",
      "metadata": {
        "id": "hv86MHPp_i8r",
        "colab_type": "code",
        "colab": {}
      },
      "source": [
        "def validate(model, train_loader, val_loader):\n",
        "  for name, loader in [(\"train\", train_loader), (\"val\", val_loader)]:\n",
        "    correct = 0\n",
        "    total = 0\n",
        "    \n",
        "    with torch.no_grad():\n",
        "      for imgs, labels in loader:\n",
        "        outputs = model(imgs)\n",
        "        _ , predicted = torch.max(outputs, dim=1)\n",
        "        total += labels.shape[0]\n",
        "        correct += int((predicted == labels).sum())\n",
        "\n",
        "    print(f\"Accuracy: {name, correct / total}\")      "
      ],
      "execution_count": 26,
      "outputs": []
    },
    {
      "cell_type": "code",
      "metadata": {
        "id": "b6RVUiBvAEsn",
        "colab_type": "code",
        "colab": {
          "base_uri": "https://localhost:8080/",
          "height": 52
        },
        "outputId": "ad1b88a6-7002-4dee-85f9-68188e060149"
      },
      "source": [
        "validate(model, train_loader, val_loader)"
      ],
      "execution_count": 27,
      "outputs": [
        {
          "output_type": "stream",
          "text": [
            "Accuracy: ('train', 0.5)\n",
            "Accuracy: ('val', 0.5)\n"
          ],
          "name": "stdout"
        }
      ]
    },
    {
      "cell_type": "markdown",
      "metadata": {
        "id": "atA5S9J9A6xB",
        "colab_type": "text"
      },
      "source": [
        "Finally we can see how to save and load the model"
      ]
    },
    {
      "cell_type": "code",
      "metadata": {
        "id": "g9HGia_GAIg5",
        "colab_type": "code",
        "colab": {}
      },
      "source": [
        "# saving the model\n",
        "!mkdir \"/content/models\"\n",
        "path = '/content/models/'\n",
        "torch.save(model.state_dict(), path + 'birds_vs_airplanes.pt')"
      ],
      "execution_count": 28,
      "outputs": []
    },
    {
      "cell_type": "code",
      "metadata": {
        "id": "vDS5QqZCBMaZ",
        "colab_type": "code",
        "colab": {
          "base_uri": "https://localhost:8080/",
          "height": 35
        },
        "outputId": "64eece12-2cad-4388-f239-8069fddf83a6"
      },
      "source": [
        "# loading the model\n",
        "loaded_model = Net() # to load the model, you first need to initialise it with\n",
        "                     # exactly the same definition!\n",
        "\n",
        "loaded_model.load_state_dict(torch.load(path + 'birds_vs_airplanes.pt'))"
      ],
      "execution_count": 29,
      "outputs": [
        {
          "output_type": "execute_result",
          "data": {
            "text/plain": [
              "<All keys matched successfully>"
            ]
          },
          "metadata": {
            "tags": []
          },
          "execution_count": 29
        }
      ]
    },
    {
      "cell_type": "markdown",
      "metadata": {
        "id": "jNGmUbDMCewv",
        "colab_type": "text"
      },
      "source": [
        "## Training on the GPU\n",
        "\n",
        "We can now train the model on the GPU to make it faster. First let's check that the GPU is indeed available"
      ]
    },
    {
      "cell_type": "code",
      "metadata": {
        "id": "0gZWOMBeBij9",
        "colab_type": "code",
        "colab": {
          "base_uri": "https://localhost:8080/",
          "height": 35
        },
        "outputId": "06659e94-5b96-4155-9b61-36c0fef1cdae"
      },
      "source": [
        "device = (torch.device('cuda') if torch.cuda.is_available()\n",
        "          else torch.device('cpu'))\n",
        "print(f'Training on device {device}')"
      ],
      "execution_count": 30,
      "outputs": [
        {
          "output_type": "stream",
          "text": [
            "Training on device cuda\n"
          ],
          "name": "stdout"
        }
      ]
    },
    {
      "cell_type": "markdown",
      "metadata": {
        "id": "1SuUcIB5DZw3",
        "colab_type": "text"
      },
      "source": [
        "To train on the GPU we need to move our tensors there using the `Tensor.to` method. So our training loop changes as follows:"
      ]
    },
    {
      "cell_type": "code",
      "metadata": {
        "id": "I0IZ9BKvCsZb",
        "colab_type": "code",
        "colab": {}
      },
      "source": [
        "def training_loop(n_epochs, optimizer, model, loss_fn, train_loader):\n",
        "  print(device)\n",
        "  for epoch in range(1, n_epochs + 1):\n",
        "    loss_train = 0.0\n",
        "    for imgs, labels in train_loader:\n",
        "      imgs = imgs.to(device=device)\n",
        "      labels = labels.to(device=device)\n",
        "      outputs = model(imgs) # calculate predictions\n",
        "      loss = loss_fn(outputs, labels) # calculate loss\n",
        "      optimizer.zero_grad() # get rid of the previous gradient\n",
        "      loss.backward() # backprop\n",
        "      optimizer.step() # update parameters\n",
        "      loss_train += loss.item()\n",
        "    \n",
        "    if epoch ==1 or epoch % 10 == 0:\n",
        "      print(f'{datetime.datetime.now()} - Epoch: {epoch} - Loss: {loss_train / len(train_loader)}') # average loss per batch"
      ],
      "execution_count": 31,
      "outputs": []
    },
    {
      "cell_type": "markdown",
      "metadata": {
        "id": "xZb1dricDxwl",
        "colab_type": "text"
      },
      "source": [
        "Apart from that change, everything stays the same. So let's train again, and see how much faster it goes."
      ]
    },
    {
      "cell_type": "code",
      "metadata": {
        "id": "ym7iA4kWD5K6",
        "colab_type": "code",
        "colab": {
          "base_uri": "https://localhost:8080/",
          "height": 225
        },
        "outputId": "5021a27e-559f-47da-bb27-12f1fde8ce35"
      },
      "source": [
        "train_loader = torch.utils.data.DataLoader(cifar2, batch_size=64, shuffle=True)\n",
        "\n",
        "model = Net().to(device=device) # Need to move the model to the GPU as well\n",
        "optimizer = optim.SGD(model.parameters(), lr=1e-2)\n",
        "loss_fn = nn.CrossEntropyLoss()\n",
        "\n",
        "training_loop(\n",
        "    n_epochs = 100,\n",
        "    optimizer = optimizer,\n",
        "    model = model,\n",
        "    loss_fn = loss_fn,\n",
        "    train_loader = train_loader\n",
        ")"
      ],
      "execution_count": 32,
      "outputs": [
        {
          "output_type": "stream",
          "text": [
            "cuda\n",
            "2020-08-19 09:57:32.830245 - Epoch: 1 - Loss: 0.6834329556507669\n",
            "2020-08-19 09:57:39.451271 - Epoch: 10 - Loss: 0.4792278281822326\n",
            "2020-08-19 09:57:46.760501 - Epoch: 20 - Loss: 0.3627285306241102\n",
            "2020-08-19 09:57:54.091123 - Epoch: 30 - Loss: 0.33240907890781474\n",
            "2020-08-19 09:58:01.414226 - Epoch: 40 - Loss: 0.307209140413506\n",
            "2020-08-19 09:58:08.755706 - Epoch: 50 - Loss: 0.2859120364211927\n",
            "2020-08-19 09:58:16.060504 - Epoch: 60 - Loss: 0.270072672207644\n",
            "2020-08-19 09:58:23.393800 - Epoch: 70 - Loss: 0.25513639049545217\n",
            "2020-08-19 09:58:30.783896 - Epoch: 80 - Loss: 0.24408595880885034\n",
            "2020-08-19 09:58:38.176649 - Epoch: 90 - Loss: 0.23355080087663263\n",
            "2020-08-19 09:58:45.525967 - Epoch: 100 - Loss: 0.22380357681755808\n"
          ],
          "name": "stdout"
        }
      ]
    },
    {
      "cell_type": "markdown",
      "metadata": {
        "id": "RuIRqeMDE1rI",
        "colab_type": "text"
      },
      "source": [
        "And we will need to make the same changes to validate the model"
      ]
    },
    {
      "cell_type": "code",
      "metadata": {
        "colab_type": "code",
        "id": "iPJJC_EjE9nw",
        "colab": {}
      },
      "source": [
        "train_loader = torch.utils.data.DataLoader(cifar2, batch_size=64, shuffle=False)\n",
        "val_loader = torch.utils.data.DataLoader(cifar2_val, batch_size=64, shuffle=False)"
      ],
      "execution_count": 33,
      "outputs": []
    },
    {
      "cell_type": "code",
      "metadata": {
        "id": "kEqLXD5IE-2h",
        "colab_type": "code",
        "colab": {}
      },
      "source": [
        "def validate(model, train_loader, val_loader):\n",
        "  for name, loader in [(\"train\", train_loader), (\"val\", val_loader)]:\n",
        "    correct = 0\n",
        "    total = 0\n",
        "    \n",
        "    with torch.no_grad():\n",
        "      for imgs, labels in loader:\n",
        "        imgs = imgs.to(device=device)\n",
        "        labels = labels.to(device=device)\n",
        "        model = model.to(device=device)\n",
        "        outputs = model(imgs)\n",
        "        _ , predicted = torch.max(outputs, dim=1)\n",
        "        total += labels.shape[0]\n",
        "        correct += int((predicted == labels).sum())\n",
        "\n",
        "    print(f\"Accuracy: {name, correct / total}\")    "
      ],
      "execution_count": 34,
      "outputs": []
    },
    {
      "cell_type": "code",
      "metadata": {
        "id": "KLGsLbJzFLs0",
        "colab_type": "code",
        "colab": {
          "base_uri": "https://localhost:8080/",
          "height": 52
        },
        "outputId": "379be845-facc-44c5-b333-46b2afd4cb24"
      },
      "source": [
        "validate(model, train_loader, val_loader)"
      ],
      "execution_count": 35,
      "outputs": [
        {
          "output_type": "stream",
          "text": [
            "Accuracy: ('train', 0.91)\n",
            "Accuracy: ('val', 0.8845)\n"
          ],
          "name": "stdout"
        }
      ]
    },
    {
      "cell_type": "markdown",
      "metadata": {
        "id": "WnlEwC76FTGZ",
        "colab_type": "text"
      },
      "source": [
        "Finally, there is a **complication** when loading network weights: pytorch will attempt to load the weights to the save device it was saved from. We have 2 options:\n",
        "1. move the model to the CPU before saving\n",
        "2. tell pytorch to override the device info when loading weights, as follows:"
      ]
    },
    {
      "cell_type": "code",
      "metadata": {
        "id": "VJ1Gu0NVFJBQ",
        "colab_type": "code",
        "colab": {
          "base_uri": "https://localhost:8080/",
          "height": 35
        },
        "outputId": "4accb256-77fe-4c6f-a1a4-4745893a202d"
      },
      "source": [
        "loaded_model = Net().to(device=device)\n",
        "loaded_model.load_state_dict(torch.load(path + 'birds_vs_airplanes.pt', map_location=device))"
      ],
      "execution_count": 36,
      "outputs": [
        {
          "output_type": "execute_result",
          "data": {
            "text/plain": [
              "<All keys matched successfully>"
            ]
          },
          "metadata": {
            "tags": []
          },
          "execution_count": 36
        }
      ]
    },
    {
      "cell_type": "markdown",
      "metadata": {
        "id": "vl5VVykhGFff",
        "colab_type": "text"
      },
      "source": [
        "## Model design\n",
        "\n",
        "We can explore ways in which we can modify the architecture of the model"
      ]
    },
    {
      "cell_type": "markdown",
      "metadata": {
        "id": "76iHZsHJQ3n8",
        "colab_type": "text"
      },
      "source": [
        "### Width\n",
        "\n",
        "This is the number of neurons per layer, or channels per convolution. This is done by specifying a larger number of output channels in the first convolution and increase the subsequent layears accordingly."
      ]
    },
    {
      "cell_type": "code",
      "metadata": {
        "id": "nOTYdQKWGDMP",
        "colab_type": "code",
        "colab": {}
      },
      "source": [
        "class NetWidth(nn.Module):\n",
        "  def __init__(self):\n",
        "    super().__init__()\n",
        "    self.conv1 = nn.Conv2d(3, 32, kernel_size=3, padding=1)\n",
        "    self.conv2 = nn.Conv2d(32, 16, kernel_size=3, padding=1)\n",
        "    self.fc1 = nn.Linear(16 * 8 * 8, 32)\n",
        "    self.fc2 = nn.Linear(32, 2)\n",
        "  \n",
        "  def forward(self, x):\n",
        "    out = F.max_pool2d(torch.tanh(self.conv1(x)), 2)\n",
        "    out = F.max_pool2d(torch.tanh(self.conv2(out)), 2)\n",
        "    out = out.view(-1, 16 * 8 * 8)\n",
        "    out = torch.tanh(self.fc1(out))\n",
        "    out = self.fc2(out)\n",
        "    return output_pool"
      ],
      "execution_count": 37,
      "outputs": []
    },
    {
      "cell_type": "code",
      "metadata": {
        "id": "GPrFvrhuSKHn",
        "colab_type": "code",
        "colab": {}
      },
      "source": [
        "# Even better, we can specify the number of channels in the init, so we do not \n",
        "# need to update the class everywhere whenever we want to change the number of channels\n",
        "class NetWidth(nn.Module):\n",
        "  def __init__(self, n_channels=32):\n",
        "    super().__init__()\n",
        "    self.n_channels = n_channels\n",
        "    self.conv1 = nn.Conv2d(3, n_channels, kernel_size=3, padding=1)\n",
        "    self.conv2 = nn.Conv2d(n_channels, n_channels // 2, kernel_size=3, padding=1)\n",
        "    self.fc1 = nn.Linear((n_channels // 2) * 8 * 8, 32)\n",
        "    self.fc2 = nn.Linear(32, 2)\n",
        "  \n",
        "  def forward(self, x):\n",
        "    out = F.max_pool2d(torch.tanh(self.conv1(x)), 2)\n",
        "    out = F.max_pool2d(torch.tanh(self.conv2(out)), 2)\n",
        "    out = out.view(-1, self.n_channels * 8 * 8)\n",
        "    out = torch.tanh(self.fc1(out))\n",
        "    out = self.fc2(out)\n",
        "    return out"
      ],
      "execution_count": 3,
      "outputs": []
    },
    {
      "cell_type": "markdown",
      "metadata": {
        "id": "d578R7mDS0Xa",
        "colab_type": "text"
      },
      "source": [
        "Increasing the number of channels increases the number of parameters, thus increasing the _capacity_ of the model. Note that this will make it easier for the model to train, but it will also increase the likelihood of overfitting. "
      ]
    },
    {
      "cell_type": "code",
      "metadata": {
        "id": "tAT5SW7USzSI",
        "colab_type": "code",
        "colab": {}
      },
      "source": [
        "model1 = NetWidth()\n",
        "model2 = NetWidth(n_channels=64)"
      ],
      "execution_count": 39,
      "outputs": []
    },
    {
      "cell_type": "code",
      "metadata": {
        "id": "GkDSaHs1UBYh",
        "colab_type": "code",
        "colab": {
          "base_uri": "https://localhost:8080/",
          "height": 35
        },
        "outputId": "838afb3d-f41d-4a7f-e838-266c7d78da52"
      },
      "source": [
        "sum(p.numel() for p in model1.parameters())"
      ],
      "execution_count": 42,
      "outputs": [
        {
          "output_type": "execute_result",
          "data": {
            "text/plain": [
              "38386"
            ]
          },
          "metadata": {
            "tags": []
          },
          "execution_count": 42
        }
      ]
    },
    {
      "cell_type": "code",
      "metadata": {
        "id": "XmzJYDGsUFBk",
        "colab_type": "code",
        "colab": {
          "base_uri": "https://localhost:8080/",
          "height": 35
        },
        "outputId": "5a6965e2-9b2e-4a43-fdfc-3c0f1bc8cbf2"
      },
      "source": [
        "sum(p.numel() for p in model2.parameters())"
      ],
      "execution_count": 43,
      "outputs": [
        {
          "output_type": "execute_result",
          "data": {
            "text/plain": [
              "85890"
            ]
          },
          "metadata": {
            "tags": []
          },
          "execution_count": 43
        }
      ]
    },
    {
      "cell_type": "markdown",
      "metadata": {
        "id": "IXeMt3hMUP95",
        "colab_type": "text"
      },
      "source": [
        "### Regularisation\n",
        "\n",
        "Regularisation helps the model to converge and generalise, i.e. it reduces the risk of overfitting. There are three main ways in which we can achieve regularisation:\n",
        "- Weight penalties\n",
        "- Dropout\n",
        "- Batch normalisation"
      ]
    },
    {
      "cell_type": "markdown",
      "metadata": {
        "id": "y1cURCUbU95v",
        "colab_type": "text"
      },
      "source": [
        "#### _Weight penalties_\n",
        "\n",
        "This is done by adding a regularisation term to the loss. The penalty is on larger weight values. This makes the loss have a smoother topography, and there's less to gain from fitting individual samples.\n",
        "\n",
        "In pytorch we can implement regularisation pretty easily by adding a term to the loss. This changes the training loop as follows:"
      ]
    },
    {
      "cell_type": "code",
      "metadata": {
        "id": "-fMcVgZIUMY0",
        "colab_type": "code",
        "colab": {}
      },
      "source": [
        "def training_loop(n_epochs, optimizer, model, loss_fn, train_loader):\n",
        "  print(device)\n",
        "  for epoch in range(1, n_epochs + 1):\n",
        "    loss_train = 0.0\n",
        "    for imgs, labels in train_loader:\n",
        "      imgs = imgs.to(device=device)\n",
        "      labels = labels.to(device=device)\n",
        "      outputs = model(imgs) # calculate predictions\n",
        "      loss = loss_fn(outputs, labels) # calculate loss\n",
        "\n",
        "      # Adding l1 or l2 penalty to loss\n",
        "      l2_lambda = 0.001\n",
        "      l2_norm = sum(p.pow(2.0).sum() for p in model.parameters())\n",
        "      # or\n",
        "      # l1_norm = sum(p.abs().sum for p in model.parameters())\n",
        "      loss = loss + l2_lambda + l2_norm\n",
        "\n",
        "      optimizer.zero_grad() # get rid of the previous gradient\n",
        "      loss.backward() # backprop\n",
        "      optimizer.step() # update parameters\n",
        "      loss_train += loss.item()\n",
        "    \n",
        "    if epoch ==1 or epoch % 10 == 0:\n",
        "      print(f'{datetime.datetime.now()} - Epoch: {epoch} - Loss: {loss_train / len(train_loader)}') # average loss per batch"
      ],
      "execution_count": null,
      "outputs": []
    },
    {
      "cell_type": "markdown",
      "metadata": {
        "id": "04lomRJ6W-gy",
        "colab_type": "text"
      },
      "source": [
        "Note however that the SGD optimizer already has a `weight_decay` parameters which corresponds to `2 * lambda`, and it directly perform weight decay during the update. It is fully equivalent to adding the L2 norm of weights to the loss, without the need for accumulating terms in the loss and involving autograd."
      ]
    },
    {
      "cell_type": "markdown",
      "metadata": {
        "id": "9xbhPwiQYICE",
        "colab_type": "text"
      },
      "source": [
        "#### _Dropout_\n",
        "\n",
        "This basically involves zeroing out a random fraction of outputs from neurons across the network, where the randomisation happens at each training iteration. Effectively, this procedure generates slighly different models with different neuron topologies at each iteration.\n",
        "\n",
        "It's easy to implement this in pytorch. In the case of convolutions we can use the `nn.Dropout2d` or `nn.Dropout3d` modules. We can change the model as follows:\n",
        "\n"
      ]
    },
    {
      "cell_type": "code",
      "metadata": {
        "id": "mq4RnqyjYF9T",
        "colab_type": "code",
        "colab": {}
      },
      "source": [
        "class NetDropout(nn.Module):\n",
        "  def __init__(self, n_channels=32):\n",
        "    super().__init__()\n",
        "    self.n_channels = n_channels\n",
        "    self.conv1 = nn.Conv2d(3, n_channels, kernel_size=3, padding=1)\n",
        "    self.conv1_dropout = nn.Dropout2d(p=0.4) # p is the fractions of neurons being swiched off\n",
        "    self.conv2 = nn.Conv2d(n_channels, n_channels // 2, kernel_size=3, padding=1)\n",
        "    self.conv2_dropout = nn.Dropout2d(p=0.4) # also here\n",
        "    self.fc1 = nn.Linear((n_channels // 2) * 8 * 8, 32)\n",
        "    self.fc2 = nn.Linear(32, 2)\n",
        "  \n",
        "  def forward(self, x):\n",
        "    out = F.max_pool2d(torch.tanh(self.conv1(x)), 2)\n",
        "    out = self.conv1_dropout(out) # and we add it here...\n",
        "    out = F.max_pool2d(torch.tanh(self.conv2(out)), 2)\n",
        "    out = self.conv2_dropout(out) # ...as well as here\n",
        "    out = out.view(-1, self.n_channels // 2 * 8 * 8)\n",
        "    out = torch.tanh(self.fc1(out))\n",
        "    out = self.fc2(out)\n",
        "    return out"
      ],
      "execution_count": 5,
      "outputs": []
    },
    {
      "cell_type": "markdown",
      "metadata": {
        "id": "SsUxXIbEoCer",
        "colab_type": "text"
      },
      "source": [
        "Dropout is **normally active during traininig** but not during **evaluation, where it's bypassed**. This is controlled through the `train` property of the `Dropout` module. Pytorch lets us switch between the two modalities by calling\n",
        "- `model.train()`\n",
        "or\n",
        "- `model.eval()`\n",
        "on any `nn.Model` subclass. The call will be automatically replicated on the submodules so that if `Dropout` is among them, it will behave accordingly in subsequent forward and backward passes."
      ]
    },
    {
      "cell_type": "markdown",
      "metadata": {
        "id": "gHmK0v2Px6VS",
        "colab_type": "text"
      },
      "source": [
        "#### _Batch normalisation_\n",
        "\n",
        "The main idea is to rescale the inputs to the activations of the network so that minibatches have a certain desirable distribution.\n",
        "Batch normalisation shifts and scales an intermediate input using the mean and standard deviation collected at the intermediate location over the samples of the minibatch.\n",
        "\n",
        "Batch normalisation should reduce the need for dropout. This is done in pytorch by using the modules `nn.BatchNorm1d`, `nn.BatchNorm2d` and `nn.BatchNorm3d`, as follows:"
      ]
    },
    {
      "cell_type": "code",
      "metadata": {
        "id": "9qESMbLbnpIK",
        "colab_type": "code",
        "colab": {}
      },
      "source": [
        "class NetBatch(nn.Module):\n",
        "  def __init__(self, n_channels=32):\n",
        "    super().__init__()\n",
        "    self.n_channels = n_channels\n",
        "    self.conv1 = nn.Conv2d(3, n_channels, kernel_size=3, padding=1)\n",
        "    self.conv1_batchnorm = nn.BatchNorm2d(num_features=n_channels) # add batch normalisation module here...\n",
        "    self.conv2 = nn.Conv2d(n_channels, n_channels // 2, kernel_size=3, padding=1)\n",
        "    self.conv2_batchnorm = nn.BatchNorm2d(num_features=n_channels) # ...also here\n",
        "    self.fc1 = nn.Linear((n_channels // 2) * 8 * 8, 32)\n",
        "    self.fc2 = nn.Linear(32, 2)\n",
        "  \n",
        "  def forward(self, x):\n",
        "    out = F.max_pool2d(torch.tanh(self.conv1(x)), 2)\n",
        "    out = self.conv1_batchnorm(out) # and we add it here...\n",
        "    out = F.max_pool2d(torch.tanh(self.conv2(out)), 2)\n",
        "    out = self.conv2_batchnorm(out) # ...as well as here\n",
        "    out = out.view(-1, self.n_channels // 2 * 8 * 8)\n",
        "    out = torch.tanh(self.fc1(out))\n",
        "    out = self.fc2(out)\n",
        "    return out"
      ],
      "execution_count": 6,
      "outputs": []
    },
    {
      "cell_type": "markdown",
      "metadata": {
        "id": "MUuu_kEkzks6",
        "colab_type": "text"
      },
      "source": [
        "`model.train()` and `model.eval()` are used in the same way as for dropout."
      ]
    },
    {
      "cell_type": "markdown",
      "metadata": {
        "id": "v9bOmv_Bzy-8",
        "colab_type": "text"
      },
      "source": [
        "### Depth\n",
        "\n",
        "Depth allows a model to deal with hierarchical information when we need to understand the context in order to say something about some input.\n",
        "\n",
        "But depth comes with some challenges, which prevented deep learning models from reaching 20 or more layers until late 2015. Depth makes training harder to converge. The main problem was the _vanishing gradient_ due to the fact that many small numbers are being multiplied with each other.\n",
        "\n",
        "However, there are now techniques that can be used to go around this problem."
      ]
    },
    {
      "cell_type": "markdown",
      "metadata": {
        "id": "7FpApDMa3bQU",
        "colab_type": "text"
      },
      "source": [
        "#### _Skip connections_\n",
        "\n",
        "This is a way to deal with vanishing gradient problem. The idea is quite simple: skip connections. This is nothing but the addition of the input to the output of a block of layers. This architecture (known as _residual networks_ or ResNets) could be implemented like this:"
      ]
    },
    {
      "cell_type": "code",
      "metadata": {
        "id": "eBTA8dOkzj7x",
        "colab_type": "code",
        "colab": {}
      },
      "source": [
        "class NetDepth(nn.Module):\n",
        "  def __init__(self, n_channels=32):\n",
        "    super().__init__()\n",
        "    self.n_channels = n_channels\n",
        "    self.conv1 = nn.Conv2d(3, n_channels, kernel_size=3, padding=1)\n",
        "    self.conv2 = nn.Conv2d(n_channels, n_channels // 2, kernel_size=3, padding=1)\n",
        "    self.conv3 = nn.Conv2d(n_channels // 2, n_channels // 4, kernel_size=3, padding=1)\n",
        "    self.fc1 = nn.Linear((n_channels // 4) * 4 * 4, 32)\n",
        "    self.fc2 = nn.Linear(32, 2)\n",
        "  \n",
        "  def forward(self, x):\n",
        "    out = F.max_pool2d(torch.relu(self.conv1(x)), 2)\n",
        "    out = F.max_pool2d(torch.relu(self.conv2(out)), 2)\n",
        "    out1 = out # saving the output to a separate variable...\n",
        "    out = F.max_pool2d(torch.relu(self.conv3(out)) + out1, 2) # ...and adding it here \n",
        "    out = out.view(-1, self.n_channels // 2 * 4 * 4)\n",
        "    out = torch.tanh(self.fc1(out))\n",
        "    out = self.fc2(out)\n",
        "    return out"
      ],
      "execution_count": 7,
      "outputs": []
    },
    {
      "cell_type": "markdown",
      "metadata": {
        "id": "9pOwK0nD82uM",
        "colab_type": "text"
      },
      "source": [
        "It has been observed that skip connections have a beneficial effect on convergence especially in the initial phases of training.\n",
        "\n",
        "It's also possible to create sub-modules and then combining them together into more complex networks (see page 227-228 for an example)\n",
        "\n",
        "Finally, a comment about __initialisation.__ This is one of the important tricks in training neural networks. We note that the default weight initialisation in pytorch is not ideal. [See issue](https://github.com/pytorch/pytorch/issues/18182) to see whether this feature has been fixed / updated."
      ]
    }
  ]
}