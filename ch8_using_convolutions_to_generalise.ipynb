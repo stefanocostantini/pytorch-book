{
  "nbformat": 4,
  "nbformat_minor": 0,
  "metadata": {
    "colab": {
      "name": "ch8_using_convolutions_to_generalise.ipynb",
      "provenance": [],
      "collapsed_sections": [
        "XXO7gTlUpPAN"
      ],
      "authorship_tag": "ABX9TyMgyVRCEz//1iLY3KEYMTNQ",
      "include_colab_link": true
    },
    "kernelspec": {
      "name": "python3",
      "display_name": "Python 3"
    },
    "widgets": {
      "application/vnd.jupyter.widget-state+json": {
        "471dac049b1d4db2ab2b9b9e2af2d8e9": {
          "model_module": "@jupyter-widgets/controls",
          "model_name": "HBoxModel",
          "state": {
            "_view_name": "HBoxView",
            "_dom_classes": [],
            "_model_name": "HBoxModel",
            "_view_module": "@jupyter-widgets/controls",
            "_model_module_version": "1.5.0",
            "_view_count": null,
            "_view_module_version": "1.5.0",
            "box_style": "",
            "layout": "IPY_MODEL_f284db904ed5409f9e409fca3afe3ac2",
            "_model_module": "@jupyter-widgets/controls",
            "children": [
              "IPY_MODEL_7d12fb5d6a7f4a6fa25c756680c01758",
              "IPY_MODEL_5670b05300b04480936413c07cc1dae1"
            ]
          }
        },
        "f284db904ed5409f9e409fca3afe3ac2": {
          "model_module": "@jupyter-widgets/base",
          "model_name": "LayoutModel",
          "state": {
            "_view_name": "LayoutView",
            "grid_template_rows": null,
            "right": null,
            "justify_content": null,
            "_view_module": "@jupyter-widgets/base",
            "overflow": null,
            "_model_module_version": "1.2.0",
            "_view_count": null,
            "flex_flow": null,
            "width": null,
            "min_width": null,
            "border": null,
            "align_items": null,
            "bottom": null,
            "_model_module": "@jupyter-widgets/base",
            "top": null,
            "grid_column": null,
            "overflow_y": null,
            "overflow_x": null,
            "grid_auto_flow": null,
            "grid_area": null,
            "grid_template_columns": null,
            "flex": null,
            "_model_name": "LayoutModel",
            "justify_items": null,
            "grid_row": null,
            "max_height": null,
            "align_content": null,
            "visibility": null,
            "align_self": null,
            "height": null,
            "min_height": null,
            "padding": null,
            "grid_auto_rows": null,
            "grid_gap": null,
            "max_width": null,
            "order": null,
            "_view_module_version": "1.2.0",
            "grid_template_areas": null,
            "object_position": null,
            "object_fit": null,
            "grid_auto_columns": null,
            "margin": null,
            "display": null,
            "left": null
          }
        },
        "7d12fb5d6a7f4a6fa25c756680c01758": {
          "model_module": "@jupyter-widgets/controls",
          "model_name": "FloatProgressModel",
          "state": {
            "_view_name": "ProgressView",
            "style": "IPY_MODEL_ca19554bd81141c7a88c75372a29c60d",
            "_dom_classes": [],
            "description": "",
            "_model_name": "FloatProgressModel",
            "bar_style": "info",
            "max": 1,
            "_view_module": "@jupyter-widgets/controls",
            "_model_module_version": "1.5.0",
            "value": 1,
            "_view_count": null,
            "_view_module_version": "1.5.0",
            "orientation": "horizontal",
            "min": 0,
            "description_tooltip": null,
            "_model_module": "@jupyter-widgets/controls",
            "layout": "IPY_MODEL_0f04fcc2ec6c4e9cbf9a7aeb63b4f798"
          }
        },
        "5670b05300b04480936413c07cc1dae1": {
          "model_module": "@jupyter-widgets/controls",
          "model_name": "HTMLModel",
          "state": {
            "_view_name": "HTMLView",
            "style": "IPY_MODEL_9a08914d9c72479a9d246678b602d519",
            "_dom_classes": [],
            "description": "",
            "_model_name": "HTMLModel",
            "placeholder": "​",
            "_view_module": "@jupyter-widgets/controls",
            "_model_module_version": "1.5.0",
            "value": " 170500096/? [00:20&lt;00:00, 95165065.84it/s]",
            "_view_count": null,
            "_view_module_version": "1.5.0",
            "description_tooltip": null,
            "_model_module": "@jupyter-widgets/controls",
            "layout": "IPY_MODEL_2a3ca52d4e26458ca6d1c02098a43f88"
          }
        },
        "ca19554bd81141c7a88c75372a29c60d": {
          "model_module": "@jupyter-widgets/controls",
          "model_name": "ProgressStyleModel",
          "state": {
            "_view_name": "StyleView",
            "_model_name": "ProgressStyleModel",
            "description_width": "initial",
            "_view_module": "@jupyter-widgets/base",
            "_model_module_version": "1.5.0",
            "_view_count": null,
            "_view_module_version": "1.2.0",
            "bar_color": null,
            "_model_module": "@jupyter-widgets/controls"
          }
        },
        "0f04fcc2ec6c4e9cbf9a7aeb63b4f798": {
          "model_module": "@jupyter-widgets/base",
          "model_name": "LayoutModel",
          "state": {
            "_view_name": "LayoutView",
            "grid_template_rows": null,
            "right": null,
            "justify_content": null,
            "_view_module": "@jupyter-widgets/base",
            "overflow": null,
            "_model_module_version": "1.2.0",
            "_view_count": null,
            "flex_flow": null,
            "width": null,
            "min_width": null,
            "border": null,
            "align_items": null,
            "bottom": null,
            "_model_module": "@jupyter-widgets/base",
            "top": null,
            "grid_column": null,
            "overflow_y": null,
            "overflow_x": null,
            "grid_auto_flow": null,
            "grid_area": null,
            "grid_template_columns": null,
            "flex": null,
            "_model_name": "LayoutModel",
            "justify_items": null,
            "grid_row": null,
            "max_height": null,
            "align_content": null,
            "visibility": null,
            "align_self": null,
            "height": null,
            "min_height": null,
            "padding": null,
            "grid_auto_rows": null,
            "grid_gap": null,
            "max_width": null,
            "order": null,
            "_view_module_version": "1.2.0",
            "grid_template_areas": null,
            "object_position": null,
            "object_fit": null,
            "grid_auto_columns": null,
            "margin": null,
            "display": null,
            "left": null
          }
        },
        "9a08914d9c72479a9d246678b602d519": {
          "model_module": "@jupyter-widgets/controls",
          "model_name": "DescriptionStyleModel",
          "state": {
            "_view_name": "StyleView",
            "_model_name": "DescriptionStyleModel",
            "description_width": "",
            "_view_module": "@jupyter-widgets/base",
            "_model_module_version": "1.5.0",
            "_view_count": null,
            "_view_module_version": "1.2.0",
            "_model_module": "@jupyter-widgets/controls"
          }
        },
        "2a3ca52d4e26458ca6d1c02098a43f88": {
          "model_module": "@jupyter-widgets/base",
          "model_name": "LayoutModel",
          "state": {
            "_view_name": "LayoutView",
            "grid_template_rows": null,
            "right": null,
            "justify_content": null,
            "_view_module": "@jupyter-widgets/base",
            "overflow": null,
            "_model_module_version": "1.2.0",
            "_view_count": null,
            "flex_flow": null,
            "width": null,
            "min_width": null,
            "border": null,
            "align_items": null,
            "bottom": null,
            "_model_module": "@jupyter-widgets/base",
            "top": null,
            "grid_column": null,
            "overflow_y": null,
            "overflow_x": null,
            "grid_auto_flow": null,
            "grid_area": null,
            "grid_template_columns": null,
            "flex": null,
            "_model_name": "LayoutModel",
            "justify_items": null,
            "grid_row": null,
            "max_height": null,
            "align_content": null,
            "visibility": null,
            "align_self": null,
            "height": null,
            "min_height": null,
            "padding": null,
            "grid_auto_rows": null,
            "grid_gap": null,
            "max_width": null,
            "order": null,
            "_view_module_version": "1.2.0",
            "grid_template_areas": null,
            "object_position": null,
            "object_fit": null,
            "grid_auto_columns": null,
            "margin": null,
            "display": null,
            "left": null
          }
        }
      }
    }
  },
  "cells": [
    {
      "cell_type": "markdown",
      "metadata": {
        "id": "view-in-github",
        "colab_type": "text"
      },
      "source": [
        "<a href=\"https://colab.research.google.com/github/stefanocostantini/pytorch-book/blob/master/ch8_using_convolutions_to_generalise.ipynb\" target=\"_parent\"><img src=\"https://colab.research.google.com/assets/colab-badge.svg\" alt=\"Open In Colab\"/></a>"
      ]
    },
    {
      "cell_type": "markdown",
      "metadata": {
        "id": "XXO7gTlUpPAN",
        "colab_type": "text"
      },
      "source": [
        "## Data"
      ]
    },
    {
      "cell_type": "markdown",
      "metadata": {
        "id": "FibRln8RpYKt",
        "colab_type": "text"
      },
      "source": [
        "We re-create the same datasets which we used in the previous chapter"
      ]
    },
    {
      "cell_type": "code",
      "metadata": {
        "id": "9GSXP7CNpWuz",
        "colab_type": "code",
        "colab": {}
      },
      "source": [
        "import torch\n",
        "from torchvision import transforms"
      ],
      "execution_count": null,
      "outputs": []
    },
    {
      "cell_type": "code",
      "metadata": {
        "id": "Y2Qd-7PopdG_",
        "colab_type": "code",
        "colab": {
          "base_uri": "https://localhost:8080/",
          "height": 101,
          "referenced_widgets": [
            "471dac049b1d4db2ab2b9b9e2af2d8e9",
            "f284db904ed5409f9e409fca3afe3ac2",
            "7d12fb5d6a7f4a6fa25c756680c01758",
            "5670b05300b04480936413c07cc1dae1",
            "ca19554bd81141c7a88c75372a29c60d",
            "0f04fcc2ec6c4e9cbf9a7aeb63b4f798",
            "9a08914d9c72479a9d246678b602d519",
            "2a3ca52d4e26458ca6d1c02098a43f88"
          ]
        },
        "outputId": "00a6a394-4731-4a77-ac0d-b6d17bf4f59c"
      },
      "source": [
        "## Download files locally\n",
        "!mkdir /content/cifar10/\n",
        "from torchvision import datasets\n",
        "data_path_for_saving = '/content/cifar10/'\n",
        "cifar10 = datasets.CIFAR10(data_path_for_saving, train=True, download=True)\n",
        "cifar10_val = datasets.CIFAR10(data_path_for_saving, train=False, download=True)"
      ],
      "execution_count": null,
      "outputs": [
        {
          "output_type": "stream",
          "text": [
            "Downloading https://www.cs.toronto.edu/~kriz/cifar-10-python.tar.gz to /content/cifar10/cifar-10-python.tar.gz\n"
          ],
          "name": "stdout"
        },
        {
          "output_type": "display_data",
          "data": {
            "application/vnd.jupyter.widget-view+json": {
              "model_id": "471dac049b1d4db2ab2b9b9e2af2d8e9",
              "version_minor": 0,
              "version_major": 2
            },
            "text/plain": [
              "HBox(children=(FloatProgress(value=1.0, bar_style='info', max=1.0), HTML(value='')))"
            ]
          },
          "metadata": {
            "tags": []
          }
        },
        {
          "output_type": "stream",
          "text": [
            "Extracting /content/cifar10/cifar-10-python.tar.gz to /content/cifar10/\n",
            "Files already downloaded and verified\n"
          ],
          "name": "stdout"
        }
      ]
    },
    {
      "cell_type": "code",
      "metadata": {
        "id": "ZRkfSrmI4rS-",
        "colab_type": "code",
        "colab": {}
      },
      "source": [
        "tensor_cifar10 = datasets.CIFAR10(data_path_for_saving, train=True, download=False,\n",
        "                                  transform=transforms.ToTensor())\n",
        "tensor_cifar10_val = datasets.CIFAR10(data_path_for_saving, train=False, download=False,\n",
        "                                      transform=transforms.ToTensor())"
      ],
      "execution_count": null,
      "outputs": []
    },
    {
      "cell_type": "code",
      "metadata": {
        "id": "TIiKiXEpppMk",
        "colab_type": "code",
        "colab": {
          "base_uri": "https://localhost:8080/",
          "height": 35
        },
        "outputId": "d28b630a-e9f2-4af1-f805-c77d0421a68d"
      },
      "source": [
        "imgs = torch.stack([item_t for item_t, _ in tensor_cifar10], dim = 3)\n",
        "reshaped = imgs.view(3,-1) # keep the first dimension, squash all others into a single dim\n",
        "print(reshaped.shape)\n",
        "\n",
        "means = reshaped.mean(dim=1) # mean of the first dimension (i.e. the three channels)\n",
        "stds = reshaped.std(dim=1)"
      ],
      "execution_count": null,
      "outputs": [
        {
          "output_type": "stream",
          "text": [
            "torch.Size([3, 51200000])\n"
          ],
          "name": "stdout"
        }
      ]
    },
    {
      "cell_type": "code",
      "metadata": {
        "id": "JSFOF1ZgpfEU",
        "colab_type": "code",
        "colab": {}
      },
      "source": [
        "# Now we have the information to do the normalisation, as follows.\n",
        "# Note that we `compose` transformations together\n",
        "transformed_cifar10 = datasets.CIFAR10(data_path_for_saving, train=True, download=False,\n",
        "                                       transform = transforms.Compose([\n",
        "                                          transforms.ToTensor(),\n",
        "                                          transforms.Normalize((means[0], means[1], means[2]),\n",
        "                                                              (stds[0], stds[1], stds[2]))                              \n",
        "                                       ]))\n",
        "\n",
        "transformed_cifar10_val = datasets.CIFAR10(data_path_for_saving, train=False, download=False,\n",
        "                                       transform = transforms.Compose([\n",
        "                                         transforms.ToTensor(),\n",
        "                                         transforms.Normalize((means[0], means[1], means[2]),\n",
        "                                                              (stds[0], stds[1], stds[2]))                              \n",
        "                                       ]))"
      ],
      "execution_count": null,
      "outputs": []
    },
    {
      "cell_type": "code",
      "metadata": {
        "id": "fTIhrWZzpnuo",
        "colab_type": "code",
        "colab": {}
      },
      "source": [
        "# We just want to keep class 0 and 2. Remember that the __getitem__ method returns\n",
        "# both the item and its label\n",
        "class_mapping = {0: 0, 2: 1}\n",
        "\n",
        "cifar2 = [(item, class_mapping[label])\n",
        "          for item, label in tensor_cifar10 if label in [0,2]]\n",
        "cifar2_val = [(item, class_mapping[label])\n",
        "          for item, label in tensor_cifar10_val if label in [0,2]] "
      ],
      "execution_count": null,
      "outputs": []
    },
    {
      "cell_type": "markdown",
      "metadata": {
        "id": "1A_1DEwy5KMO",
        "colab_type": "text"
      },
      "source": [
        "## Intro to convolutions"
      ]
    },
    {
      "cell_type": "markdown",
      "metadata": {
        "id": "egCbMsrN5Yvc",
        "colab_type": "text"
      },
      "source": [
        "_**Note:** We now have the same datasets as before (`cifar2` and `cifar2_val`) at our disposal._\n",
        "\n",
        "_**Note 2:** my focus for this chapter is on how to subclass the `nn` module, hence will cover convolutions only at a high level._\n",
        "\n",
        "Convolutions are needed to deliver locality and translation invariance.\n",
        "\n",
        "Convolutions for a 2D image are the scalar (dot) product of a weight matrix (the _kernel_) with every neighbourhood in the input.\n",
        "\n",
        "So, if we have kernel as follows:\n",
        "\n",
        "```\n",
        "weight = torch.tensor([[w00, w01, w02],\n",
        "                       [w10, w11, w12],\n",
        "                       [w20, w21, w22]])\n",
        "```\n",
        "and  a 1-channel MxN image:\n",
        "```\n",
        "image = torch.tensor([[i00, i01, i02, i03, ..., i0N],\n",
        "                      [i10, i11, i12, i13, ..., i1N],\n",
        "                      [i20, i21, i22, i23, ..., i2N],\n",
        "                      [i30, i31, i32, i33, ..., i3N],\n",
        "                      ...\n",
        "                      [iM0, iM1m iM2, iM3, ..., iMN]])\n",
        "```\n",
        "The the output at, say, `1,1` can be calculated as follows (without bias):\n",
        "```\n",
        "o11 = i11 * w00 + i12 * w01 + i13 * w02 +\n",
        "      i21 * w10 + i22 * w11 + i23 * w12 +\n",
        "      i31 * w20 + i32 * w21 + i33 * w22\n",
        "```\n",
        "By repeating this calculation for each input of the image (i.e. by translating the kernel on all input locations) we obtain an output image where each location will be expressed as a weighted sum of its immediate vicinity (depending on the size of the kernel).\n",
        "\n",
        "Note that we do not know the weights in advance: these are randomly initialised at the beginning and then learned through model training. Note also that the same weights are using across the whole image, so they have a history spanning the entire image. Thus, the derivative of the loss with respect to a convolution weight includes contributions from the entire image.\n",
        "\n",
        "This also mean that we have many fewer parameters compared with a fully connected model which accepts 1D inputs. The number of parameters will no longer depend on the number of pixels in the image, but rather on:\n",
        "- the size of the convolution kernel\n",
        "- how many convolution filters (or output channels) there are"
      ]
    },
    {
      "cell_type": "markdown",
      "metadata": {
        "id": "B_heeutxB76U",
        "colab_type": "text"
      },
      "source": [
        "## Using convolutions\n",
        "\n",
        "The `torch.nn` module provides convolutions for 1, 2 and 3 dimensions: `nn.Conv1D` for time series (and text), `nn.Conv2D` for images and `nn.Conv3D` for volumes or video. \n",
        "\n",
        "To `nn.Conv2D` we need to provide the following arguments:\n",
        "- the number of input features (or channels, as there will be more than 1 value per pixel)\n",
        "- the number of output features\n",
        "- the size of the kernel."
      ]
    },
    {
      "cell_type": "code",
      "metadata": {
        "id": "i9SOs29A5Xr4",
        "colab_type": "code",
        "colab": {}
      },
      "source": [
        "from torch import nn"
      ],
      "execution_count": 19,
      "outputs": []
    },
    {
      "cell_type": "code",
      "metadata": {
        "id": "vC21BH_OQE1t",
        "colab_type": "code",
        "colab": {
          "base_uri": "https://localhost:8080/",
          "height": 35
        },
        "outputId": "2e1851c0-9928-453a-d323-abdca1dbe94a"
      },
      "source": [
        "# In our case we have 3 channels, so the input features will be 3. We choose an\n",
        "# arbitrary output of 16 features and a 3x3 kernel\n",
        "conv = nn.Conv2d(3, 16, kernel_size=3)\n",
        "conv"
      ],
      "execution_count": 21,
      "outputs": [
        {
          "output_type": "execute_result",
          "data": {
            "text/plain": [
              "Conv2d(3, 16, kernel_size=(3, 3), stride=(1, 1))"
            ]
          },
          "metadata": {
            "tags": []
          },
          "execution_count": 21
        }
      ]
    },
    {
      "cell_type": "code",
      "metadata": {
        "id": "P5lo3qUNQXe3",
        "colab_type": "code",
        "colab": {
          "base_uri": "https://localhost:8080/",
          "height": 35
        },
        "outputId": "681de9f8-cddb-4643-f9fb-fc64a94d3920"
      },
      "source": [
        "# And these are the dimensions of weight and bias\n",
        "conv.weight.shape, conv.bias.shape\n",
        "# 16 output features, 3 input features (channel) and a 3x3 kernel. "
      ],
      "execution_count": 23,
      "outputs": [
        {
          "output_type": "execute_result",
          "data": {
            "text/plain": [
              "(torch.Size([16, 3, 3, 3]), torch.Size([16]))"
            ]
          },
          "metadata": {
            "tags": []
          },
          "execution_count": 23
        }
      ]
    },
    {
      "cell_type": "code",
      "metadata": {
        "id": "AmRHFsXgTKUq",
        "colab_type": "code",
        "colab": {
          "base_uri": "https://localhost:8080/",
          "height": 35
        },
        "outputId": "e6c3a8e8-d2d0-4c83-b9b5-1ea639cba353"
      },
      "source": [
        "# Let's apply the convolution to one of the images in the dataset and compare it\n",
        "# with the original one. Let's get the image first:\n",
        "img, _ = cifar2[0]\n",
        "\n",
        "# Need to add the zero-th batch dimension\n",
        "output = conv(img.unsqueeze(0))\n",
        "\n",
        "# Let's check the dimensions - it looks like we've lost 2 pixels from each dimension...\n",
        "img.unsqueeze(0).shape, output.shape"
      ],
      "execution_count": 25,
      "outputs": [
        {
          "output_type": "execute_result",
          "data": {
            "text/plain": [
              "(torch.Size([1, 3, 32, 32]), torch.Size([1, 16, 30, 30]))"
            ]
          },
          "metadata": {
            "tags": []
          },
          "execution_count": 25
        }
      ]
    },
    {
      "cell_type": "code",
      "metadata": {
        "id": "NZ1pxfRBUk1O",
        "colab_type": "code",
        "colab": {
          "base_uri": "https://localhost:8080/",
          "height": 268
        },
        "outputId": "62b7f31c-df38-4596-dd6d-a4f0827bbd3b"
      },
      "source": [
        "# Displaying the two images reveals what has happened:\n",
        "from matplotlib import pyplot as plt \n",
        "f, axarr = plt.subplots(2, sharex=True, sharey=True)\n",
        "axarr[0].imshow(output[0,0].detach(), cmap='gray')\n",
        "axarr[1].imshow(img[0].detach(), cmap='gray')\n",
        "plt.show()"
      ],
      "execution_count": 45,
      "outputs": [
        {
          "output_type": "display_data",
          "data": {
            "image/png": "[encoded data removed]",
            "text/plain": [
              "<Figure size 432x288 with 2 Axes>"
            ]
          },
          "metadata": {
            "tags": [],
            "needs_background": "light"
          }
        }
      ]
    },
    {
      "cell_type": "code",
      "metadata": {
        "id": "w3L5XgLpYEfE",
        "colab_type": "code",
        "colab": {
          "base_uri": "https://localhost:8080/",
          "height": 35
        },
        "outputId": "930ec143-93db-4b54-aa55-d60da17d750f"
      },
      "source": [
        "# We can prevent this from happening by having some padding, which uses `ghost` pixels\n",
        "# on the sides of the image.\n",
        "conv_padded = nn.Conv2d(3,16, kernel_size=3, padding=1)\n",
        "output_padded = conv_padded(img.unsqueeze(0))\n",
        "img.unsqueeze(0).shape, output_padded.shape"
      ],
      "execution_count": 46,
      "outputs": [
        {
          "output_type": "execute_result",
          "data": {
            "text/plain": [
              "(torch.Size([1, 3, 32, 32]), torch.Size([1, 16, 32, 32]))"
            ]
          },
          "metadata": {
            "tags": []
          },
          "execution_count": 46
        }
      ]
    },
    {
      "cell_type": "code",
      "metadata": {
        "id": "TcuLjtH7aghZ",
        "colab_type": "code",
        "colab": {
          "base_uri": "https://localhost:8080/",
          "height": 268
        },
        "outputId": "c4c4c5b1-170d-4e3f-ced9-c9325aa5da68"
      },
      "source": [
        "f, axarr = plt.subplots(2, sharex=True, sharey=True)\n",
        "axarr[0].imshow(output_padded[0,0].detach(), cmap='gray')\n",
        "axarr[1].imshow(img[0].detach(), cmap='gray')\n",
        "plt.show()"
      ],
      "execution_count": 47,
      "outputs": [
        {
          "output_type": "display_data",
          "data": {
            "image/png": "[encoded data removed]",
            "text/plain": [
              "<Figure size 432x288 with 2 Axes>"
            ]
          },
          "metadata": {
            "tags": [],
            "needs_background": "light"
          }
        }
      ]
    },
    {
      "cell_type": "markdown",
      "metadata": {
        "id": "KLOiwxHbeaSe",
        "colab_type": "text"
      },
      "source": [
        "A way to make sure the convolutions can really pick up the salient features of an image, is to put these through some downsampling, so that only the \"strongest\" features, i.e. the features that better characterise an image would survive.\n",
        "\n",
        "This is achieved by using a `max pooling` operation, where only the features with the maximum value in an area are kept. This reduces the size of the image, keeping only the most salient features. \n",
        "\n",
        "Let's apply this to our image and see what we get."
      ]
    },
    {
      "cell_type": "code",
      "metadata": {
        "id": "aDfk2WABXfjC",
        "colab_type": "code",
        "colab": {
          "base_uri": "https://localhost:8080/",
          "height": 35
        },
        "outputId": "79e73b86-7510-4a1d-d10f-fd14c3d4dd92"
      },
      "source": [
        "max_pool = nn.MaxPool2d(2) # using 2 halves the size of the image\n",
        "output_pool = max_pool(output_padded)\n",
        "output_padded.shape, output_pool.shape\n",
        "# We can see the size has been halve. And we can display all three images"
      ],
      "execution_count": 50,
      "outputs": [
        {
          "output_type": "execute_result",
          "data": {
            "text/plain": [
              "(torch.Size([1, 16, 32, 32]), torch.Size([1, 16, 16, 16]))"
            ]
          },
          "metadata": {
            "tags": []
          },
          "execution_count": 50
        }
      ]
    },
    {
      "cell_type": "code",
      "metadata": {
        "id": "WroggD7Fe_aK",
        "colab_type": "code",
        "colab": {
          "base_uri": "https://localhost:8080/",
          "height": 268
        },
        "outputId": "1ead4fa6-127d-4ced-dfb7-5d79e53250a2"
      },
      "source": [
        "f, axarr = plt.subplots(3)\n",
        "axarr[0].imshow(img[0].detach(), cmap='gray')\n",
        "axarr[1].imshow(output_padded[0,0].detach(), cmap='gray')\n",
        "axarr[2].imshow(output_pool[0,0].detach(), cmap='gray')\n",
        "plt.show()\n",
        "# Note that the last image is half the size of the other two, but also note that\n",
        "# compared to the output of the convolution, it appears to give more weight to \n",
        "# certain aspects of the image."
      ],
      "execution_count": 54,
      "outputs": [
        {
          "output_type": "display_data",
          "data": {
            "image/png": "[encoded data removed]",
            "text/plain": [
              "<Figure size 432x288 with 3 Axes>"
            ]
          },
          "metadata": {
            "tags": [],
            "needs_background": "light"
          }
        }
      ]
    }
  ]
}