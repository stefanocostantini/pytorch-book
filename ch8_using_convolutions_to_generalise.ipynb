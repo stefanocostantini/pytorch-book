{
  "nbformat": 4,
  "nbformat_minor": 0,
  "metadata": {
    "colab": {
      "name": "ch8_using_convolutions_to_generalise.ipynb",
      "provenance": [],
      "collapsed_sections": [
        "XXO7gTlUpPAN"
      ],
      "authorship_tag": "ABX9TyOXgw59RBF9rQEe9XO7imbP",
      "include_colab_link": true
    },
    "kernelspec": {
      "name": "python3",
      "display_name": "Python 3"
    },
    "widgets": {
      "application/vnd.jupyter.widget-state+json": {
        "5c0d69be0aaf4f478eaa30d448cf2c3f": {
          "model_module": "@jupyter-widgets/controls",
          "model_name": "HBoxModel",
          "state": {
            "_view_name": "HBoxView",
            "_dom_classes": [],
            "_model_name": "HBoxModel",
            "_view_module": "@jupyter-widgets/controls",
            "_model_module_version": "1.5.0",
            "_view_count": null,
            "_view_module_version": "1.5.0",
            "box_style": "",
            "layout": "IPY_MODEL_133bc5fb908448198c28ce223f2d75f6",
            "_model_module": "@jupyter-widgets/controls",
            "children": [
              "IPY_MODEL_13a86a1ed7c84516af50480675637157",
              "IPY_MODEL_d85084359c6e441b97304cd7730979b9"
            ]
          }
        },
        "133bc5fb908448198c28ce223f2d75f6": {
          "model_module": "@jupyter-widgets/base",
          "model_name": "LayoutModel",
          "state": {
            "_view_name": "LayoutView",
            "grid_template_rows": null,
            "right": null,
            "justify_content": null,
            "_view_module": "@jupyter-widgets/base",
            "overflow": null,
            "_model_module_version": "1.2.0",
            "_view_count": null,
            "flex_flow": null,
            "width": null,
            "min_width": null,
            "border": null,
            "align_items": null,
            "bottom": null,
            "_model_module": "@jupyter-widgets/base",
            "top": null,
            "grid_column": null,
            "overflow_y": null,
            "overflow_x": null,
            "grid_auto_flow": null,
            "grid_area": null,
            "grid_template_columns": null,
            "flex": null,
            "_model_name": "LayoutModel",
            "justify_items": null,
            "grid_row": null,
            "max_height": null,
            "align_content": null,
            "visibility": null,
            "align_self": null,
            "height": null,
            "min_height": null,
            "padding": null,
            "grid_auto_rows": null,
            "grid_gap": null,
            "max_width": null,
            "order": null,
            "_view_module_version": "1.2.0",
            "grid_template_areas": null,
            "object_position": null,
            "object_fit": null,
            "grid_auto_columns": null,
            "margin": null,
            "display": null,
            "left": null
          }
        },
        "13a86a1ed7c84516af50480675637157": {
          "model_module": "@jupyter-widgets/controls",
          "model_name": "FloatProgressModel",
          "state": {
            "_view_name": "ProgressView",
            "style": "IPY_MODEL_f41c167a2026418a9d368afa61327b99",
            "_dom_classes": [],
            "description": "",
            "_model_name": "FloatProgressModel",
            "bar_style": "success",
            "max": 1,
            "_view_module": "@jupyter-widgets/controls",
            "_model_module_version": "1.5.0",
            "value": 1,
            "_view_count": null,
            "_view_module_version": "1.5.0",
            "orientation": "horizontal",
            "min": 0,
            "description_tooltip": null,
            "_model_module": "@jupyter-widgets/controls",
            "layout": "IPY_MODEL_5a512919e66d4f8b86c7b637bb81b865"
          }
        },
        "d85084359c6e441b97304cd7730979b9": {
          "model_module": "@jupyter-widgets/controls",
          "model_name": "HTMLModel",
          "state": {
            "_view_name": "HTMLView",
            "style": "IPY_MODEL_6a1050f8e01646afb730917e0be200ca",
            "_dom_classes": [],
            "description": "",
            "_model_name": "HTMLModel",
            "placeholder": "​",
            "_view_module": "@jupyter-widgets/controls",
            "_model_module_version": "1.5.0",
            "value": " 170500096/? [00:08&lt;00:00, 19117883.67it/s]",
            "_view_count": null,
            "_view_module_version": "1.5.0",
            "description_tooltip": null,
            "_model_module": "@jupyter-widgets/controls",
            "layout": "IPY_MODEL_572074a9fe0d4b20a51d1ba747593850"
          }
        },
        "f41c167a2026418a9d368afa61327b99": {
          "model_module": "@jupyter-widgets/controls",
          "model_name": "ProgressStyleModel",
          "state": {
            "_view_name": "StyleView",
            "_model_name": "ProgressStyleModel",
            "description_width": "initial",
            "_view_module": "@jupyter-widgets/base",
            "_model_module_version": "1.5.0",
            "_view_count": null,
            "_view_module_version": "1.2.0",
            "bar_color": null,
            "_model_module": "@jupyter-widgets/controls"
          }
        },
        "5a512919e66d4f8b86c7b637bb81b865": {
          "model_module": "@jupyter-widgets/base",
          "model_name": "LayoutModel",
          "state": {
            "_view_name": "LayoutView",
            "grid_template_rows": null,
            "right": null,
            "justify_content": null,
            "_view_module": "@jupyter-widgets/base",
            "overflow": null,
            "_model_module_version": "1.2.0",
            "_view_count": null,
            "flex_flow": null,
            "width": null,
            "min_width": null,
            "border": null,
            "align_items": null,
            "bottom": null,
            "_model_module": "@jupyter-widgets/base",
            "top": null,
            "grid_column": null,
            "overflow_y": null,
            "overflow_x": null,
            "grid_auto_flow": null,
            "grid_area": null,
            "grid_template_columns": null,
            "flex": null,
            "_model_name": "LayoutModel",
            "justify_items": null,
            "grid_row": null,
            "max_height": null,
            "align_content": null,
            "visibility": null,
            "align_self": null,
            "height": null,
            "min_height": null,
            "padding": null,
            "grid_auto_rows": null,
            "grid_gap": null,
            "max_width": null,
            "order": null,
            "_view_module_version": "1.2.0",
            "grid_template_areas": null,
            "object_position": null,
            "object_fit": null,
            "grid_auto_columns": null,
            "margin": null,
            "display": null,
            "left": null
          }
        },
        "6a1050f8e01646afb730917e0be200ca": {
          "model_module": "@jupyter-widgets/controls",
          "model_name": "DescriptionStyleModel",
          "state": {
            "_view_name": "StyleView",
            "_model_name": "DescriptionStyleModel",
            "description_width": "",
            "_view_module": "@jupyter-widgets/base",
            "_model_module_version": "1.5.0",
            "_view_count": null,
            "_view_module_version": "1.2.0",
            "_model_module": "@jupyter-widgets/controls"
          }
        },
        "572074a9fe0d4b20a51d1ba747593850": {
          "model_module": "@jupyter-widgets/base",
          "model_name": "LayoutModel",
          "state": {
            "_view_name": "LayoutView",
            "grid_template_rows": null,
            "right": null,
            "justify_content": null,
            "_view_module": "@jupyter-widgets/base",
            "overflow": null,
            "_model_module_version": "1.2.0",
            "_view_count": null,
            "flex_flow": null,
            "width": null,
            "min_width": null,
            "border": null,
            "align_items": null,
            "bottom": null,
            "_model_module": "@jupyter-widgets/base",
            "top": null,
            "grid_column": null,
            "overflow_y": null,
            "overflow_x": null,
            "grid_auto_flow": null,
            "grid_area": null,
            "grid_template_columns": null,
            "flex": null,
            "_model_name": "LayoutModel",
            "justify_items": null,
            "grid_row": null,
            "max_height": null,
            "align_content": null,
            "visibility": null,
            "align_self": null,
            "height": null,
            "min_height": null,
            "padding": null,
            "grid_auto_rows": null,
            "grid_gap": null,
            "max_width": null,
            "order": null,
            "_view_module_version": "1.2.0",
            "grid_template_areas": null,
            "object_position": null,
            "object_fit": null,
            "grid_auto_columns": null,
            "margin": null,
            "display": null,
            "left": null
          }
        }
      }
    },
    "accelerator": "GPU"
  },
  "cells": [
    {
      "cell_type": "markdown",
      "metadata": {
        "id": "view-in-github",
        "colab_type": "text"
      },
      "source": [
        "<a href=\"https://colab.research.google.com/github/stefanocostantini/pytorch-book/blob/master/ch8_using_convolutions_to_generalise.ipynb\" target=\"_parent\"><img src=\"https://colab.research.google.com/assets/colab-badge.svg\" alt=\"Open In Colab\"/></a>"
      ]
    },
    {
      "cell_type": "markdown",
      "metadata": {
        "id": "XXO7gTlUpPAN",
        "colab_type": "text"
      },
      "source": [
        "## Data"
      ]
    },
    {
      "cell_type": "markdown",
      "metadata": {
        "id": "FibRln8RpYKt",
        "colab_type": "text"
      },
      "source": [
        "We re-create the same datasets which we used in the previous chapter"
      ]
    },
    {
      "cell_type": "code",
      "metadata": {
        "id": "9GSXP7CNpWuz",
        "colab_type": "code",
        "colab": {}
      },
      "source": [
        "import torch\n",
        "from torchvision import transforms"
      ],
      "execution_count": 2,
      "outputs": []
    },
    {
      "cell_type": "code",
      "metadata": {
        "id": "Y2Qd-7PopdG_",
        "colab_type": "code",
        "colab": {
          "base_uri": "https://localhost:8080/",
          "height": 0,
          "referenced_widgets": [
            "5c0d69be0aaf4f478eaa30d448cf2c3f",
            "133bc5fb908448198c28ce223f2d75f6",
            "13a86a1ed7c84516af50480675637157",
            "d85084359c6e441b97304cd7730979b9",
            "f41c167a2026418a9d368afa61327b99",
            "5a512919e66d4f8b86c7b637bb81b865",
            "6a1050f8e01646afb730917e0be200ca",
            "572074a9fe0d4b20a51d1ba747593850"
          ]
        },
        "outputId": "9018a5f9-be0f-4949-a5c6-6dc7073566af"
      },
      "source": [
        "## Download files locally\n",
        "!mkdir /content/cifar10/\n",
        "from torchvision import datasets\n",
        "data_path_for_saving = '/content/cifar10/'\n",
        "cifar10 = datasets.CIFAR10(data_path_for_saving, train=True, download=True)\n",
        "cifar10_val = datasets.CIFAR10(data_path_for_saving, train=False, download=True)"
      ],
      "execution_count": 3,
      "outputs": [
        {
          "output_type": "stream",
          "text": [
            "Downloading https://www.cs.toronto.edu/~kriz/cifar-10-python.tar.gz to /content/cifar10/cifar-10-python.tar.gz\n"
          ],
          "name": "stdout"
        },
        {
          "output_type": "display_data",
          "data": {
            "application/vnd.jupyter.widget-view+json": {
              "model_id": "5c0d69be0aaf4f478eaa30d448cf2c3f",
              "version_minor": 0,
              "version_major": 2
            },
            "text/plain": [
              "HBox(children=(FloatProgress(value=1.0, bar_style='info', max=1.0), HTML(value='')))"
            ]
          },
          "metadata": {
            "tags": []
          }
        },
        {
          "output_type": "stream",
          "text": [
            "Extracting /content/cifar10/cifar-10-python.tar.gz to /content/cifar10/\n",
            "Files already downloaded and verified\n"
          ],
          "name": "stdout"
        }
      ]
    },
    {
      "cell_type": "code",
      "metadata": {
        "id": "ZRkfSrmI4rS-",
        "colab_type": "code",
        "colab": {}
      },
      "source": [
        "tensor_cifar10 = datasets.CIFAR10(data_path_for_saving, train=True, download=False,\n",
        "                                  transform=transforms.ToTensor())\n",
        "tensor_cifar10_val = datasets.CIFAR10(data_path_for_saving, train=False, download=False,\n",
        "                                      transform=transforms.ToTensor())"
      ],
      "execution_count": 4,
      "outputs": []
    },
    {
      "cell_type": "code",
      "metadata": {
        "id": "TIiKiXEpppMk",
        "colab_type": "code",
        "colab": {
          "base_uri": "https://localhost:8080/",
          "height": 0
        },
        "outputId": "699503ae-02c5-4882-b208-79d8da894ef9"
      },
      "source": [
        "imgs = torch.stack([item_t for item_t, _ in tensor_cifar10], dim = 3)\n",
        "reshaped = imgs.view(3,-1) # keep the first dimension, squash all others into a single dim\n",
        "print(reshaped.shape)\n",
        "\n",
        "means = reshaped.mean(dim=1) # mean of the first dimension (i.e. the three channels)\n",
        "stds = reshaped.std(dim=1)"
      ],
      "execution_count": 5,
      "outputs": [
        {
          "output_type": "stream",
          "text": [
            "\n",
            "torch.Size([3, 51200000])\n"
          ],
          "name": "stdout"
        }
      ]
    },
    {
      "cell_type": "code",
      "metadata": {
        "id": "JSFOF1ZgpfEU",
        "colab_type": "code",
        "colab": {}
      },
      "source": [
        "# Now we have the information to do the normalisation, as follows.\n",
        "# Note that we `compose` transformations together\n",
        "transformed_cifar10 = datasets.CIFAR10(data_path_for_saving, train=True, download=False,\n",
        "                                       transform = transforms.Compose([\n",
        "                                          transforms.ToTensor(),\n",
        "                                          transforms.Normalize((means[0], means[1], means[2]),\n",
        "                                                              (stds[0], stds[1], stds[2]))                              \n",
        "                                       ]))\n",
        "\n",
        "transformed_cifar10_val = datasets.CIFAR10(data_path_for_saving, train=False, download=False,\n",
        "                                       transform = transforms.Compose([\n",
        "                                         transforms.ToTensor(),\n",
        "                                         transforms.Normalize((means[0], means[1], means[2]),\n",
        "                                                              (stds[0], stds[1], stds[2]))                              \n",
        "                                       ]))"
      ],
      "execution_count": 6,
      "outputs": []
    },
    {
      "cell_type": "code",
      "metadata": {
        "id": "fTIhrWZzpnuo",
        "colab_type": "code",
        "colab": {}
      },
      "source": [
        "# We just want to keep class 0 and 2. Remember that the __getitem__ method returns\n",
        "# both the item and its label\n",
        "class_mapping = {0: 0, 2: 1}\n",
        "\n",
        "cifar2 = [(item, class_mapping[label])\n",
        "          for item, label in tensor_cifar10 if label in [0,2]]\n",
        "cifar2_val = [(item, class_mapping[label])\n",
        "          for item, label in tensor_cifar10_val if label in [0,2]] "
      ],
      "execution_count": 7,
      "outputs": []
    },
    {
      "cell_type": "markdown",
      "metadata": {
        "id": "1A_1DEwy5KMO",
        "colab_type": "text"
      },
      "source": [
        "## Intro to convolutions"
      ]
    },
    {
      "cell_type": "markdown",
      "metadata": {
        "id": "egCbMsrN5Yvc",
        "colab_type": "text"
      },
      "source": [
        "_**Note:** We now have the same datasets as before (`cifar2` and `cifar2_val`) at our disposal._\n",
        "\n",
        "_**Note 2:** my focus for this chapter is on how to subclass the `nn` module, hence will cover convolutions only at a high level._\n",
        "\n",
        "Convolutions are needed to deliver locality and translation invariance.\n",
        "\n",
        "Convolutions for a 2D image are the scalar (dot) product of a weight matrix (the _kernel_) with every neighbourhood in the input.\n",
        "\n",
        "So, if we have kernel as follows:\n",
        "\n",
        "```\n",
        "weight = torch.tensor([[w00, w01, w02],\n",
        "                       [w10, w11, w12],\n",
        "                       [w20, w21, w22]])\n",
        "```\n",
        "and  a 1-channel MxN image:\n",
        "```\n",
        "image = torch.tensor([[i00, i01, i02, i03, ..., i0N],\n",
        "                      [i10, i11, i12, i13, ..., i1N],\n",
        "                      [i20, i21, i22, i23, ..., i2N],\n",
        "                      [i30, i31, i32, i33, ..., i3N],\n",
        "                      ...\n",
        "                      [iM0, iM1m iM2, iM3, ..., iMN]])\n",
        "```\n",
        "The the output at, say, `1,1` can be calculated as follows (without bias):\n",
        "```\n",
        "o11 = i11 * w00 + i12 * w01 + i13 * w02 +\n",
        "      i21 * w10 + i22 * w11 + i23 * w12 +\n",
        "      i31 * w20 + i32 * w21 + i33 * w22\n",
        "```\n",
        "By repeating this calculation for each input of the image (i.e. by translating the kernel on all input locations) we obtain an output image where each location will be expressed as a weighted sum of its immediate vicinity (depending on the size of the kernel).\n",
        "\n",
        "Note that we do not know the weights in advance: these are randomly initialised at the beginning and then learned through model training. Note also that the same weights are using across the whole image, so they have a history spanning the entire image. Thus, the derivative of the loss with respect to a convolution weight includes contributions from the entire image.\n",
        "\n",
        "This also mean that we have many fewer parameters compared with a fully connected model which accepts 1D inputs. The number of parameters will no longer depend on the number of pixels in the image, but rather on:\n",
        "- the size of the convolution kernel\n",
        "- how many convolution filters (or output channels) there are"
      ]
    },
    {
      "cell_type": "markdown",
      "metadata": {
        "id": "B_heeutxB76U",
        "colab_type": "text"
      },
      "source": [
        "## Using convolutions\n",
        "\n",
        "The `torch.nn` module provides convolutions for 1, 2 and 3 dimensions: `nn.Conv1D` for time series (and text), `nn.Conv2D` for images and `nn.Conv3D` for volumes or video. \n",
        "\n",
        "To `nn.Conv2D` we need to provide the following arguments:\n",
        "- the number of input features (or channels, as there will be more than 1 value per pixel)\n",
        "- the number of output features\n",
        "- the size of the kernel."
      ]
    },
    {
      "cell_type": "code",
      "metadata": {
        "id": "i9SOs29A5Xr4",
        "colab_type": "code",
        "colab": {}
      },
      "source": [
        "from torch import nn"
      ],
      "execution_count": 9,
      "outputs": []
    },
    {
      "cell_type": "code",
      "metadata": {
        "id": "vC21BH_OQE1t",
        "colab_type": "code",
        "colab": {
          "base_uri": "https://localhost:8080/",
          "height": 35
        },
        "outputId": "2e1851c0-9928-453a-d323-abdca1dbe94a"
      },
      "source": [
        "# In our case we have 3 channels, so the input features will be 3. We choose an\n",
        "# arbitrary output of 16 features and a 3x3 kernel\n",
        "conv = nn.Conv2d(3, 16, kernel_size=3)\n",
        "conv"
      ],
      "execution_count": 21,
      "outputs": [
        {
          "output_type": "execute_result",
          "data": {
            "text/plain": [
              "Conv2d(3, 16, kernel_size=(3, 3), stride=(1, 1))"
            ]
          },
          "metadata": {
            "tags": []
          },
          "execution_count": 21
        }
      ]
    },
    {
      "cell_type": "code",
      "metadata": {
        "id": "P5lo3qUNQXe3",
        "colab_type": "code",
        "colab": {
          "base_uri": "https://localhost:8080/",
          "height": 35
        },
        "outputId": "681de9f8-cddb-4643-f9fb-fc64a94d3920"
      },
      "source": [
        "# And these are the dimensions of weight and bias\n",
        "conv.weight.shape, conv.bias.shape\n",
        "# 16 output features, 3 input features (channel) and a 3x3 kernel. "
      ],
      "execution_count": 23,
      "outputs": [
        {
          "output_type": "execute_result",
          "data": {
            "text/plain": [
              "(torch.Size([16, 3, 3, 3]), torch.Size([16]))"
            ]
          },
          "metadata": {
            "tags": []
          },
          "execution_count": 23
        }
      ]
    },
    {
      "cell_type": "code",
      "metadata": {
        "id": "AmRHFsXgTKUq",
        "colab_type": "code",
        "colab": {
          "base_uri": "https://localhost:8080/",
          "height": 35
        },
        "outputId": "e6c3a8e8-d2d0-4c83-b9b5-1ea639cba353"
      },
      "source": [
        "# Let's apply the convolution to one of the images in the dataset and compare it\n",
        "# with the original one. Let's get the image first:\n",
        "img, _ = cifar2[0]\n",
        "\n",
        "# Need to add the zero-th batch dimension\n",
        "output = conv(img.unsqueeze(0))\n",
        "\n",
        "# Let's check the dimensions - it looks like we've lost 2 pixels from each dimension...\n",
        "img.unsqueeze(0).shape, output.shape"
      ],
      "execution_count": 25,
      "outputs": [
        {
          "output_type": "execute_result",
          "data": {
            "text/plain": [
              "(torch.Size([1, 3, 32, 32]), torch.Size([1, 16, 30, 30]))"
            ]
          },
          "metadata": {
            "tags": []
          },
          "execution_count": 25
        }
      ]
    },
    {
      "cell_type": "code",
      "metadata": {
        "id": "NZ1pxfRBUk1O",
        "colab_type": "code",
        "colab": {
          "base_uri": "https://localhost:8080/",
          "height": 268
        },
        "outputId": "62b7f31c-df38-4596-dd6d-a4f0827bbd3b"
      },
      "source": [
        "# Displaying the two images reveals what has happened:\n",
        "from matplotlib import pyplot as plt \n",
        "f, axarr = plt.subplots(2, sharex=True, sharey=True)\n",
        "axarr[0].imshow(output[0,0].detach(), cmap='gray')\n",
        "axarr[1].imshow(img[0].detach(), cmap='gray')\n",
        "plt.show()"
      ],
      "execution_count": 45,
      "outputs": [
        {
          "output_type": "display_data",
          "data": {
            "image/png": "[encoded data removed]",
            "text/plain": [
              "<Figure size 432x288 with 2 Axes>"
            ]
          },
          "metadata": {
            "tags": [],
            "needs_background": "light"
          }
        }
      ]
    },
    {
      "cell_type": "code",
      "metadata": {
        "id": "w3L5XgLpYEfE",
        "colab_type": "code",
        "colab": {
          "base_uri": "https://localhost:8080/",
          "height": 35
        },
        "outputId": "930ec143-93db-4b54-aa55-d60da17d750f"
      },
      "source": [
        "# We can prevent this from happening by having some padding, which uses `ghost` pixels\n",
        "# on the sides of the image.\n",
        "conv_padded = nn.Conv2d(3,16, kernel_size=3, padding=1)\n",
        "output_padded = conv_padded(img.unsqueeze(0))\n",
        "img.unsqueeze(0).shape, output_padded.shape"
      ],
      "execution_count": 46,
      "outputs": [
        {
          "output_type": "execute_result",
          "data": {
            "text/plain": [
              "(torch.Size([1, 3, 32, 32]), torch.Size([1, 16, 32, 32]))"
            ]
          },
          "metadata": {
            "tags": []
          },
          "execution_count": 46
        }
      ]
    },
    {
      "cell_type": "code",
      "metadata": {
        "id": "TcuLjtH7aghZ",
        "colab_type": "code",
        "colab": {
          "base_uri": "https://localhost:8080/",
          "height": 202
        },
        "outputId": "9551ce38-f01e-4481-cfd3-cd59862af68f"
      },
      "source": [
        "f, axarr = plt.subplots(1,2, sharex=True, sharey=True)\n",
        "axarr[0].imshow(output_padded[0,0].detach(), cmap='gray')\n",
        "axarr[1].imshow(img[0].detach(), cmap='gray')\n",
        "plt.show()"
      ],
      "execution_count": 59,
      "outputs": [
        {
          "output_type": "display_data",
          "data": {
            "image/png": "[encoded data removed]",
            "text/plain": [
              "<Figure size 432x288 with 2 Axes>"
            ]
          },
          "metadata": {
            "tags": [],
            "needs_background": "light"
          }
        }
      ]
    },
    {
      "cell_type": "markdown",
      "metadata": {
        "id": "KLOiwxHbeaSe",
        "colab_type": "text"
      },
      "source": [
        "A way to make sure the convolutions can really pick up the salient features of an image, is to put these through some downsampling, so that only the \"strongest\" features, i.e. the features that better characterise an image would survive.\n",
        "\n",
        "This is achieved by using a `max pooling` operation, where only the features with the maximum value in an area are kept. This reduces the size of the image, keeping only the most salient features. \n",
        "\n",
        "Let's apply this to our image and see what we get."
      ]
    },
    {
      "cell_type": "code",
      "metadata": {
        "id": "aDfk2WABXfjC",
        "colab_type": "code",
        "colab": {
          "base_uri": "https://localhost:8080/",
          "height": 35
        },
        "outputId": "79e73b86-7510-4a1d-d10f-fd14c3d4dd92"
      },
      "source": [
        "max_pool = nn.MaxPool2d(2) # using 2 halves the size of the image\n",
        "output_pool = max_pool(output_padded)\n",
        "output_padded.shape, output_pool.shape\n",
        "# We can see the size has been halve. And we can display all three images"
      ],
      "execution_count": 50,
      "outputs": [
        {
          "output_type": "execute_result",
          "data": {
            "text/plain": [
              "(torch.Size([1, 16, 32, 32]), torch.Size([1, 16, 16, 16]))"
            ]
          },
          "metadata": {
            "tags": []
          },
          "execution_count": 50
        }
      ]
    },
    {
      "cell_type": "code",
      "metadata": {
        "id": "WroggD7Fe_aK",
        "colab_type": "code",
        "colab": {
          "base_uri": "https://localhost:8080/",
          "height": 149
        },
        "outputId": "834f5f4b-326d-436c-f335-de0b31f0fbbe"
      },
      "source": [
        "f, axarr = plt.subplots(1,3)\n",
        "axarr[0].imshow(img[0].detach(), cmap='gray')\n",
        "axarr[1].imshow(output_padded[0,0].detach(), cmap='gray')\n",
        "axarr[2].imshow(output_pool[0,0].detach(), cmap='gray')\n",
        "plt.show()\n",
        "# Note that the last image is half the size of the other two (much more \"pixelated\"), \n",
        "# but also note that compared to the output of the convolution, it appears \n",
        "# to give more weight to certain aspects of the image."
      ],
      "execution_count": 58,
      "outputs": [
        {
          "output_type": "display_data",
          "data": {
            "image/png": "[encoded data removed]",
            "text/plain": [
              "<Figure size 432x288 with 3 Axes>"
            ]
          },
          "metadata": {
            "tags": [],
            "needs_background": "light"
          }
        }
      ]
    },
    {
      "cell_type": "markdown",
      "metadata": {
        "id": "aKm_XgXZi5Tw",
        "colab_type": "text"
      },
      "source": [
        "## Putting everything together in a model\n",
        "\n",
        "We can now put the elements we have into a single model"
      ]
    },
    {
      "cell_type": "code",
      "metadata": {
        "id": "tPrqHFgkilhx",
        "colab_type": "code",
        "colab": {}
      },
      "source": [
        "model = nn.Sequential(\n",
        "    nn.Conv2d(3, 16, kernel_size=3, padding=1),\n",
        "    nn.Tanh(),\n",
        "    nn.MaxPool2d(2), # reducing the image size by half\n",
        "    nn.Conv2d(16, 8, kernel_size=3, padding=1),\n",
        "    nn.Tanh(),\n",
        "    nn.MaxPool2d(2), # we now have a 8x8 image\n",
        "#   nn.Flatten(), # not used to motivate the subclassing of nn.Module - see below\n",
        "    nn.Linear(8 * 8 * 8, 32), # 8 channels from previous convolution, 8x8 image from MaxPool\n",
        "    nn.Tanh(),\n",
        "    nn.Linear(32,2)) # output of dimension 2, the class probabilities\n",
        "\n",
        "# Note that at some point, we need to go from a 2D tensor to a 1D one."
      ],
      "execution_count": 66,
      "outputs": []
    },
    {
      "cell_type": "code",
      "metadata": {
        "id": "-gtrD0LjqMvg",
        "colab_type": "code",
        "colab": {
          "base_uri": "https://localhost:8080/",
          "height": 363
        },
        "outputId": "a75d5681-08d7-4992-d448-4b6f0f432187"
      },
      "source": [
        "# What happens if we try to get an output from this?\n",
        "out = model(img.unsqueeze(0))\n",
        "out"
      ],
      "execution_count": 67,
      "outputs": [
        {
          "output_type": "error",
          "ename": "RuntimeError",
          "evalue": "ignored",
          "traceback": [
            "\u001b[0;31m---------------------------------------------------------------------------\u001b[0m",
            "\u001b[0;31mRuntimeError\u001b[0m                              Traceback (most recent call last)",
            "\u001b[0;32m<ipython-input-67-570a209e3988>\u001b[0m in \u001b[0;36m<module>\u001b[0;34m()\u001b[0m\n\u001b[1;32m      1\u001b[0m \u001b[0;31m# What happens if we try to get an output from this?\u001b[0m\u001b[0;34m\u001b[0m\u001b[0;34m\u001b[0m\u001b[0;34m\u001b[0m\u001b[0m\n\u001b[0;32m----> 2\u001b[0;31m \u001b[0mout\u001b[0m \u001b[0;34m=\u001b[0m \u001b[0mmodel\u001b[0m\u001b[0;34m(\u001b[0m\u001b[0mimg\u001b[0m\u001b[0;34m.\u001b[0m\u001b[0munsqueeze\u001b[0m\u001b[0;34m(\u001b[0m\u001b[0;36m0\u001b[0m\u001b[0;34m)\u001b[0m\u001b[0;34m)\u001b[0m\u001b[0;34m\u001b[0m\u001b[0;34m\u001b[0m\u001b[0m\n\u001b[0m\u001b[1;32m      3\u001b[0m \u001b[0mout\u001b[0m\u001b[0;34m\u001b[0m\u001b[0;34m\u001b[0m\u001b[0m\n",
            "\u001b[0;32m/usr/local/lib/python3.6/dist-packages/torch/nn/modules/module.py\u001b[0m in \u001b[0;36m_call_impl\u001b[0;34m(self, *input, **kwargs)\u001b[0m\n\u001b[1;32m    720\u001b[0m             \u001b[0mresult\u001b[0m \u001b[0;34m=\u001b[0m \u001b[0mself\u001b[0m\u001b[0;34m.\u001b[0m\u001b[0m_slow_forward\u001b[0m\u001b[0;34m(\u001b[0m\u001b[0;34m*\u001b[0m\u001b[0minput\u001b[0m\u001b[0;34m,\u001b[0m \u001b[0;34m**\u001b[0m\u001b[0mkwargs\u001b[0m\u001b[0;34m)\u001b[0m\u001b[0;34m\u001b[0m\u001b[0;34m\u001b[0m\u001b[0m\n\u001b[1;32m    721\u001b[0m         \u001b[0;32melse\u001b[0m\u001b[0;34m:\u001b[0m\u001b[0;34m\u001b[0m\u001b[0;34m\u001b[0m\u001b[0m\n\u001b[0;32m--> 722\u001b[0;31m             \u001b[0mresult\u001b[0m \u001b[0;34m=\u001b[0m \u001b[0mself\u001b[0m\u001b[0;34m.\u001b[0m\u001b[0mforward\u001b[0m\u001b[0;34m(\u001b[0m\u001b[0;34m*\u001b[0m\u001b[0minput\u001b[0m\u001b[0;34m,\u001b[0m \u001b[0;34m**\u001b[0m\u001b[0mkwargs\u001b[0m\u001b[0;34m)\u001b[0m\u001b[0;34m\u001b[0m\u001b[0;34m\u001b[0m\u001b[0m\n\u001b[0m\u001b[1;32m    723\u001b[0m         for hook in itertools.chain(\n\u001b[1;32m    724\u001b[0m                 \u001b[0m_global_forward_hooks\u001b[0m\u001b[0;34m.\u001b[0m\u001b[0mvalues\u001b[0m\u001b[0;34m(\u001b[0m\u001b[0;34m)\u001b[0m\u001b[0;34m,\u001b[0m\u001b[0;34m\u001b[0m\u001b[0;34m\u001b[0m\u001b[0m\n",
            "\u001b[0;32m/usr/local/lib/python3.6/dist-packages/torch/nn/modules/container.py\u001b[0m in \u001b[0;36mforward\u001b[0;34m(self, input)\u001b[0m\n\u001b[1;32m    115\u001b[0m     \u001b[0;32mdef\u001b[0m \u001b[0mforward\u001b[0m\u001b[0;34m(\u001b[0m\u001b[0mself\u001b[0m\u001b[0;34m,\u001b[0m \u001b[0minput\u001b[0m\u001b[0;34m)\u001b[0m\u001b[0;34m:\u001b[0m\u001b[0;34m\u001b[0m\u001b[0;34m\u001b[0m\u001b[0m\n\u001b[1;32m    116\u001b[0m         \u001b[0;32mfor\u001b[0m \u001b[0mmodule\u001b[0m \u001b[0;32min\u001b[0m \u001b[0mself\u001b[0m\u001b[0;34m:\u001b[0m\u001b[0;34m\u001b[0m\u001b[0;34m\u001b[0m\u001b[0m\n\u001b[0;32m--> 117\u001b[0;31m             \u001b[0minput\u001b[0m \u001b[0;34m=\u001b[0m \u001b[0mmodule\u001b[0m\u001b[0;34m(\u001b[0m\u001b[0minput\u001b[0m\u001b[0;34m)\u001b[0m\u001b[0;34m\u001b[0m\u001b[0;34m\u001b[0m\u001b[0m\n\u001b[0m\u001b[1;32m    118\u001b[0m         \u001b[0;32mreturn\u001b[0m \u001b[0minput\u001b[0m\u001b[0;34m\u001b[0m\u001b[0;34m\u001b[0m\u001b[0m\n\u001b[1;32m    119\u001b[0m \u001b[0;34m\u001b[0m\u001b[0m\n",
            "\u001b[0;32m/usr/local/lib/python3.6/dist-packages/torch/nn/modules/module.py\u001b[0m in \u001b[0;36m_call_impl\u001b[0;34m(self, *input, **kwargs)\u001b[0m\n\u001b[1;32m    720\u001b[0m             \u001b[0mresult\u001b[0m \u001b[0;34m=\u001b[0m \u001b[0mself\u001b[0m\u001b[0;34m.\u001b[0m\u001b[0m_slow_forward\u001b[0m\u001b[0;34m(\u001b[0m\u001b[0;34m*\u001b[0m\u001b[0minput\u001b[0m\u001b[0;34m,\u001b[0m \u001b[0;34m**\u001b[0m\u001b[0mkwargs\u001b[0m\u001b[0;34m)\u001b[0m\u001b[0;34m\u001b[0m\u001b[0;34m\u001b[0m\u001b[0m\n\u001b[1;32m    721\u001b[0m         \u001b[0;32melse\u001b[0m\u001b[0;34m:\u001b[0m\u001b[0;34m\u001b[0m\u001b[0;34m\u001b[0m\u001b[0m\n\u001b[0;32m--> 722\u001b[0;31m             \u001b[0mresult\u001b[0m \u001b[0;34m=\u001b[0m \u001b[0mself\u001b[0m\u001b[0;34m.\u001b[0m\u001b[0mforward\u001b[0m\u001b[0;34m(\u001b[0m\u001b[0;34m*\u001b[0m\u001b[0minput\u001b[0m\u001b[0;34m,\u001b[0m \u001b[0;34m**\u001b[0m\u001b[0mkwargs\u001b[0m\u001b[0;34m)\u001b[0m\u001b[0;34m\u001b[0m\u001b[0;34m\u001b[0m\u001b[0m\n\u001b[0m\u001b[1;32m    723\u001b[0m         for hook in itertools.chain(\n\u001b[1;32m    724\u001b[0m                 \u001b[0m_global_forward_hooks\u001b[0m\u001b[0;34m.\u001b[0m\u001b[0mvalues\u001b[0m\u001b[0;34m(\u001b[0m\u001b[0;34m)\u001b[0m\u001b[0;34m,\u001b[0m\u001b[0;34m\u001b[0m\u001b[0;34m\u001b[0m\u001b[0m\n",
            "\u001b[0;32m/usr/local/lib/python3.6/dist-packages/torch/nn/modules/linear.py\u001b[0m in \u001b[0;36mforward\u001b[0;34m(self, input)\u001b[0m\n\u001b[1;32m     89\u001b[0m \u001b[0;34m\u001b[0m\u001b[0m\n\u001b[1;32m     90\u001b[0m     \u001b[0;32mdef\u001b[0m \u001b[0mforward\u001b[0m\u001b[0;34m(\u001b[0m\u001b[0mself\u001b[0m\u001b[0;34m,\u001b[0m \u001b[0minput\u001b[0m\u001b[0;34m:\u001b[0m \u001b[0mTensor\u001b[0m\u001b[0;34m)\u001b[0m \u001b[0;34m->\u001b[0m \u001b[0mTensor\u001b[0m\u001b[0;34m:\u001b[0m\u001b[0;34m\u001b[0m\u001b[0;34m\u001b[0m\u001b[0m\n\u001b[0;32m---> 91\u001b[0;31m         \u001b[0;32mreturn\u001b[0m \u001b[0mF\u001b[0m\u001b[0;34m.\u001b[0m\u001b[0mlinear\u001b[0m\u001b[0;34m(\u001b[0m\u001b[0minput\u001b[0m\u001b[0;34m,\u001b[0m \u001b[0mself\u001b[0m\u001b[0;34m.\u001b[0m\u001b[0mweight\u001b[0m\u001b[0;34m,\u001b[0m \u001b[0mself\u001b[0m\u001b[0;34m.\u001b[0m\u001b[0mbias\u001b[0m\u001b[0;34m)\u001b[0m\u001b[0;34m\u001b[0m\u001b[0;34m\u001b[0m\u001b[0m\n\u001b[0m\u001b[1;32m     92\u001b[0m \u001b[0;34m\u001b[0m\u001b[0m\n\u001b[1;32m     93\u001b[0m     \u001b[0;32mdef\u001b[0m \u001b[0mextra_repr\u001b[0m\u001b[0;34m(\u001b[0m\u001b[0mself\u001b[0m\u001b[0;34m)\u001b[0m \u001b[0;34m->\u001b[0m \u001b[0mstr\u001b[0m\u001b[0;34m:\u001b[0m\u001b[0;34m\u001b[0m\u001b[0;34m\u001b[0m\u001b[0m\n",
            "\u001b[0;32m/usr/local/lib/python3.6/dist-packages/torch/nn/functional.py\u001b[0m in \u001b[0;36mlinear\u001b[0;34m(input, weight, bias)\u001b[0m\n\u001b[1;32m   1674\u001b[0m         \u001b[0mret\u001b[0m \u001b[0;34m=\u001b[0m \u001b[0mtorch\u001b[0m\u001b[0;34m.\u001b[0m\u001b[0maddmm\u001b[0m\u001b[0;34m(\u001b[0m\u001b[0mbias\u001b[0m\u001b[0;34m,\u001b[0m \u001b[0minput\u001b[0m\u001b[0;34m,\u001b[0m \u001b[0mweight\u001b[0m\u001b[0;34m.\u001b[0m\u001b[0mt\u001b[0m\u001b[0;34m(\u001b[0m\u001b[0;34m)\u001b[0m\u001b[0;34m)\u001b[0m\u001b[0;34m\u001b[0m\u001b[0;34m\u001b[0m\u001b[0m\n\u001b[1;32m   1675\u001b[0m     \u001b[0;32melse\u001b[0m\u001b[0;34m:\u001b[0m\u001b[0;34m\u001b[0m\u001b[0;34m\u001b[0m\u001b[0m\n\u001b[0;32m-> 1676\u001b[0;31m         \u001b[0moutput\u001b[0m \u001b[0;34m=\u001b[0m \u001b[0minput\u001b[0m\u001b[0;34m.\u001b[0m\u001b[0mmatmul\u001b[0m\u001b[0;34m(\u001b[0m\u001b[0mweight\u001b[0m\u001b[0;34m.\u001b[0m\u001b[0mt\u001b[0m\u001b[0;34m(\u001b[0m\u001b[0;34m)\u001b[0m\u001b[0;34m)\u001b[0m\u001b[0;34m\u001b[0m\u001b[0;34m\u001b[0m\u001b[0m\n\u001b[0m\u001b[1;32m   1677\u001b[0m         \u001b[0;32mif\u001b[0m \u001b[0mbias\u001b[0m \u001b[0;32mis\u001b[0m \u001b[0;32mnot\u001b[0m \u001b[0;32mNone\u001b[0m\u001b[0;34m:\u001b[0m\u001b[0;34m\u001b[0m\u001b[0;34m\u001b[0m\u001b[0m\n\u001b[1;32m   1678\u001b[0m             \u001b[0moutput\u001b[0m \u001b[0;34m+=\u001b[0m \u001b[0mbias\u001b[0m\u001b[0;34m\u001b[0m\u001b[0;34m\u001b[0m\u001b[0m\n",
            "\u001b[0;31mRuntimeError\u001b[0m: size mismatch, m1: [64 x 8], m2: [512 x 32] at /pytorch/aten/src/TH/generic/THTensorMath.cpp:41"
          ]
        }
      ]
    },
    {
      "cell_type": "markdown",
      "metadata": {
        "id": "67s3S48zrMYK",
        "colab_type": "text"
      },
      "source": [
        "This is due to the fact that we're not reshaping from a 8-channel 8x8 image to a 512-element 1D vector. We could do it with `view`, but in this case within the `nn.Sequential` module, we don't see the output of the previous model, so we can't use `view`.\n",
        "\n",
        "Let's use this as an opportunity to show that we can write our own module, which will enable us to do this reshaping. We do this by subclassing `nn.Module`. \n",
        "\n",
        "_(**Note:** since version 1.3 pytorch has the module `nn.Flatten()` which would solve this problem, but we go ahead with the alternative appraoch anyway)_"
      ]
    },
    {
      "cell_type": "code",
      "metadata": {
        "id": "l6UI1Z1vq9Oj",
        "colab_type": "code",
        "colab": {}
      },
      "source": [
        "# We define all modules in the class, and then put them together in the `forward`\n",
        "# method. Note that there is no `backward` method, as pytorch uses autograd.\n",
        "\n",
        "class Net(nn.Module):\n",
        "  def __init__(self):\n",
        "    super().__init__()\n",
        "    self.conv1 = nn.Conv2d(3, 16, kernel_size=3, padding=1)\n",
        "    self.act1 = nn.Tanh()\n",
        "    self.pool1 = nn.MaxPool2d(2)\n",
        "    self.conv2 = nn.Conv2d(16, 8, kernel_size=3, padding=1)\n",
        "    self.act2 = nn.Tanh()\n",
        "    self.pool2 = nn.MaxPool2d(2)\n",
        "    self.fc1 = nn.Linear(8 * 8 * 8, 32)\n",
        "    self.act3 = nn.Tanh()\n",
        "    self.fc2 = nn.Linear(32, 2)\n",
        "\n",
        "  def forward(self, x):\n",
        "    out = self.pool1(self.act1(self.conv1(x)))\n",
        "    out = self.pool2(self.act2(self.conv1(out)))\n",
        "    out = out.view(-1, 8 * 8 * 8) # the reshaping we needed before\n",
        "    out = self.act3(self.fc1(out))\n",
        "    out = self.fc2(out)\n",
        "    return(out)\n"
      ],
      "execution_count": 10,
      "outputs": []
    },
    {
      "cell_type": "code",
      "metadata": {
        "id": "jFJdSStXvXC6",
        "colab_type": "code",
        "colab": {
          "base_uri": "https://localhost:8080/",
          "height": 35
        },
        "outputId": "213611ad-6845-49b6-d3c3-fdbd2c6f1394"
      },
      "source": [
        "# We can also see how big (i.e. how many parameters this model has)\n",
        "model = Net()\n",
        "numel_list = [p.numel() for p in model.parameters()]\n",
        "sum(numel_list), numel_list"
      ],
      "execution_count": 72,
      "outputs": [
        {
          "output_type": "execute_result",
          "data": {
            "text/plain": [
              "(18090, [432, 16, 1152, 8, 16384, 32, 64, 2])"
            ]
          },
          "metadata": {
            "tags": []
          },
          "execution_count": 72
        }
      ]
    },
    {
      "cell_type": "markdown",
      "metadata": {
        "id": "otXjkzX5v3xH",
        "colab_type": "text"
      },
      "source": [
        "Note that here we're using the model to define the entire network, but it could also be defined to a building block that could be used as a model within `nn.Sequential`\n",
        "\n",
        "Now, there is a way to write the above model in a more compact way, avoiding having to write out the module that have no parameters, like `nn.Tanh` and `nn.MaxPool2D`. For that we can use their functional form."
      ]
    },
    {
      "cell_type": "code",
      "metadata": {
        "id": "k0fljIq6vrNe",
        "colab_type": "code",
        "colab": {}
      },
      "source": [
        "import torch.nn.functional as F\n",
        "\n",
        "class Net(nn.Module):\n",
        "  def __init__(self):\n",
        "    super().__init__()\n",
        "    self.conv1 = nn.Conv2d(3, 16, kernel_size=3, padding=1)\n",
        "    self.conv2 = nn.Conv2d(16, 8, kernel_size=3, padding=1)\n",
        "    self.fc1 = nn.Linear(8 * 8 * 8, 32)\n",
        "    self.fc2 = nn.Linear(32, 2)\n",
        "\n",
        "  def forward(self, x):\n",
        "    out = F.max_pool2d(torch.tanh(self.conv1(x)), 2)\n",
        "    out = F.max_pool2d(torch.tanh(self.conv2(out)), 2)\n",
        "    out = out.view(-1, 8 * 8 * 8) # the reshaping we needed before\n",
        "    out = torch.tanh(self.fc1(out))\n",
        "    out = self.fc2(out)\n",
        "    return(out)\n"
      ],
      "execution_count": 11,
      "outputs": []
    },
    {
      "cell_type": "markdown",
      "metadata": {
        "id": "OIDEL8Oxx8UX",
        "colab_type": "text"
      },
      "source": [
        "We can now train the model as usual. We will need to first write a training loop"
      ]
    },
    {
      "cell_type": "code",
      "metadata": {
        "id": "TMefg8Tgx1g6",
        "colab_type": "code",
        "colab": {}
      },
      "source": [
        "import datetime\n",
        "\n",
        "def training_loop(n_epochs, optimizer, model, loss_fn, train_loader):\n",
        "  for epoch in range(1, n_epochs + 1):\n",
        "    loss_train = 0.0\n",
        "    for imgs, labels in train_loader:\n",
        "      outputs = model(imgs) # calculate predictions\n",
        "      loss = loss_fn(outputs, labels) # calculate loss\n",
        "      optimizer.zero_grad() # get rid of the previous gradient\n",
        "      loss.backward() # backprop\n",
        "      optimizer.step() # update parameters\n",
        "      loss_train += loss.item()\n",
        "    \n",
        "    if epoch ==1 or epoch % 10 == 0:\n",
        "      print(f'{datetime.datetime.now()} - Epoch: {epoch} - Loss: {loss_train / len(train_loader)}') # average loss per batch"
      ],
      "execution_count": 12,
      "outputs": []
    },
    {
      "cell_type": "code",
      "metadata": {
        "id": "eLvPgDFuz3jH",
        "colab_type": "code",
        "colab": {}
      },
      "source": [
        "# And finally we can train. Running on CPU this will take a while\n",
        "import torch.utils.data\n",
        "import torch.optim as optim"
      ],
      "execution_count": 13,
      "outputs": []
    },
    {
      "cell_type": "code",
      "metadata": {
        "id": "wV3QXXVk0Izw",
        "colab_type": "code",
        "colab": {}
      },
      "source": [
        "# Define the loader\n",
        "train_loader = torch.utils.data.DataLoader(cifar2, batch_size=64, shuffle=True)"
      ],
      "execution_count": 14,
      "outputs": []
    },
    {
      "cell_type": "code",
      "metadata": {
        "id": "87e_0irV0RuS",
        "colab_type": "code",
        "colab": {}
      },
      "source": [
        "# Initialise the model, definte optimizer and the loss\n",
        "model = Net()\n",
        "optimizer = optim.SGD(model.parameters(), lr=1e-2)\n",
        "loss_fn = nn.CrossEntropyLoss()"
      ],
      "execution_count": 15,
      "outputs": []
    },
    {
      "cell_type": "code",
      "metadata": {
        "id": "xfN9UBwK0ZYF",
        "colab_type": "code",
        "colab": {
          "base_uri": "https://localhost:8080/",
          "height": 208
        },
        "outputId": "ed9589b2-4692-4373-a786-303d72f89dc4"
      },
      "source": [
        "# Train\n",
        "training_loop(\n",
        "    n_epochs = 100,\n",
        "    optimizer = optimizer,\n",
        "    model = model,\n",
        "    loss_fn = loss_fn,\n",
        "    train_loader = train_loader\n",
        ")"
      ],
      "execution_count": 88,
      "outputs": [
        {
          "output_type": "stream",
          "text": [
            "2020-08-14 16:34:59.480955 - Epoch: 1 - Loss: 0.6714251307165546\n",
            "2020-08-14 16:35:39.461101 - Epoch: 10 - Loss: 0.4660154134984229\n",
            "2020-08-14 16:36:23.742914 - Epoch: 20 - Loss: 0.35437491279878436\n",
            "2020-08-14 16:37:07.903650 - Epoch: 30 - Loss: 0.33049961886588175\n",
            "2020-08-14 16:37:52.014473 - Epoch: 40 - Loss: 0.3133844162817973\n",
            "2020-08-14 16:38:36.654306 - Epoch: 50 - Loss: 0.30199066744108866\n",
            "2020-08-14 16:39:20.821056 - Epoch: 60 - Loss: 0.29209849295342805\n",
            "2020-08-14 16:40:05.448901 - Epoch: 70 - Loss: 0.27837342612302984\n",
            "2020-08-14 16:40:50.029361 - Epoch: 80 - Loss: 0.26692975772793887\n",
            "2020-08-14 16:41:34.388436 - Epoch: 90 - Loss: 0.2520826905491246\n",
            "2020-08-14 16:42:18.656572 - Epoch: 100 - Loss: 0.24048625170045598\n"
          ],
          "name": "stdout"
        }
      ]
    },
    {
      "cell_type": "markdown",
      "metadata": {
        "id": "sLL9Acf-_ZeI",
        "colab_type": "text"
      },
      "source": [
        "Let's now check the model accuracy"
      ]
    },
    {
      "cell_type": "code",
      "metadata": {
        "id": "mmItAiiE0qO5",
        "colab_type": "code",
        "colab": {}
      },
      "source": [
        "train_loader = torch.utils.data.DataLoader(cifar2, batch_size=64, shuffle=False)\n",
        "val_loader = torch.utils.data.DataLoader(cifar2_val, batch_size=64, shuffle=False)"
      ],
      "execution_count": 89,
      "outputs": []
    },
    {
      "cell_type": "code",
      "metadata": {
        "id": "hv86MHPp_i8r",
        "colab_type": "code",
        "colab": {}
      },
      "source": [
        "def validate(model, train_loader, val_loader):\n",
        "  for name, loader in [(\"train\", train_loader), (\"val\", val_loader)]:\n",
        "    correct = 0\n",
        "    total = 0\n",
        "    \n",
        "    with torch.no_grad():\n",
        "      for imgs, labels in loader:\n",
        "        outputs = model(imgs)\n",
        "        _ , predicted = torch.max(outputs, dim=1)\n",
        "        total += labels.shape[0]\n",
        "        correct += int((predicted == labels).sum())\n",
        "\n",
        "    print(f\"Accuracy: {name, correct / total}\")      "
      ],
      "execution_count": 90,
      "outputs": []
    },
    {
      "cell_type": "code",
      "metadata": {
        "id": "b6RVUiBvAEsn",
        "colab_type": "code",
        "colab": {
          "base_uri": "https://localhost:8080/",
          "height": 52
        },
        "outputId": "5f6017d1-99b8-4921-ce9c-0a71aaea879c"
      },
      "source": [
        "validate(model, train_loader, val_loader)"
      ],
      "execution_count": 91,
      "outputs": [
        {
          "output_type": "stream",
          "text": [
            "Accuracy: ('train', 0.8992)\n",
            "Accuracy: ('val', 0.879)\n"
          ],
          "name": "stdout"
        }
      ]
    },
    {
      "cell_type": "markdown",
      "metadata": {
        "id": "atA5S9J9A6xB",
        "colab_type": "text"
      },
      "source": [
        "Finally we can see how to save and load the model"
      ]
    },
    {
      "cell_type": "code",
      "metadata": {
        "id": "g9HGia_GAIg5",
        "colab_type": "code",
        "colab": {}
      },
      "source": [
        "# saving the model\n",
        "!mkdir \"/content/models\"\n",
        "path = '/content/models/'\n",
        "torch.save(model.state_dict(), path + 'birds_vs_airplanes.pt')"
      ],
      "execution_count": 25,
      "outputs": []
    },
    {
      "cell_type": "code",
      "metadata": {
        "id": "vDS5QqZCBMaZ",
        "colab_type": "code",
        "colab": {
          "base_uri": "https://localhost:8080/",
          "height": 35
        },
        "outputId": "23a42ea9-5cd8-4c8a-d4f9-ded323374e02"
      },
      "source": [
        "# loading the model\n",
        "loaded_model = Net() # to load the model, you first need to initialise it with\n",
        "                     # exactly the same definition!\n",
        "\n",
        "loaded_model.load_state_dict(torch.load(path + 'birds_vs_airplanes.pt'))"
      ],
      "execution_count": 93,
      "outputs": [
        {
          "output_type": "execute_result",
          "data": {
            "text/plain": [
              "<All keys matched successfully>"
            ]
          },
          "metadata": {
            "tags": []
          },
          "execution_count": 93
        }
      ]
    },
    {
      "cell_type": "markdown",
      "metadata": {
        "id": "jNGmUbDMCewv",
        "colab_type": "text"
      },
      "source": [
        "## Training on the GPU\n",
        "\n",
        "We can now train the model on the GPU to make it faster. First let's check that the GPU is indeed available"
      ]
    },
    {
      "cell_type": "code",
      "metadata": {
        "id": "0gZWOMBeBij9",
        "colab_type": "code",
        "colab": {
          "base_uri": "https://localhost:8080/",
          "height": 35
        },
        "outputId": "8b979823-ea0b-4e4a-c293-2a96e4aa3087"
      },
      "source": [
        "device = (torch.device('cuda') if torch.cuda.is_available()\n",
        "          else torch.device('cpu'))\n",
        "print(f'Training on device {device}')"
      ],
      "execution_count": 16,
      "outputs": [
        {
          "output_type": "stream",
          "text": [
            "Training on device cuda\n"
          ],
          "name": "stdout"
        }
      ]
    },
    {
      "cell_type": "markdown",
      "metadata": {
        "id": "1SuUcIB5DZw3",
        "colab_type": "text"
      },
      "source": [
        "To train on the GPU we need to move our tensors there using the `Tensor.to` method. So our training loop changes as follows:"
      ]
    },
    {
      "cell_type": "code",
      "metadata": {
        "id": "I0IZ9BKvCsZb",
        "colab_type": "code",
        "colab": {}
      },
      "source": [
        "def training_loop(n_epochs, optimizer, model, loss_fn, train_loader):\n",
        "  print(device)\n",
        "  for epoch in range(1, n_epochs + 1):\n",
        "    loss_train = 0.0\n",
        "    for imgs, labels in train_loader:\n",
        "      imgs = imgs.to(device=device)\n",
        "      labels = labels.to(device=device)\n",
        "      outputs = model(imgs) # calculate predictions\n",
        "      loss = loss_fn(outputs, labels) # calculate loss\n",
        "      optimizer.zero_grad() # get rid of the previous gradient\n",
        "      loss.backward() # backprop\n",
        "      optimizer.step() # update parameters\n",
        "      loss_train += loss.item()\n",
        "    \n",
        "    if epoch ==1 or epoch % 10 == 0:\n",
        "      print(f'{datetime.datetime.now()} - Epoch: {epoch} - Loss: {loss_train / len(train_loader)}') # average loss per batch"
      ],
      "execution_count": 18,
      "outputs": []
    },
    {
      "cell_type": "markdown",
      "metadata": {
        "id": "xZb1dricDxwl",
        "colab_type": "text"
      },
      "source": [
        "Apart from that change, everything stays the same. So let's train again, and see how much faster it goes."
      ]
    },
    {
      "cell_type": "code",
      "metadata": {
        "id": "ym7iA4kWD5K6",
        "colab_type": "code",
        "colab": {
          "base_uri": "https://localhost:8080/",
          "height": 225
        },
        "outputId": "2c510d0c-070f-43a0-89fa-a1288f57ec8c"
      },
      "source": [
        "train_loader = torch.utils.data.DataLoader(cifar2, batch_size=64, shuffle=True)\n",
        "\n",
        "model = Net().to(device=device) # Need to move the model to the GPU as well\n",
        "optimizer = optim.SGD(model.parameters(), lr=1e-2)\n",
        "loss_fn = nn.CrossEntropyLoss()\n",
        "\n",
        "training_loop(\n",
        "    n_epochs = 100,\n",
        "    optimizer = optimizer,\n",
        "    model = model,\n",
        "    loss_fn = loss_fn,\n",
        "    train_loader = train_loader\n",
        ")"
      ],
      "execution_count": 19,
      "outputs": [
        {
          "output_type": "stream",
          "text": [
            "cuda\n",
            "2020-08-14 17:43:43.428740 - Epoch: 1 - Loss: 0.6838089284623504\n",
            "2020-08-14 17:43:46.942467 - Epoch: 10 - Loss: 0.4714757557127886\n",
            "2020-08-14 17:43:50.869793 - Epoch: 20 - Loss: 0.36084253298249214\n",
            "2020-08-14 17:43:54.835164 - Epoch: 30 - Loss: 0.32321396299228544\n",
            "2020-08-14 17:43:58.794928 - Epoch: 40 - Loss: 0.30528587368643206\n",
            "2020-08-14 17:44:02.727775 - Epoch: 50 - Loss: 0.2913887944001301\n",
            "2020-08-14 17:44:06.689945 - Epoch: 60 - Loss: 0.2774290480431478\n",
            "2020-08-14 17:44:10.603068 - Epoch: 70 - Loss: 0.26580145784244413\n",
            "2020-08-14 17:44:14.528947 - Epoch: 80 - Loss: 0.2524760164273013\n",
            "2020-08-14 17:44:18.481933 - Epoch: 90 - Loss: 0.23991774914750627\n",
            "2020-08-14 17:44:22.447318 - Epoch: 100 - Loss: 0.23043173921715682\n"
          ],
          "name": "stdout"
        }
      ]
    },
    {
      "cell_type": "markdown",
      "metadata": {
        "id": "RuIRqeMDE1rI",
        "colab_type": "text"
      },
      "source": [
        "And we will need to make the same changes to validate the model"
      ]
    },
    {
      "cell_type": "code",
      "metadata": {
        "colab_type": "code",
        "id": "iPJJC_EjE9nw",
        "colab": {}
      },
      "source": [
        "train_loader = torch.utils.data.DataLoader(cifar2, batch_size=64, shuffle=False)\n",
        "val_loader = torch.utils.data.DataLoader(cifar2_val, batch_size=64, shuffle=False)"
      ],
      "execution_count": 20,
      "outputs": []
    },
    {
      "cell_type": "code",
      "metadata": {
        "id": "kEqLXD5IE-2h",
        "colab_type": "code",
        "colab": {}
      },
      "source": [
        "def validate(model, train_loader, val_loader):\n",
        "  for name, loader in [(\"train\", train_loader), (\"val\", val_loader)]:\n",
        "    correct = 0\n",
        "    total = 0\n",
        "    \n",
        "    with torch.no_grad():\n",
        "      for imgs, labels in loader:\n",
        "        imgs = imgs.to(device=device)\n",
        "        labels = labels.to(device=device)\n",
        "        model = model.to(device=device)\n",
        "        outputs = model(imgs)\n",
        "        _ , predicted = torch.max(outputs, dim=1)\n",
        "        total += labels.shape[0]\n",
        "        correct += int((predicted == labels).sum())\n",
        "\n",
        "    print(f\"Accuracy: {name, correct / total}\")    "
      ],
      "execution_count": 21,
      "outputs": []
    },
    {
      "cell_type": "code",
      "metadata": {
        "id": "KLGsLbJzFLs0",
        "colab_type": "code",
        "colab": {
          "base_uri": "https://localhost:8080/",
          "height": 52
        },
        "outputId": "726bd47d-45af-4db8-9800-44d0d65a9650"
      },
      "source": [
        "validate(model, train_loader, val_loader)"
      ],
      "execution_count": 22,
      "outputs": [
        {
          "output_type": "stream",
          "text": [
            "Accuracy: ('train', 0.9089)\n",
            "Accuracy: ('val', 0.881)\n"
          ],
          "name": "stdout"
        }
      ]
    },
    {
      "cell_type": "markdown",
      "metadata": {
        "id": "WnlEwC76FTGZ",
        "colab_type": "text"
      },
      "source": [
        "Finally, there is a **complication** when loading network weights: pytorch will attempt to load the weights to the save device it was saved from. We have 2 options:\n",
        "1. move the model to the CPU before saving\n",
        "2. tell pytorch to override the device info when loading weights, as follows:"
      ]
    },
    {
      "cell_type": "code",
      "metadata": {
        "id": "VJ1Gu0NVFJBQ",
        "colab_type": "code",
        "colab": {
          "base_uri": "https://localhost:8080/",
          "height": 35
        },
        "outputId": "09339f76-f58e-4c7d-a2ce-b9eab7e0aff2"
      },
      "source": [
        "loaded_model = Net().to(device=device)\n",
        "loaded_model.load_state_dict(torch.load(path + 'birds_vs_airplanes.pt', map_location=device))"
      ],
      "execution_count": 26,
      "outputs": [
        {
          "output_type": "execute_result",
          "data": {
            "text/plain": [
              "<All keys matched successfully>"
            ]
          },
          "metadata": {
            "tags": []
          },
          "execution_count": 26
        }
      ]
    },
    {
      "cell_type": "markdown",
      "metadata": {
        "id": "vl5VVykhGFff",
        "colab_type": "text"
      },
      "source": [
        "## Model design"
      ]
    },
    {
      "cell_type": "code",
      "metadata": {
        "id": "nOTYdQKWGDMP",
        "colab_type": "code",
        "colab": {}
      },
      "source": [
        ""
      ],
      "execution_count": null,
      "outputs": []
    }
  ]
}