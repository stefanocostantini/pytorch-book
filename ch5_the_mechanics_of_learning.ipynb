{
  "nbformat": 4,
  "nbformat_minor": 0,
  "metadata": {
    "colab": {
      "name": "ch5_the_mechanics_of_learning.ipynb",
      "provenance": [],
      "collapsed_sections": [
        "_JBoBJa7JaOE",
        "_3x6JzXZKSlr",
        "5OOAmc8wKiZu",
        "yBp9KoqDd-zI"
      ],
      "authorship_tag": "ABX9TyNlBmeqduSOqGaW4IRYaMbS",
      "include_colab_link": true
    },
    "kernelspec": {
      "name": "python3",
      "display_name": "Python 3"
    }
  },
  "cells": [
    {
      "cell_type": "markdown",
      "metadata": {
        "id": "view-in-github",
        "colab_type": "text"
      },
      "source": [
        "<a href=\"https://colab.research.google.com/github/stefanocostantini/pytorch-book/blob/master/ch5_the_mechanics_of_learning.ipynb\" target=\"_parent\"><img src=\"https://colab.research.google.com/assets/colab-badge.svg\" alt=\"Open In Colab\"/></a>"
      ]
    },
    {
      "cell_type": "code",
      "metadata": {
        "id": "rZncbEjuCgc3",
        "colab_type": "code",
        "colab": {}
      },
      "source": [
        "%matplotlib inline\n",
        "import numpy as np\n",
        "import torch\n",
        "import matplotlib.pyplot as plt"
      ],
      "execution_count": null,
      "outputs": []
    },
    {
      "cell_type": "markdown",
      "metadata": {
        "id": "mGokVCETHEEo",
        "colab_type": "text"
      },
      "source": [
        "## Regression problem\n",
        "\n",
        "We have a thermometer which doesn't show the units, so we do measurements in both this instrument and celsius to have estimate a model that would allow us to determine the units of our 'unlabelled' thermometer"
      ]
    },
    {
      "cell_type": "markdown",
      "metadata": {
        "id": "_JBoBJa7JaOE",
        "colab_type": "text"
      },
      "source": [
        "### Data"
      ]
    },
    {
      "cell_type": "code",
      "metadata": {
        "id": "xhPm4YqHH0ux",
        "colab_type": "code",
        "colab": {}
      },
      "source": [
        "# Measurement in celsius\n",
        "t_c = [0.5,  14.0, 15.0, 28.0, 11.0,  8.0,  3.0, -4.0,  6.0, 13.0, 21.0]\n",
        "t_c = torch.tensor(t_c) # convert to tensor"
      ],
      "execution_count": null,
      "outputs": []
    },
    {
      "cell_type": "code",
      "metadata": {
        "id": "hd-u8-BvIBPa",
        "colab_type": "code",
        "colab": {}
      },
      "source": [
        "# Measurement in unknown unit\n",
        "t_u = [35.7, 55.9, 58.2, 81.9, 56.3, 48.9, 33.9, 21.8, 48.4, 60.4, 68.4]\n",
        "t_u = torch.tensor(t_u) # convert to tensor"
      ],
      "execution_count": null,
      "outputs": []
    },
    {
      "cell_type": "code",
      "metadata": {
        "id": "QJ61tKtjIJaY",
        "colab_type": "code",
        "colab": {
          "base_uri": "https://localhost:8080/"
        },
        "outputId": "0e754ad3-70d0-4ddb-e536-e6541126d491"
      },
      "source": [
        "# There appear to be a linear relationship between the two measures\n",
        "plt.scatter(t_u, t_c)"
      ],
      "execution_count": null,
      "outputs": [
        {
          "output_type": "execute_result",
          "data": {
            "text/plain": [
              "<matplotlib.collections.PathCollection at 0x7f3b03632518>"
            ]
          },
          "metadata": {
            "tags": []
          },
          "execution_count": 6
        },
        {
          "output_type": "display_data",
          "data": {
            "image/png": "[encoded data removed]",
            "text/plain": [
              "<Figure size 432x288 with 1 Axes>"
            ]
          },
          "metadata": {
            "tags": [],
            "needs_background": "light"
          }
        }
      ]
    },
    {
      "cell_type": "markdown",
      "metadata": {
        "id": "QMWXPvTxJgnU",
        "colab_type": "text"
      },
      "source": [
        "### Model"
      ]
    },
    {
      "cell_type": "markdown",
      "metadata": {
        "id": "wlYWNnDwWB-6",
        "colab_type": "text"
      },
      "source": [
        "It generally makes sense to start from the simplest model, a linear model (like linear regression): `t_c = w * t_u + b`\n",
        "\n",
        "`w` and `b` are the `weight` and the `bias`, respectively. These are the parameters that we need to estimate.\n",
        "\n",
        "We estimate them by finding the values of `w` and `b` that minimise the model's error. But to do that, we need to a measure of the error, i.e. we need a **loss function** of which we want to find the minimum.\n",
        "\n",
        "This is the same as line fitting, but let's do it in pytorch. "
      ]
    },
    {
      "cell_type": "code",
      "metadata": {
        "id": "Jp0IZ6i_Vx3w",
        "colab_type": "code",
        "colab": {}
      },
      "source": [
        "# First we need to define the model\n",
        "def model(t_u, w, b):\n",
        "  return w * t_u + b"
      ],
      "execution_count": null,
      "outputs": []
    },
    {
      "cell_type": "code",
      "metadata": {
        "id": "5uL8Ho-8dzIM",
        "colab_type": "code",
        "colab": {}
      },
      "source": [
        "# Then we define the loss function\n",
        "def loss_fn(t_p, t_c):\n",
        "  squared_diffs = (t_p - t_c) ** 2\n",
        "  return squared_diffs.mean() "
      ],
      "execution_count": null,
      "outputs": []
    },
    {
      "cell_type": "code",
      "metadata": {
        "id": "0znGz9o3eWN0",
        "colab_type": "code",
        "colab": {
          "base_uri": "https://localhost:8080/",
          "height": 69
        },
        "outputId": "131553ae-a43d-40c8-8779-ca0f5c8350c1"
      },
      "source": [
        "# Finally we can initialise the value of the scalars (zero dimension tensors),\n",
        "# \"run\" the model and calculate the loss\n",
        "w = torch.ones(())\n",
        "b = torch.zeros(())\n",
        "\n",
        "t_p = model(t_u, w, b)\n",
        "print(t_p)\n",
        "\n",
        "loss = loss_fn(t_p, t_c)\n",
        "loss"
      ],
      "execution_count": null,
      "outputs": [
        {
          "output_type": "stream",
          "text": [
            "tensor([35.7000, 55.9000, 58.2000, 81.9000, 56.3000, 48.9000, 33.9000, 21.8000,\n",
            "        48.4000, 60.4000, 68.4000])\n"
          ],
          "name": "stdout"
        },
        {
          "output_type": "execute_result",
          "data": {
            "text/plain": [
              "tensor(1763.8846)"
            ]
          },
          "metadata": {
            "tags": []
          },
          "execution_count": 13
        }
      ]
    },
    {
      "cell_type": "markdown",
      "metadata": {
        "id": "_3x6JzXZKSlr",
        "colab_type": "text"
      },
      "source": [
        "### Training"
      ]
    },
    {
      "cell_type": "markdown",
      "metadata": {
        "id": "WFkX9RwYfmj1",
        "colab_type": "text"
      },
      "source": [
        "But how do we actually *estimate* `w` and `b` to make the loss as small as possible?\n",
        "\n",
        "We'll optimise the loss function with respect to the parameters using the *gradient descent* algorithm."
      ]
    },
    {
      "cell_type": "code",
      "metadata": {
        "id": "hucelqiMfCKu",
        "colab_type": "code",
        "colab": {}
      },
      "source": [
        "# We define functions that calculate the rate of change around a particular point\n",
        "# for both w and b. These will tell us in which direction to change these parameters\n",
        "# to change the loss.\n",
        "\n",
        "# first define the increment around the point\n",
        "delta = 0.1\n",
        "\n",
        "# then the loss rate of change\n",
        "loss_rate_of_change_w = (loss_fn(model(t_u, w + delta, b), t_u) - loss_fn(model(t_u, w - delta, b), t_u)) / 2.0 * delta\n",
        "loss_rate_of_change_b = (loss_fn(model(t_u, w, b + delta), t_u) - loss_fn(model(t_u, w, b-delta), t_u)) / 2.0 * delta\n",
        "\n",
        "# to avoid big jumps we scale down the rate of change by a learning rate\n",
        "learning_rate = 1e-2\n",
        "\n",
        "# so that the values of w and b are updated as follows\n",
        "w = w - learning_rate * loss_rate_of_change_w\n",
        "b = b - learning_rate * loss_rate_of_change_b"
      ],
      "execution_count": null,
      "outputs": []
    },
    {
      "cell_type": "markdown",
      "metadata": {
        "id": "hysDeBeilGVS",
        "colab_type": "text"
      },
      "source": [
        "The above process is really not efficient and doesn't scale well. What we want instead is calculate the individual derivative of the loss function with respect to each parameter, and put them into a vector of derivatives, i.e. the *gradient*"
      ]
    },
    {
      "cell_type": "markdown",
      "metadata": {
        "id": "SSXjSgs92asv",
        "colab_type": "text"
      },
      "source": [
        "In this case we have two parameters so our gradient will have 2 derivatives, i.e.\n",
        "\n",
        "$$\n",
        " \\nabla_{w,b}L = \\left(\\frac{\\partial L}{\\partial w}, \\frac{\\partial L}{\\partial b}\\right) = \\left(\\frac{\\partial L}{\\partial m} \\frac{\\partial m}{\\partial w}, \\frac{\\partial L}{\\partial m} \\frac{\\partial m}{\\partial b}\\right)\n",
        " $$\n",
        "\n",
        " using the chain rule. Specifically the first term is the derivative of the loss with respect to the output of the model (i.e. the prediction), while the second term is the derivative of the model with respect to one of its parameter.\n",
        "\n",
        "In code we have the following: "
      ]
    },
    {
      "cell_type": "code",
      "metadata": {
        "id": "Nx8_9eI62ZRU",
        "colab_type": "code",
        "colab": {}
      },
      "source": [
        "# The partial derivative of the loss wrt the model output (t_p)\n",
        "def dloss_fn(t_p, t_c):\n",
        "  dsquared_diffs = 2 * (t_p - t_c) / t_p.size(0) # derivative of mean\n",
        "  return dsquared_diffs\n",
        "\n",
        "# The partial derivatives of the model wrt each of its parameters are:\n",
        "def dmodel_dw(t_u, w, b):\n",
        "  return t_u\n",
        "\n",
        "def dmodel_db(t_u, w, b):\n",
        "  return 1.0"
      ],
      "execution_count": null,
      "outputs": []
    },
    {
      "cell_type": "code",
      "metadata": {
        "id": "Ww8yWu4p7MUz",
        "colab_type": "code",
        "colab": {}
      },
      "source": [
        "# Now we can define the gradience function\n",
        "def grad_fn(t_u, t_c, t_p, w, b):\n",
        "  dloss_dtp = dloss_fn(t_p, t_c)\n",
        "  dloss_dw = dloss_dtp * dmodel_dw(t_u, w, b)\n",
        "  dloss_db = dloss_dtp * dmodel_db(t_u, w, b)\n",
        "  return torch.stack([dloss_dw.sum(), dloss_db.sum()])"
      ],
      "execution_count": null,
      "outputs": []
    },
    {
      "cell_type": "code",
      "metadata": {
        "id": "kFm8wk9u7OPf",
        "colab_type": "code",
        "colab": {}
      },
      "source": [
        "# Let's now set up the training loop, which will have a forward pass\n",
        "# (calculation of prediction) and a backward pass (calculation of gradient). \n",
        "# The parameters will then be updated. This is repeated for as many epochs as\n",
        "# selected\n",
        "def training_loop(n_epochs, learning_rate, params, t_u, t_c, print_output = False):\n",
        "  for epoch in range(1, n_epochs + 1):\n",
        "    w, b = params\n",
        "    # forward pass\n",
        "    t_p = model(t_u, w, b)\n",
        "    # backward pass\n",
        "    loss = loss_fn(t_p, t_c) # we calculate this just to show it, it's already taken into account in gradient function\n",
        "    grad = grad_fn(t_u, t_c, t_p, w, b)\n",
        "    # update parameters\n",
        "    params = params - learning_rate * grad\n",
        "    if print_output:\n",
        "      print(f'Epoch: {epoch}, Loss: {float(loss)}, Params: {params}, Grad: {grad}')\n",
        "  return params  "
      ],
      "execution_count": null,
      "outputs": []
    },
    {
      "cell_type": "code",
      "metadata": {
        "id": "gF2Q9Wrr_V8D",
        "colab_type": "code",
        "colab": {
          "base_uri": "https://localhost:8080/"
        },
        "outputId": "690ba305-c2b2-4268-e22e-73b91017b4bc"
      },
      "source": [
        "# And then we launch the training loop (100 epochs in this case)\n",
        "training_loop(\n",
        "    n_epochs = 15,\n",
        "    learning_rate = 1e-2,\n",
        "    params = torch.tensor([1.0, 0.0]), # random initialisation\n",
        "    t_u = t_u,\n",
        "    t_c = t_c,\n",
        "    print_output=True\n",
        "    )"
      ],
      "execution_count": null,
      "outputs": [
        {
          "output_type": "stream",
          "text": [
            "Epoch: 1, Loss: 1763.8846435546875, Params: tensor([-44.1730,  -0.8260]), Grad: tensor([4517.2969,   82.6000])\n",
            "Epoch: 2, Loss: 5802485.5, Params: tensor([2568.4014,   45.1637]), Grad: tensor([-261257.4219,   -4598.9712])\n",
            "Epoch: 3, Loss: 19408035840.0, Params: tensor([-148527.7344,   -2616.3933]), Grad: tensor([15109614.0000,   266155.7188])\n",
            "Epoch: 4, Loss: 64915909902336.0, Params: tensor([8589999.0000,  151310.8594]), Grad: tensor([-8.7385e+08, -1.5393e+07])\n",
            "Epoch: 5, Loss: 2.171305598207918e+17, Params: tensor([-4.9680e+08, -8.7510e+06]), Grad: tensor([5.0539e+10, 8.9023e+08])\n",
            "Epoch: 6, Loss: 7.262575831529281e+20, Params: tensor([2.8732e+10, 5.0610e+08]), Grad: tensor([-2.9229e+12, -5.1486e+10])\n",
            "Epoch: 7, Loss: 2.429183992928415e+24, Params: tensor([-1.6617e+12, -2.9270e+10]), Grad: tensor([1.6904e+14, 2.9776e+12])\n",
            "Epoch: 8, Loss: 8.125126681682404e+27, Params: tensor([9.6102e+13, 1.6928e+12]), Grad: tensor([-9.7764e+15, -1.7221e+14])\n",
            "Epoch: 9, Loss: 2.7176891792249148e+31, Params: tensor([-5.5580e+15, -9.7903e+13]), Grad: tensor([5.6541e+17, 9.9596e+15])\n",
            "Epoch: 10, Loss: 9.090115470662065e+34, Params: tensor([3.2144e+17, 5.6621e+15]), Grad: tensor([-3.2700e+19, -5.7600e+17])\n",
            "Epoch: 11, Loss: inf, Params: tensor([-1.8590e+19, -3.2746e+17]), Grad: tensor([1.8912e+21, 3.3313e+19])\n",
            "Epoch: 12, Loss: inf, Params: tensor([1.0752e+21, 1.8939e+19]), Grad: tensor([-1.0937e+23, -1.9266e+21])\n",
            "Epoch: 13, Loss: inf, Params: tensor([-6.2181e+22, -1.0953e+21]), Grad: tensor([6.3256e+24, 1.1142e+23])\n",
            "Epoch: 14, Loss: inf, Params: tensor([3.5962e+24, 6.3346e+22]), Grad: tensor([-3.6584e+26, -6.4441e+24])\n",
            "Epoch: 15, Loss: inf, Params: tensor([-2.0798e+26, -3.6636e+24]), Grad: tensor([2.1158e+28, 3.7269e+26])\n"
          ],
          "name": "stdout"
        },
        {
          "output_type": "execute_result",
          "data": {
            "text/plain": [
              "tensor([-2.0798e+26, -3.6636e+24])"
            ]
          },
          "metadata": {
            "tags": []
          },
          "execution_count": 57
        }
      ]
    },
    {
      "cell_type": "markdown",
      "metadata": {
        "id": "h-PtCAswB-nH",
        "colab_type": "text"
      },
      "source": [
        "The loss exploded, probably due to parameter updates that are are too large. Look how the value of the parameters oscillates more and more. It's a *diverging* optimisation process, exactly the opposite of what we want.\n",
        "\n",
        "The first thing to try is to reduce the learning rate, we try `1e-4`"
      ]
    },
    {
      "cell_type": "code",
      "metadata": {
        "id": "qC9Lwtvb_t3z",
        "colab_type": "code",
        "colab": {
          "base_uri": "https://localhost:8080/"
        },
        "outputId": "0c7e7483-31d1-40e0-bafb-ef9632d0b4cb"
      },
      "source": [
        "training_loop(\n",
        "    n_epochs = 15,\n",
        "    learning_rate = 1e-4,\n",
        "    params = torch.tensor([1.0, 0.0]), # random initialisation\n",
        "    t_u = t_u,\n",
        "    t_c = t_c,\n",
        "    print_output = True\n",
        "    )"
      ],
      "execution_count": null,
      "outputs": [
        {
          "output_type": "stream",
          "text": [
            "Epoch: 1, Loss: 1763.8846435546875, Params: tensor([ 0.5483, -0.0083]), Grad: tensor([4517.2969,   82.6000])\n",
            "Epoch: 2, Loss: 323.0905456542969, Params: tensor([ 0.3623, -0.0118]), Grad: tensor([1859.5493,   35.7843])\n",
            "Epoch: 3, Loss: 78.92963409423828, Params: tensor([ 0.2858, -0.0135]), Grad: tensor([765.4667,  16.5122])\n",
            "Epoch: 4, Loss: 37.5528450012207, Params: tensor([ 0.2543, -0.0143]), Grad: tensor([315.0790,   8.5787])\n",
            "Epoch: 5, Loss: 30.540285110473633, Params: tensor([ 0.2413, -0.0149]), Grad: tensor([129.6733,   5.3127])\n",
            "Epoch: 6, Loss: 29.351152420043945, Params: tensor([ 0.2360, -0.0153]), Grad: tensor([53.3495,  3.9682])\n",
            "Epoch: 7, Loss: 29.148881912231445, Params: tensor([ 0.2338, -0.0156]), Grad: tensor([21.9303,  3.4148])\n",
            "Epoch: 8, Loss: 29.113847732543945, Params: tensor([ 0.2329, -0.0159]), Grad: tensor([8.9964, 3.1869])\n",
            "Epoch: 9, Loss: 29.107145309448242, Params: tensor([ 0.2325, -0.0162]), Grad: tensor([3.6721, 3.0930])\n",
            "Epoch: 10, Loss: 29.105241775512695, Params: tensor([ 0.2324, -0.0166]), Grad: tensor([1.4803, 3.0544])\n",
            "Epoch: 11, Loss: 29.104167938232422, Params: tensor([ 0.2323, -0.0169]), Grad: tensor([0.5781, 3.0384])\n",
            "Epoch: 12, Loss: 29.103221893310547, Params: tensor([ 0.2323, -0.0172]), Grad: tensor([0.2066, 3.0318])\n",
            "Epoch: 13, Loss: 29.102296829223633, Params: tensor([ 0.2323, -0.0175]), Grad: tensor([0.0537, 3.0291])\n",
            "Epoch: 14, Loss: 29.10137939453125, Params: tensor([ 0.2323, -0.0178]), Grad: tensor([-0.0093,  3.0279])\n",
            "Epoch: 15, Loss: 29.1004695892334, Params: tensor([ 0.2323, -0.0181]), Grad: tensor([-0.0353,  3.0274])\n"
          ],
          "name": "stdout"
        },
        {
          "output_type": "execute_result",
          "data": {
            "text/plain": [
              "tensor([ 0.2323, -0.0181])"
            ]
          },
          "metadata": {
            "tags": []
          },
          "execution_count": 58
        }
      ]
    },
    {
      "cell_type": "markdown",
      "metadata": {
        "id": "JIKL4iz0Cqbe",
        "colab_type": "text"
      },
      "source": [
        "This worked better, we can see that soon the value of the loss stabilises and the value of the parameters does not change that much. \n",
        "\n",
        "However, after a while the loss stabilises. There is a potential other problem here, the gradient. We see in Epoch 1 that the gradient for `w` is much bigger than the gradient for `b`. As the two parameters are in *differently scaled spaces*, it's unlikely that the learning rate will be optimal for both. So the solution is to scale the inputs. We can do this as follows:"
      ]
    },
    {
      "cell_type": "code",
      "metadata": {
        "id": "AektSwEsCm22",
        "colab_type": "code",
        "colab": {}
      },
      "source": [
        "t_un = 0.1 * t_u"
      ],
      "execution_count": null,
      "outputs": []
    },
    {
      "cell_type": "code",
      "metadata": {
        "id": "rlDiX4xKFBmG",
        "colab_type": "code",
        "colab": {
          "base_uri": "https://localhost:8080/"
        },
        "outputId": "6375afe4-4d5d-4784-e38e-489f01ac0a13"
      },
      "source": [
        "# then we re-run the training loop\n",
        "training_loop(\n",
        "    n_epochs = 15,\n",
        "    learning_rate = 1e-2,\n",
        "    params = torch.tensor([1.0, 0.0]), # random initialisation\n",
        "    t_u = t_un,\n",
        "    t_c = t_c,\n",
        "    print_output = True\n",
        "    )"
      ],
      "execution_count": null,
      "outputs": [
        {
          "output_type": "stream",
          "text": [
            "Epoch: 1, Loss: 80.36434173583984, Params: tensor([1.7761, 0.1064]), Grad: tensor([-77.6140, -10.6400])\n",
            "Epoch: 2, Loss: 37.57491683959961, Params: tensor([2.0848, 0.1303]), Grad: tensor([-30.8623,  -2.3864])\n",
            "Epoch: 3, Loss: 30.871076583862305, Params: tensor([2.2094, 0.1217]), Grad: tensor([-12.4631,   0.8587])\n",
            "Epoch: 4, Loss: 29.756193161010742, Params: tensor([2.2616, 0.1004]), Grad: tensor([-5.2218,  2.1327])\n",
            "Epoch: 5, Loss: 29.50714874267578, Params: tensor([2.2853, 0.0740]), Grad: tensor([-2.3715,  2.6310])\n",
            "Epoch: 6, Loss: 29.392457962036133, Params: tensor([2.2978, 0.0458]), Grad: tensor([-1.2492,  2.8241])\n",
            "Epoch: 7, Loss: 29.298828125, Params: tensor([2.3059, 0.0168]), Grad: tensor([-0.8071,  2.8970])\n",
            "Epoch: 8, Loss: 29.208717346191406, Params: tensor([ 2.3122, -0.0124]), Grad: tensor([-0.6325,  2.9227])\n",
            "Epoch: 9, Loss: 29.119417190551758, Params: tensor([ 2.3178, -0.0417]), Grad: tensor([-0.5633,  2.9298])\n",
            "Epoch: 10, Loss: 29.030487060546875, Params: tensor([ 2.3232, -0.0710]), Grad: tensor([-0.5355,  2.9295])\n",
            "Epoch: 11, Loss: 28.941875457763672, Params: tensor([ 2.3284, -0.1003]), Grad: tensor([-0.5240,  2.9264])\n",
            "Epoch: 12, Loss: 28.853565216064453, Params: tensor([ 2.3336, -0.1295]), Grad: tensor([-0.5190,  2.9222])\n",
            "Epoch: 13, Loss: 28.76555633544922, Params: tensor([ 2.3388, -0.1587]), Grad: tensor([-0.5165,  2.9175])\n",
            "Epoch: 14, Loss: 28.6778507232666, Params: tensor([ 2.3439, -0.1878]), Grad: tensor([-0.5150,  2.9126])\n",
            "Epoch: 15, Loss: 28.590431213378906, Params: tensor([ 2.3491, -0.2169]), Grad: tensor([-0.5138,  2.9077])\n"
          ],
          "name": "stdout"
        },
        {
          "output_type": "execute_result",
          "data": {
            "text/plain": [
              "tensor([ 2.3491, -0.2169])"
            ]
          },
          "metadata": {
            "tags": []
          },
          "execution_count": 59
        }
      ]
    },
    {
      "cell_type": "markdown",
      "metadata": {
        "id": "esma89jxFA5y",
        "colab_type": "text"
      },
      "source": [
        "We can see that even with a learning rate of `1e-2`, the optimisation no longer explodes. Finally, let's run the model for 5,000 epochs and see the value of the parameters."
      ]
    },
    {
      "cell_type": "code",
      "metadata": {
        "id": "5YgJBAtWE_R8",
        "colab_type": "code",
        "colab": {}
      },
      "source": [
        "params = training_loop(\n",
        "    n_epochs = 5000,\n",
        "    learning_rate = 1e-2,\n",
        "    params = torch.tensor([1.0, 0.0]), # random initialisation\n",
        "    t_u = t_un,\n",
        "    t_c = t_c,\n",
        "    print_output = False\n",
        "    )"
      ],
      "execution_count": null,
      "outputs": []
    },
    {
      "cell_type": "code",
      "metadata": {
        "id": "UZkvPLe0H4uF",
        "colab_type": "code",
        "colab": {
          "base_uri": "https://localhost:8080/"
        },
        "outputId": "d88ef7ff-e728-4e7d-a8c8-55dd374db4c5"
      },
      "source": [
        "params"
      ],
      "execution_count": null,
      "outputs": [
        {
          "output_type": "execute_result",
          "data": {
            "text/plain": [
              "tensor([  5.3671, -17.3012])"
            ]
          },
          "metadata": {
            "tags": []
          },
          "execution_count": 64
        }
      ]
    },
    {
      "cell_type": "markdown",
      "metadata": {
        "id": "wGiOyifFH--F",
        "colab_type": "text"
      },
      "source": [
        "These values look familiar, as they are (very close to the value of) the parameters to go from Celsius to Fahrenheit degrees (the missing unit from the thermometers)\n",
        "\n",
        "We can visualise that this is a good fit, as follows:"
      ]
    },
    {
      "cell_type": "code",
      "metadata": {
        "id": "ppGxZ3HZH5sS",
        "colab_type": "code",
        "colab": {
          "base_uri": "https://localhost:8080/"
        },
        "outputId": "108c52ea-7119-4990-c538-a564a6806422"
      },
      "source": [
        "t_p = model(t_un, *params) # argument unpacking\n",
        "\n",
        "fig = plt.figure(dpi=300)\n",
        "plt.xlabel(\"F\")\n",
        "plt.ylabel(\"C\")\n",
        "plt.plot(t_u, t_p)\n",
        "plt.plot(t_u, t_c, 'o')"
      ],
      "execution_count": null,
      "outputs": [
        {
          "output_type": "execute_result",
          "data": {
            "text/plain": [
              "[<matplotlib.lines.Line2D at 0x7f3b0121fd68>]"
            ]
          },
          "metadata": {
            "tags": []
          },
          "execution_count": 72
        },
        {
          "output_type": "display_data",
          "data": {
            "image/png": "[encoded data removed]",
            "text/plain": [
              "<Figure size 1800x1200 with 1 Axes>"
            ]
          },
          "metadata": {
            "tags": [],
            "needs_background": "light"
          }
        }
      ]
    },
    {
      "cell_type": "markdown",
      "metadata": {
        "id": "5OOAmc8wKiZu",
        "colab_type": "text"
      },
      "source": [
        "## Using PyTorch's autograd (automatic gradient calculation)"
      ]
    },
    {
      "cell_type": "markdown",
      "metadata": {
        "id": "VLForWasKOXb",
        "colab_type": "text"
      },
      "source": [
        "PyTorch tensors can remember where they come from, in terms of the operations and parent tensors that originated them, and they can automatically provide the chain of derivatives of such operations with respect to their inputs. \n",
        "\n",
        "This means we won't need to derive our model by hand: given a forward expression, no matter how nested, PyTorch will automatically provide the gradient of that expression with respect to its input parameters."
      ]
    },
    {
      "cell_type": "code",
      "metadata": {
        "id": "tSBDEixmJnUX",
        "colab_type": "code",
        "colab": {
          "base_uri": "https://localhost:8080/",
          "height": 35
        },
        "outputId": "7eab230d-941d-4acd-ea3f-9df2a8546d28"
      },
      "source": [
        "# We can use autograd by passing the 'requires_grad=True' parameter when we \n",
        "# initialise the parameters\n",
        "params = torch.tensor([1.0, 0.0], requires_grad=True)\n",
        "\n",
        "loss = loss_fn(model(t_u, *params), t_c)\n",
        "loss.backward() # this triggers the calculation of the gradient\n",
        "\n",
        "# and we can see the gradient here:\n",
        "params.grad"
      ],
      "execution_count": null,
      "outputs": [
        {
          "output_type": "execute_result",
          "data": {
            "text/plain": [
              "tensor([4517.2969,   82.6000])"
            ]
          },
          "metadata": {
            "tags": []
          },
          "execution_count": 73
        }
      ]
    },
    {
      "cell_type": "markdown",
      "metadata": {
        "id": "fxWKMpkNTGjm",
        "colab_type": "text"
      },
      "source": [
        "** NOTE: ** PyTorch accumulates the value of derivatives in the grad attributes. this could lead to an incorrect value of the gradient if `backward` was called earlier.  \n",
        "\n",
        "At each iteration, We need to zero the gradient explicitly after using it for parameter updates, as follows:\n",
        "```\n",
        "if params.grad is not None:\n",
        "  params.grad.zero_()\n",
        "```"
      ]
    },
    {
      "cell_type": "code",
      "metadata": {
        "id": "aD46uvWSSeC3",
        "colab_type": "code",
        "colab": {}
      },
      "source": [
        "# We can now re-define the training loop using autograd\n",
        "def training_loop_auto(n_epochs, learning_rate, params, t_u, t_c):\n",
        "  for epoch in range(1, n_epochs + 1):\n",
        "    if params.grad is not None:\n",
        "      params.grad.zero_()\n",
        "\n",
        "    t_p = model(t_u, *params)\n",
        "    loss = loss_fn(t_p, t_c)\n",
        "    loss.backward() # this means that params.grad will now be calculated\n",
        "\n",
        "    with torch.no_grad(): # to prevent Pytorch from adding edges to the forward graph\n",
        "      params -= params.grad * learning_rate\n",
        "\n",
        "    if epoch % 500 == 0:\n",
        "      print(f'Epoch: {epoch}, Loss: {loss}, Grad: {params.grad}, Params: {params}')\n",
        "    \n",
        "  return params"
      ],
      "execution_count": null,
      "outputs": []
    },
    {
      "cell_type": "code",
      "metadata": {
        "id": "RLxTBHffZoir",
        "colab_type": "code",
        "colab": {
          "base_uri": "https://localhost:8080/",
          "height": 208
        },
        "outputId": "a66a302c-0990-411c-c4c1-8f2f1e1d1608"
      },
      "source": [
        "# Let's now run the training again - we should be getting the same result as \n",
        "# above. \n",
        "params = training_loop_auto(\n",
        "    n_epochs = 5000,\n",
        "    learning_rate = 1e-2,\n",
        "    params = torch.tensor([1.0, 0.0], requires_grad=True), # requires_grad set to true!\n",
        "    t_u = t_un,\n",
        "    t_c = t_c\n",
        "    )\n",
        "\n",
        "params"
      ],
      "execution_count": null,
      "outputs": [
        {
          "output_type": "stream",
          "text": [
            "Epoch: 500, Loss: 7.8601155281066895, Grad: tensor([-0.2252,  1.2748]), Params: tensor([ 4.0443, -9.8133], requires_grad=True)\n",
            "Epoch: 1000, Loss: 3.828537940979004, Grad: tensor([-0.0962,  0.5448]), Params: tensor([  4.8021, -14.1031], requires_grad=True)\n",
            "Epoch: 1500, Loss: 3.092191219329834, Grad: tensor([-0.0411,  0.2328]), Params: tensor([  5.1260, -15.9365], requires_grad=True)\n",
            "Epoch: 2000, Loss: 2.9576973915100098, Grad: tensor([-0.0176,  0.0995]), Params: tensor([  5.2644, -16.7200], requires_grad=True)\n",
            "Epoch: 2500, Loss: 2.933133840560913, Grad: tensor([-0.0075,  0.0425]), Params: tensor([  5.3236, -17.0549], requires_grad=True)\n",
            "Epoch: 3000, Loss: 2.9286482334136963, Grad: tensor([-0.0032,  0.0182]), Params: tensor([  5.3489, -17.1980], requires_grad=True)\n",
            "Epoch: 3500, Loss: 2.9278297424316406, Grad: tensor([-0.0014,  0.0078]), Params: tensor([  5.3597, -17.2591], requires_grad=True)\n",
            "Epoch: 4000, Loss: 2.9276793003082275, Grad: tensor([-0.0006,  0.0033]), Params: tensor([  5.3643, -17.2853], requires_grad=True)\n",
            "Epoch: 4500, Loss: 2.92765212059021, Grad: tensor([-0.0003,  0.0014]), Params: tensor([  5.3662, -17.2964], requires_grad=True)\n",
            "Epoch: 5000, Loss: 2.9276468753814697, Grad: tensor([-9.7513e-05,  6.1291e-04]), Params: tensor([  5.3671, -17.3012], requires_grad=True)\n"
          ],
          "name": "stdout"
        },
        {
          "output_type": "execute_result",
          "data": {
            "text/plain": [
              "tensor([  5.3671, -17.3012], requires_grad=True)"
            ]
          },
          "metadata": {
            "tags": []
          },
          "execution_count": 82
        }
      ]
    },
    {
      "cell_type": "markdown",
      "metadata": {
        "id": "4FMp94mYbx_6",
        "colab_type": "text"
      },
      "source": [
        "Looks like it's worked correctly!"
      ]
    },
    {
      "cell_type": "markdown",
      "metadata": {
        "id": "yBp9KoqDd-zI",
        "colab_type": "text"
      },
      "source": [
        "### Optimisers\n",
        "\n",
        "In the example above we have used *vanilla* gradient descent, but PyTorch makes many different optimiser available"
      ]
    },
    {
      "cell_type": "code",
      "metadata": {
        "id": "VVVanBdBa7ed",
        "colab_type": "code",
        "colab": {
          "base_uri": "https://localhost:8080/",
          "height": 173
        },
        "outputId": "b507d467-6ebd-453f-c61e-f35d535c1aca"
      },
      "source": [
        "import torch.optim as optim\n",
        "\n",
        "dir(optim)[1:10]"
      ],
      "execution_count": null,
      "outputs": [
        {
          "output_type": "execute_result",
          "data": {
            "text/plain": [
              "['Adadelta',\n",
              " 'Adagrad',\n",
              " 'Adam',\n",
              " 'AdamW',\n",
              " 'Adamax',\n",
              " 'LBFGS',\n",
              " 'Optimizer',\n",
              " 'RMSprop',\n",
              " 'Rprop']"
            ]
          },
          "metadata": {
            "tags": []
          },
          "execution_count": 84
        }
      ]
    },
    {
      "cell_type": "code",
      "metadata": {
        "id": "FPHHnFw4eQsO",
        "colab_type": "code",
        "colab": {}
      },
      "source": [
        "# Let's use this in our training loop\n",
        "def training_loop_optim(n_epochs, optimizer, params, t_u, t_c):\n",
        "  for epoch in range(1, n_epochs + 1):\n",
        "    t_p = model(t_u, *params) # forward pass\n",
        "    loss = loss_fn(t_p, t_c) # calculate loss\n",
        "\n",
        "    optimizer.zero_grad() # reset gradient\n",
        "    loss.backward() # calculate gradient\n",
        "    optimizer.step() # update params\n",
        "\n",
        "    if epoch % 500 == 0:\n",
        "      print(f'Epoch: {epoch}, Loss: {loss}, Grad: {params.grad}, Params: {params}')\n",
        "    \n",
        "  return params"
      ],
      "execution_count": null,
      "outputs": []
    },
    {
      "cell_type": "code",
      "metadata": {
        "id": "Nqq7TfA6gVpw",
        "colab_type": "code",
        "colab": {
          "base_uri": "https://localhost:8080/",
          "height": 208
        },
        "outputId": "3f65deea-c1e7-4330-ea32-6a1abc66e48b"
      },
      "source": [
        "params = torch.tensor([1.0, 0.0], requires_grad=True) # requires_grad set to true!\n",
        "learning_rate = 1e-2\n",
        "optimizer = optim.SGD([params], lr=learning_rate)\n",
        "\n",
        "params = training_loop_optim(\n",
        "    n_epochs = 5000,\n",
        "    optimizer = optimizer,\n",
        "    params = params, # need to be the same object as defined above\n",
        "    t_u = t_un,\n",
        "    t_c = t_c\n",
        "    )\n",
        "\n",
        "params "
      ],
      "execution_count": null,
      "outputs": [
        {
          "output_type": "stream",
          "text": [
            "Epoch: 500, Loss: 7.8601179122924805, Grad: tensor([-0.2252,  1.2748]), Params: tensor([ 4.0443, -9.8133], requires_grad=True)\n",
            "Epoch: 1000, Loss: 3.828537940979004, Grad: tensor([-0.0962,  0.5448]), Params: tensor([  4.8021, -14.1031], requires_grad=True)\n",
            "Epoch: 1500, Loss: 3.092191219329834, Grad: tensor([-0.0411,  0.2328]), Params: tensor([  5.1260, -15.9365], requires_grad=True)\n",
            "Epoch: 2000, Loss: 2.9576973915100098, Grad: tensor([-0.0176,  0.0995]), Params: tensor([  5.2644, -16.7200], requires_grad=True)\n",
            "Epoch: 2500, Loss: 2.933133840560913, Grad: tensor([-0.0075,  0.0425]), Params: tensor([  5.3236, -17.0549], requires_grad=True)\n",
            "Epoch: 3000, Loss: 2.9286482334136963, Grad: tensor([-0.0032,  0.0182]), Params: tensor([  5.3489, -17.1980], requires_grad=True)\n",
            "Epoch: 3500, Loss: 2.9278297424316406, Grad: tensor([-0.0014,  0.0078]), Params: tensor([  5.3597, -17.2591], requires_grad=True)\n",
            "Epoch: 4000, Loss: 2.927680253982544, Grad: tensor([-0.0006,  0.0033]), Params: tensor([  5.3643, -17.2853], requires_grad=True)\n",
            "Epoch: 4500, Loss: 2.9276506900787354, Grad: tensor([-0.0002,  0.0014]), Params: tensor([  5.3662, -17.2964], requires_grad=True)\n",
            "Epoch: 5000, Loss: 2.927647590637207, Grad: tensor([-0.0001,  0.0006]), Params: tensor([  5.3671, -17.3012], requires_grad=True)\n"
          ],
          "name": "stdout"
        },
        {
          "output_type": "execute_result",
          "data": {
            "text/plain": [
              "tensor([  5.3671, -17.3012], requires_grad=True)"
            ]
          },
          "metadata": {
            "tags": []
          },
          "execution_count": 106
        }
      ]
    },
    {
      "cell_type": "markdown",
      "metadata": {
        "id": "vMFyyi-Zh4F3",
        "colab_type": "text"
      },
      "source": [
        "We can swap the optimiser for something more sophisticated like `Adam` which will also not care so much about the scaling of the inputs. To show that `Adam` is better, we set the number of epochs to 2000 and see if we get the same results. We can also use a bigger learning rate"
      ]
    },
    {
      "cell_type": "code",
      "metadata": {
        "id": "AAJdr7eShm-L",
        "colab_type": "code",
        "colab": {
          "base_uri": "https://localhost:8080/",
          "height": 104
        },
        "outputId": "37af8056-c204-450a-cc0a-722477102bce"
      },
      "source": [
        "params = torch.tensor([1.0, 0.0], requires_grad=True) # requires_grad set to true!\n",
        "learning_rate = 1e-1\n",
        "optimizer = optim.Adam([params], lr=learning_rate)\n",
        "\n",
        "params = training_loop_optim(\n",
        "    n_epochs = 2000,\n",
        "    optimizer = optimizer,\n",
        "    params = params, # need to be the same object as defined above\n",
        "    t_u = t_u,\n",
        "    t_c = t_c\n",
        "    )\n",
        "\n",
        "params "
      ],
      "execution_count": null,
      "outputs": [
        {
          "output_type": "stream",
          "text": [
            "Epoch: 500, Loss: 7.612902641296387, Grad: tensor([-1.1790,  1.2604]), Params: tensor([  0.4081, -10.0095], requires_grad=True)\n",
            "Epoch: 1000, Loss: 3.086700201034546, Grad: tensor([-0.2160,  0.2322]), Params: tensor([  0.5131, -15.9629], requires_grad=True)\n",
            "Epoch: 1500, Loss: 2.9285781383514404, Grad: tensor([-0.0167,  0.0178]), Params: tensor([  0.5350, -17.2022], requires_grad=True)\n",
            "Epoch: 2000, Loss: 2.9276459217071533, Grad: tensor([-0.0001,  0.0005]), Params: tensor([  0.5367, -17.3021], requires_grad=True)\n"
          ],
          "name": "stdout"
        },
        {
          "output_type": "execute_result",
          "data": {
            "text/plain": [
              "tensor([  0.5367, -17.3021], requires_grad=True)"
            ]
          },
          "metadata": {
            "tags": []
          },
          "execution_count": 113
        }
      ]
    },
    {
      "cell_type": "markdown",
      "metadata": {
        "id": "Dy4RIkQdkFOn",
        "colab_type": "text"
      },
      "source": [
        "## Splitting datasets and autograd"
      ]
    },
    {
      "cell_type": "markdown",
      "metadata": {
        "id": "o2pli8n-qg_b",
        "colab_type": "text"
      },
      "source": [
        "We should evaluate the model both on the training and validation sets. The *training loss* tells us if the model has the capacity to approximate the underlying function: if this loss stops falling, then the model is probably too simple. The *validation loss* tells us whether the model is able to generalise, i.e. we're not overfitting it to the training data. If we are, a simpler model could actually be a better choice."
      ]
    },
    {
      "cell_type": "code",
      "metadata": {
        "id": "j7Zq5UQ9juJt",
        "colab_type": "code",
        "colab": {
          "base_uri": "https://localhost:8080/",
          "height": 52
        },
        "outputId": "6cc94b92-007a-412e-a35e-530c9b77ebc6"
      },
      "source": [
        "# We can split the data into training and validation sets using the 'randperm'\n",
        "# function\n",
        "\n",
        "n_samples = t_u.shape[0]\n",
        "n_val = int(0.2 * n_samples)\n",
        "print(n_val)\n",
        "\n",
        "shuffled_indices = torch.randperm(n_samples)\n",
        "train_indices = shuffled_indices[:-n_val]\n",
        "val_indices = shuffled_indices[-n_val:]\n",
        "\n",
        "print(train_indices, val_indices)"
      ],
      "execution_count": null,
      "outputs": [
        {
          "output_type": "stream",
          "text": [
            "2\n",
            "tensor([ 9,  0, 10,  5,  4,  7,  8,  6,  1]) tensor([3, 2])\n"
          ],
          "name": "stdout"
        }
      ]
    },
    {
      "cell_type": "code",
      "metadata": {
        "id": "N_uIbbdhj9jY",
        "colab_type": "code",
        "colab": {}
      },
      "source": [
        "train_t_u = t_u[train_indices]\n",
        "train_t_c = t_c[train_indices]\n",
        "\n",
        "val_t_u = t_u[val_indices]\n",
        "val_t_c = t_c[val_indices]"
      ],
      "execution_count": null,
      "outputs": []
    },
    {
      "cell_type": "code",
      "metadata": {
        "id": "bwSx9-HTxh1-",
        "colab_type": "code",
        "colab": {}
      },
      "source": [
        "train_t_un = 0.1 * train_t_u\n",
        "val_t_un = 0.1 * val_t_u"
      ],
      "execution_count": null,
      "outputs": []
    },
    {
      "cell_type": "code",
      "metadata": {
        "id": "vVk1D6xcxnS1",
        "colab_type": "code",
        "colab": {}
      },
      "source": [
        "# Let's now rewrite the training loop function. Note that it doesn't change that\n",
        "# much. We simply add the calculation of the validation loss to monitor how the\n",
        "# model performs on that\n",
        "def training_loop_val(n_epochs, optimizer, params, train_t_u, train_t_c, val_t_u, val_t_c):\n",
        "  for epoch in range(1, n_epochs + 1):\n",
        "\n",
        "    train_t_p = model(train_t_u, *params) # forward pass\n",
        "    train_loss = loss_fn(train_t_p, train_t_c) # calculate loss\n",
        "\n",
        "    val_t_p = model(val_t_u, *params)\n",
        "    val_loss = loss_fn(val_t_p, val_t_c) # we do not do val_loss.backward() as we're not training on the validation set\n",
        "\n",
        "    optimizer.zero_grad() # reset the gradient\n",
        "    train_loss.backward() # calculate gradient\n",
        "    optimizer.step() # update parameters\n",
        "\n",
        "    if epoch % 500 == 0:\n",
        "      print(f'Epoch: {epoch}, Training loss: {train_loss}, Validation loss: {val_loss}')\n",
        "    \n",
        "  return params    "
      ],
      "execution_count": null,
      "outputs": []
    },
    {
      "cell_type": "code",
      "metadata": {
        "id": "fslA3bqMzTBk",
        "colab_type": "code",
        "colab": {
          "base_uri": "https://localhost:8080/",
          "height": 208
        },
        "outputId": "6db7d2cb-0f43-4898-c883-92c292b5d9fd"
      },
      "source": [
        "params = torch.tensor([1.0, 0.0], requires_grad=True)\n",
        "learning_rate = 1e-2\n",
        "optimizer = optim.SGD(params = [params], lr = learning_rate)\n",
        "\n",
        "params = training_loop_val(\n",
        "    n_epochs = 5000,\n",
        "    optimizer = optimizer,\n",
        "    params = params,\n",
        "    train_t_u = train_t_un,\n",
        "    train_t_c = train_t_c,\n",
        "    val_t_u = val_t_un,\n",
        "    val_t_c = val_t_c\n",
        ")\n",
        "\n",
        "params"
      ],
      "execution_count": null,
      "outputs": [
        {
          "output_type": "stream",
          "text": [
            "Epoch: 500, Training loss: 7.51862907409668, Validation loss: 29.44275665283203\n",
            "Epoch: 1000, Training loss: 3.979889392852783, Validation loss: 13.96703052520752\n",
            "Epoch: 1500, Training loss: 3.195734977722168, Validation loss: 8.71289348602295\n",
            "Epoch: 2000, Training loss: 3.021970510482788, Validation loss: 6.689552307128906\n",
            "Epoch: 2500, Training loss: 2.983468532562256, Validation loss: 5.836835861206055\n",
            "Epoch: 3000, Training loss: 2.974938154220581, Validation loss: 5.4575324058532715\n",
            "Epoch: 3500, Training loss: 2.9730446338653564, Validation loss: 5.283868789672852\n",
            "Epoch: 4000, Training loss: 2.9726269245147705, Validation loss: 5.203215599060059\n",
            "Epoch: 4500, Training loss: 2.972532272338867, Validation loss: 5.165488243103027\n",
            "Epoch: 5000, Training loss: 2.9725141525268555, Validation loss: 5.147782325744629\n"
          ],
          "name": "stdout"
        },
        {
          "output_type": "execute_result",
          "data": {
            "text/plain": [
              "tensor([  5.0381, -15.9977], requires_grad=True)"
            ]
          },
          "metadata": {
            "tags": []
          },
          "execution_count": 147
        }
      ]
    },
    {
      "cell_type": "markdown",
      "metadata": {
        "id": "Jwvc94lE2jlG",
        "colab_type": "text"
      },
      "source": [
        "We can see that both the training loss and the validation loss are falling, which means the model has the capacity to fit the underlying function well, as well as the ability to generalise (note that we're validating on just two observations, but this is a simple problem)\n",
        "\n",
        "Finally, we note that while we call no `backward()` on the validation loss, PyTorch still builds the computational graph for this tensor, which could have an impact on performance for very large model. We can therefore modify the training loop to prevent this from happening."
      ]
    },
    {
      "cell_type": "code",
      "metadata": {
        "id": "h05G8SIk1f94",
        "colab_type": "code",
        "colab": {}
      },
      "source": [
        "def training_loop_val+optimised(n_epochs, optimizer, params, train_t_u, train_t_c, val_t_u, val_t_c):\n",
        "  for epoch in range(1, n_epochs + 1):\n",
        "\n",
        "    train_t_p = model(train_t_u, *params) # forward pass\n",
        "    train_loss = loss_fn(train_t_p, train_t_c) # calculate loss\n",
        "\n",
        "    with torch.no_grad:\n",
        "      val_t_p = model(val_t_u, *params)\n",
        "      val_loss = loss_fn(val_t_p, val_t_c)\n",
        "      assert val_loss.requires_grad == False # to make sure autograd is not used here\n",
        "\n",
        "    optimizer.zero_grad() # reset the gradient\n",
        "    train_loss.backward() # calculate gradient\n",
        "    optimizer.step() # update parameters\n",
        "\n",
        "    if epoch % 500 == 0:\n",
        "      print(f'Epoch: {epoch}, Training loss: {train_loss}, Validation loss: {val_loss}')\n",
        "    \n",
        "  return params   "
      ],
      "execution_count": null,
      "outputs": []
    },
    {
      "cell_type": "markdown",
      "metadata": {
        "id": "nZSHuQZb8F56",
        "colab_type": "text"
      },
      "source": [
        "## Exercise\n",
        "Assume the model is now `w2 * t_u ** 2 + w1 * t_u + b`. What needs to change and what stays the same?"
      ]
    },
    {
      "cell_type": "code",
      "metadata": {
        "id": "B8uxeMy38TJz",
        "colab_type": "code",
        "colab": {}
      },
      "source": [
        "# Only thing that needs to change is the actual model, the loss function will be\n",
        "# the same\n",
        "def new_model(t_u, w2, w1, b):\n",
        "  return w2 * t_u ** 2 + w1 * t_u + b"
      ],
      "execution_count": null,
      "outputs": []
    },
    {
      "cell_type": "code",
      "metadata": {
        "id": "U20iHJYy9sFh",
        "colab_type": "code",
        "colab": {}
      },
      "source": [
        "# Same for the inputs and validation sets, while the params will be three\n",
        "# Let's rewrite the training loop for practice\n",
        "\n",
        "def new_training_loop(n_epochs, optimizer, params, train_t_u, train_t_c, val_t_u, val_t_c):\n",
        "  for epoch in range(1, n_epochs + 1):\n",
        "\n",
        "    train_t_p = new_model(train_t_u, *params) # forward pass\n",
        "    train_loss = loss_fn(train_t_p, train_t_c) # calculate training loss\n",
        "\n",
        "    with torch.no_grad():\n",
        "      val_t_p = new_model(val_t_u, *params)\n",
        "      val_loss = loss_fn(val_t_p, val_t_c)\n",
        "      assert val_loss.requires_grad == False\n",
        "\n",
        "    optimizer.zero_grad() # reset the gradient\n",
        "    train_loss.backward() # calculate the gradient\n",
        "    optimizer.step() # update the parameters\n",
        "\n",
        "    if epoch % 500 == 0:\n",
        "      print(f'Epoch: {epoch}, Train loss: {train_loss}, Val loss: {val_loss}')\n",
        "  \n",
        "  return params"
      ],
      "execution_count": null,
      "outputs": []
    },
    {
      "cell_type": "code",
      "metadata": {
        "id": "KxLB8-Br-FE7",
        "colab_type": "code",
        "colab": {
          "base_uri": "https://localhost:8080/",
          "height": 208
        },
        "outputId": "3d7c7b80-51b8-40d4-8751-fa1b5669cb21"
      },
      "source": [
        "params = torch.tensor([1.0, 1.0, 0.0], requires_grad=True)\n",
        "learning_rate = 1e-1\n",
        "optimizer = optim.Adam([params], lr=learning_rate)\n",
        "\n",
        "params = new_training_loop(\n",
        "    n_epochs = 5000,\n",
        "    optimizer = optimizer,\n",
        "    params = params,\n",
        "    train_t_u = train_t_u,\n",
        "    train_t_c = train_t_c,\n",
        "    val_t_u = val_t_u,\n",
        "    val_t_c = val_t_c\n",
        ")\n",
        "\n",
        "params"
      ],
      "execution_count": null,
      "outputs": [
        {
          "output_type": "stream",
          "text": [
            "Epoch: 500, Train loss: 4.948853015899658, Val loss: 2.371265411376953\n",
            "Epoch: 1000, Train loss: 3.1130123138427734, Val loss: 5.368891716003418\n",
            "Epoch: 1500, Train loss: 2.4230473041534424, Val loss: 11.829986572265625\n",
            "Epoch: 2000, Train loss: 2.2883412837982178, Val loss: 16.39069366455078\n",
            "Epoch: 2500, Train loss: 2.2722256183624268, Val loss: 18.053081512451172\n",
            "Epoch: 3000, Train loss: 2.2666101455688477, Val loss: 18.296436309814453\n",
            "Epoch: 3500, Train loss: 2.260054349899292, Val loss: 18.15570068359375\n",
            "Epoch: 4000, Train loss: 2.251817464828491, Val loss: 17.920482635498047\n",
            "Epoch: 4500, Train loss: 2.241586446762085, Val loss: 17.62169075012207\n",
            "Epoch: 5000, Train loss: 2.229031562805176, Val loss: 17.249906539916992\n"
          ],
          "name": "stdout"
        },
        {
          "output_type": "execute_result",
          "data": {
            "text/plain": [
              "tensor([ 0.0074, -0.1696, -2.0454], requires_grad=True)"
            ]
          },
          "metadata": {
            "tags": []
          },
          "execution_count": 184
        }
      ]
    },
    {
      "cell_type": "markdown",
      "metadata": {
        "id": "-EJE_qyADgLA",
        "colab_type": "text"
      },
      "source": [
        "The performance is worse in this case, as we're trying to fit a non-linear model to linear data. Essentially, there's too many parameters, so while the training loss function starts small and converges fast, the validation loss function grows and never really falls. This indicates overfitting, and this model is not able to generalise."
      ]
    }
  ]
}